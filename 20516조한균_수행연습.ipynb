{
  "nbformat": 4,
  "nbformat_minor": 0,
  "metadata": {
    "colab": {
      "provenance": [],
      "authorship_tag": "ABX9TyNFP3+zoztncLIAN7W9ejF1",
      "include_colab_link": true
    },
    "kernelspec": {
      "name": "python3",
      "display_name": "Python 3"
    },
    "language_info": {
      "name": "python"
    }
  },
  "cells": [
    {
      "cell_type": "markdown",
      "metadata": {
        "id": "view-in-github",
        "colab_type": "text"
      },
      "source": [
        "<a href=\"https://colab.research.google.com/github/JoHanGyun/python.if/blob/main/20516%EC%A1%B0%ED%95%9C%EA%B7%A0_%EC%88%98%ED%96%89%EC%97%B0%EC%8A%B5.ipynb\" target=\"_parent\"><img src=\"https://colab.research.google.com/assets/colab-badge.svg\" alt=\"Open In Colab\"/></a>"
      ]
    },
    {
      "cell_type": "markdown",
      "source": [
        "#### page1"
      ],
      "metadata": {
        "id": "wGwE0Jyk6lWd"
      }
    },
    {
      "cell_type": "code",
      "execution_count": 4,
      "metadata": {
        "colab": {
          "base_uri": "https://localhost:8080/"
        },
        "id": "RLbCh2_D5qv4",
        "outputId": "1dec5fc3-c64c-45b3-b829-97d17807bcc9"
      },
      "outputs": [
        {
          "output_type": "stream",
          "name": "stdout",
          "text": [
            "I said \"Hello\"to you.\n",
            "Let`s go.\n"
          ]
        }
      ],
      "source": [
        "print('I said \"Hello\"to you.')\n",
        "print(\"Let`s go.\")"
      ]
    },
    {
      "cell_type": "code",
      "source": [
        "a=int(input(\"삼각형의 밑변 길이:\"))\n",
        "b=int(input(\"삼각형의 높이:\"))\n",
        "c=a*b*(1/2)\n",
        "print(\"삼각형의 면적은\",c)"
      ],
      "metadata": {
        "colab": {
          "base_uri": "https://localhost:8080/"
        },
        "id": "HmWM3Tum7GKL",
        "outputId": "3903cb65-c2e3-4128-80cf-908595f892d0"
      },
      "execution_count": 10,
      "outputs": [
        {
          "output_type": "stream",
          "name": "stdout",
          "text": [
            "삼각형의 밑변 길이:10\n",
            "삼각형의 높이:3\n",
            "삼각형의 면적은 15.0\n"
          ]
        }
      ]
    },
    {
      "cell_type": "code",
      "source": [
        "a=int(input(\"현재 시:\"))\n",
        "b=int(input(\"현재 분:\"))\n",
        "if (b+20>60)and(a<23):\n",
        "  a+=1\n",
        "  b=b-40\n",
        "  print(\"20분뒤에는\",a,\"시\",b,\"분 입니다.\")\n",
        "elif (b+20>60)and (a==23):\n",
        "  a=0\n",
        "  b=b-40\n",
        "  print(\"20분뒤에는\",a,\"시\",b,\"분 입니다.\")\n",
        "else:\n",
        "  b=b+20\n",
        "  print(\"20분뒤에는\",a,\"시\",b,\"분 입니다.\")"
      ],
      "metadata": {
        "colab": {
          "base_uri": "https://localhost:8080/"
        },
        "id": "um2jTWjs7ywL",
        "outputId": "86a029e2-891f-4c42-b4b0-acfd3e27a706"
      },
      "execution_count": 27,
      "outputs": [
        {
          "output_type": "stream",
          "name": "stdout",
          "text": [
            "현재 시:16\n",
            "현재 분:55\n",
            "20분뒤에는 17 시 15 분 입니다.\n"
          ]
        }
      ]
    },
    {
      "cell_type": "code",
      "source": [
        "a=int(input(\"숫자 입력\"))\n",
        "if a>0:\n",
        "  print(a)\n",
        "else:\n",
        "  print(-a)\n"
      ],
      "metadata": {
        "colab": {
          "base_uri": "https://localhost:8080/"
        },
        "id": "vxTpUn7j9fDl",
        "outputId": "e26c113e-a89a-4738-a079-c6dd92726360"
      },
      "execution_count": 23,
      "outputs": [
        {
          "output_type": "stream",
          "name": "stdout",
          "text": [
            "숫자 입력-20\n",
            "20\n"
          ]
        }
      ]
    },
    {
      "cell_type": "code",
      "source": [
        "a=input(\"아이디를 입력하세요:\")\n",
        "b=int(input(\"회원 레벨을 입력하세요:\"))\n",
        "if (a=='admin')or (b==1):\n",
        "  print(\"관리자입니다.\")\n",
        "else:\n",
        "  print(\"관리자가 아닙니다.\")  "
      ],
      "metadata": {
        "colab": {
          "base_uri": "https://localhost:8080/"
        },
        "id": "94sT7LUt-9h8",
        "outputId": "8c7c8f10-058a-44a7-df9a-634c968ad49a"
      },
      "execution_count": 25,
      "outputs": [
        {
          "output_type": "stream",
          "name": "stdout",
          "text": [
            "아이디를 입력하세요:admin\n",
            "회원 레벨을 입력하세요:5\n",
            "관리자입니다.\n"
          ]
        }
      ]
    },
    {
      "cell_type": "code",
      "source": [
        "a=int(input(\"첫 번째 수:\"))\n",
        "b=int(input(\"두 번째 수:\"))\n",
        "c=int(input(\"세 번째 수:\"))\n",
        "if(a>b>c)or(a>b>c):\n",
        "  print(\"가장 큰 수는\",a,\"입니다.\")\n",
        "elif (b>a>c)or(b>c>a):\n",
        "   print(\"가장 큰 수는\",b,\"입니다.\")\n",
        "else:\n",
        "  print(\"가장 큰 수는\",c,\"입니다.\")"
      ],
      "metadata": {
        "colab": {
          "base_uri": "https://localhost:8080/"
        },
        "id": "KHbUyIYq_1jt",
        "outputId": "d00d9460-331c-4b08-e15e-5bd9646420d5"
      },
      "execution_count": 28,
      "outputs": [
        {
          "output_type": "stream",
          "name": "stdout",
          "text": [
            "첫 번째 수:10\n",
            "두 번째 수:20\n",
            "세 번째 수:30\n",
            "가장 큰 수는 30 입니다.\n"
          ]
        }
      ]
    },
    {
      "cell_type": "code",
      "source": [
        "a=int(input(\"나이 입력:\"))\n",
        "if (a<=7)and(a>=0):\n",
        "  print(\"어린이\")\n",
        "elif(a>=8)and(a<=13):\n",
        "  print(\"초등학생\")\n",
        "elif(a>=14)and(a<=16):\n",
        "  print(\"중학생\") \n",
        "elif(a>=17)and(a<=19):\n",
        "  print(\"고등학생\")\n",
        "else:\n",
        "  print(\"성인\")     "
      ],
      "metadata": {
        "colab": {
          "base_uri": "https://localhost:8080/"
        },
        "id": "xmpeQeATACeW",
        "outputId": "8201ec08-742a-40ed-f972-ab17e84a17fa"
      },
      "execution_count": 31,
      "outputs": [
        {
          "output_type": "stream",
          "name": "stdout",
          "text": [
            "나이 입력:18\n",
            "고등학생\n"
          ]
        }
      ]
    },
    {
      "cell_type": "code",
      "source": [
        "a=int(input(\"점수 입력:\"))\n",
        "if a>=90:\n",
        "  print(\"A등급입니다.\")\n",
        "elif a>=80:\n",
        "  print(\"B등급입니다.\")\n",
        "elif a>=70:\n",
        "  print(\"C등급입니다.\")  \n",
        "else:\n",
        "  print(\"F등급입니다.\")  "
      ],
      "metadata": {
        "colab": {
          "base_uri": "https://localhost:8080/"
        },
        "id": "QgO__C02ERSV",
        "outputId": "8c7f0623-d756-4702-eba9-d7cbc33efcc3"
      },
      "execution_count": 35,
      "outputs": [
        {
          "output_type": "stream",
          "name": "stdout",
          "text": [
            "점수 입력:65\n",
            "F등급입니다.\n"
          ]
        }
      ]
    },
    {
      "cell_type": "code",
      "source": [
        "a=int(input(\"숫자 입력:\"))\n",
        "if(a%3==0):\n",
        "  if(a%5==0):\n",
        "    print(\"3과5의 공배수\")\n",
        "  else:\n",
        "    print(\"3의 배수\")\n",
        "else:\n",
        "  print(\"3의 배수 아님\")       "
      ],
      "metadata": {
        "colab": {
          "base_uri": "https://localhost:8080/"
        },
        "id": "WEgtVYbxBM0s",
        "outputId": "7c61be31-d1ff-469d-a925-713397c72e36"
      },
      "execution_count": 38,
      "outputs": [
        {
          "output_type": "stream",
          "name": "stdout",
          "text": [
            "숫자 입력:10\n",
            "3의 배수 아님\n"
          ]
        }
      ]
    },
    {
      "cell_type": "code",
      "source": [
        "for i in range(1,20,2):\n",
        "  print(i,end=' ')       "
      ],
      "metadata": {
        "colab": {
          "base_uri": "https://localhost:8080/"
        },
        "id": "Xrl-v2UaGYVV",
        "outputId": "ee54d9b3-78c1-46c7-cef9-0657427ec2ad"
      },
      "execution_count": 48,
      "outputs": [
        {
          "output_type": "stream",
          "name": "stdout",
          "text": [
            "1 3 5 7 9 11 13 15 17 19 "
          ]
        }
      ]
    },
    {
      "cell_type": "code",
      "source": [
        "s=0\n",
        "for i in range(1,11):\n",
        "  s=s+i\n",
        "  print(\"num의 값:%d=> 합계:%d\"%(i,s))\n"
      ],
      "metadata": {
        "colab": {
          "base_uri": "https://localhost:8080/"
        },
        "id": "WleTfwAeH11u",
        "outputId": "1cb3a3f3-5aca-4db4-ffb1-63a5c006e2c1"
      },
      "execution_count": 53,
      "outputs": [
        {
          "output_type": "stream",
          "name": "stdout",
          "text": [
            "num의 값:1=> 합계:1\n",
            "num의 값:2=> 합계:3\n",
            "num의 값:3=> 합계:6\n",
            "num의 값:4=> 합계:10\n",
            "num의 값:5=> 합계:15\n",
            "num의 값:6=> 합계:21\n",
            "num의 값:7=> 합계:28\n",
            "num의 값:8=> 합계:36\n",
            "num의 값:9=> 합계:45\n",
            "num의 값:10=> 합계:55\n"
          ]
        }
      ]
    },
    {
      "cell_type": "code",
      "source": [
        "n=int(input(\"숫자 입력\"))\n",
        "pact=1\n",
        "for i in range(1,n+1):\n",
        "  pact=pact*i\n",
        "print(\"%d!=%d\"%(i,pact))"
      ],
      "metadata": {
        "colab": {
          "base_uri": "https://localhost:8080/"
        },
        "id": "9qMcrrGVKGWu",
        "outputId": "f8b77feb-722f-4c06-f8c6-a815b33e9894"
      },
      "execution_count": 56,
      "outputs": [
        {
          "output_type": "stream",
          "name": "stdout",
          "text": [
            "숫자 입력10\n",
            "10!=3628800\n"
          ]
        }
      ]
    },
    {
      "cell_type": "code",
      "source": [
        "import random\n",
        "cnt=0\n",
        "guess=0\n",
        "answer=random.randrange(1,100)\n",
        "print('1부터 100사이의 숫자 맞추기')\n",
        "print(answer)\n",
        "while guess!=answer:\n",
        "  guess=int(input('숫자를 맞춰 보세요:'))\n",
        "  cnt+=1\n",
        "  if guess>answer:\n",
        "    print(\"높음\")\n",
        "  elif guess<answer:\n",
        "    print(\"낮음\")\n",
        "\n",
        "print(\"축하합니다.\",\"시도횟수=\",cnt)"
      ],
      "metadata": {
        "colab": {
          "base_uri": "https://localhost:8080/"
        },
        "id": "piLLh6DAKqEO",
        "outputId": "3cd32603-205b-4a55-cfc8-eb2a4b5968cd"
      },
      "execution_count": 70,
      "outputs": [
        {
          "output_type": "stream",
          "name": "stdout",
          "text": [
            "1부터 100사이의 숫자 맞추기\n",
            "48\n",
            "숫자를 맞춰 보세요:48\n",
            "축하합니다. 시도횟수= 1\n"
          ]
        }
      ]
    },
    {
      "cell_type": "code",
      "source": [
        "for i in range(10,51):\n",
        "  if i%3!=0:\n",
        "    print(i,end=' ')"
      ],
      "metadata": {
        "colab": {
          "base_uri": "https://localhost:8080/"
        },
        "id": "KGRW013URjMY",
        "outputId": "66db553e-322b-4d6a-8c30-cab6a43883a3"
      },
      "execution_count": 67,
      "outputs": [
        {
          "output_type": "stream",
          "name": "stdout",
          "text": [
            "10 11 13 14 16 17 19 20 22 23 25 26 28 29 31 32 34 35 37 38 40 41 43 44 46 47 49 50 "
          ]
        }
      ]
    },
    {
      "cell_type": "code",
      "source": [
        "import random\n",
        "\n",
        "start = input('주사위를 던지려면 엔터를 누르세요: ')\n",
        "\n",
        "a = random.randrange(1,6)\n",
        "b = random.randrange(1,6)\n",
        "\n",
        "print(\"A의 주사위는 %d 입니다. \"%(a))\n",
        "print(\"B의 주사위는 %d 입니다. \"%(b))\n",
        "\n",
        "if a > b:\n",
        "    print('A가 이겼습니다.')\n",
        "    \n",
        "elif a == b:\n",
        "    print('비겼습니다.')\n",
        "    \n",
        "else:\n",
        "    print('B가 이겼습니다.')"
      ],
      "metadata": {
        "colab": {
          "base_uri": "https://localhost:8080/"
        },
        "id": "DDoBsjO1S1rY",
        "outputId": "f94c6fe4-fe5c-4470-b49a-cf200bdf7dec"
      },
      "execution_count": 71,
      "outputs": [
        {
          "output_type": "stream",
          "name": "stdout",
          "text": [
            "주사위를 던지려면 엔터를 누르세요: \n",
            "A의 주사위는 3 입니다. \n",
            "B의 주사위는 1 입니다. \n",
            "A가 이겼습니다.\n"
          ]
        }
      ]
    },
    {
      "cell_type": "code",
      "source": [
        "num=int(input(\"숫자 입력:\"))\n",
        "\n",
        "while num!=0:\n",
        "  print(num%10,end='')\n",
        "  num=num//10"
      ],
      "metadata": {
        "colab": {
          "base_uri": "https://localhost:8080/"
        },
        "id": "q67KGpbdUdkA",
        "outputId": "2a059f20-755c-4124-898f-9cff38865592"
      },
      "execution_count": 72,
      "outputs": [
        {
          "output_type": "stream",
          "name": "stdout",
          "text": [
            "숫자 입력:123456789\n",
            "987654321"
          ]
        }
      ]
    },
    {
      "cell_type": "code",
      "source": [
        "for i in range(1,10):\n",
        "  print(\"2*%d=%d\"%(i,i*2))"
      ],
      "metadata": {
        "colab": {
          "base_uri": "https://localhost:8080/"
        },
        "id": "3iiOz_OnVDCY",
        "outputId": "8441fd7a-af26-41e5-a3d9-70c9d10053c7"
      },
      "execution_count": 74,
      "outputs": [
        {
          "output_type": "stream",
          "name": "stdout",
          "text": [
            "2*1=2\n",
            "2*2=4\n",
            "2*3=6\n",
            "2*4=8\n",
            "2*5=10\n",
            "2*6=12\n",
            "2*7=14\n",
            "2*8=16\n",
            "2*9=18\n"
          ]
        }
      ]
    },
    {
      "cell_type": "code",
      "source": [
        "for i in range(9,0,-1):\n",
        "  print(\"2*%d=%d\"%(i,i*2))"
      ],
      "metadata": {
        "colab": {
          "base_uri": "https://localhost:8080/"
        },
        "id": "LL9Dc-h0ak6r",
        "outputId": "b65d5f1b-3eed-4fd6-c99c-50bbcf429ce3"
      },
      "execution_count": 76,
      "outputs": [
        {
          "output_type": "stream",
          "name": "stdout",
          "text": [
            "2*9=18\n",
            "2*8=16\n",
            "2*7=14\n",
            "2*6=12\n",
            "2*5=10\n",
            "2*4=8\n",
            "2*3=6\n",
            "2*2=4\n",
            "2*1=2\n"
          ]
        }
      ]
    },
    {
      "cell_type": "code",
      "source": [
        "max_p=0\n",
        "max_a=0\n",
        "\n",
        "for i in range(1,51):\n",
        "  if max_p<i*(100-i):\n",
        "    max_p=i*(100-i)\n",
        "    max_a=i\n",
        "print(max_a,\"*\",100-max_a,\"의 최대값은\",max_p,\"입니다.\")    "
      ],
      "metadata": {
        "colab": {
          "base_uri": "https://localhost:8080/"
        },
        "id": "hAzIOkWNa6LS",
        "outputId": "69b868b4-d7b0-4a57-d9d1-a2d9d80b6807"
      },
      "execution_count": 79,
      "outputs": [
        {
          "output_type": "stream",
          "name": "stdout",
          "text": [
            "50 * 50 의 최대값은 2500 입니다.\n"
          ]
        }
      ]
    },
    {
      "cell_type": "code",
      "source": [
        "\n",
        "num = int(input(\"정수를 입력하시오 : \"))\n",
        "\n",
        "count = 0\n",
        "for a in range(1, num+1):\n",
        "    if num == a:\n",
        "        print(a)\n",
        "        count += 1\n",
        "    elif num % a == 0:\n",
        "        print(a, end=' ')\n",
        "        count += 1"
      ],
      "metadata": {
        "colab": {
          "base_uri": "https://localhost:8080/"
        },
        "id": "cDJbQxpjbsyx",
        "outputId": "f34e4fc4-f4ae-4c25-f4d7-d1852425463b"
      },
      "execution_count": 85,
      "outputs": [
        {
          "output_type": "stream",
          "name": "stdout",
          "text": [
            "정수를 입력하시오 : 6\n",
            "1 2 3 6\n"
          ]
        }
      ]
    },
    {
      "cell_type": "code",
      "source": [],
      "metadata": {
        "id": "UYbdC38LcM5h"
      },
      "execution_count": null,
      "outputs": []
    },
    {
      "cell_type": "code",
      "source": [],
      "metadata": {
        "id": "sdXSrdVzbrOb"
      },
      "execution_count": null,
      "outputs": []
    }
  ]
}