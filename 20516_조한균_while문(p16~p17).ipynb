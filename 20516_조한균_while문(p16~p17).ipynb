{
  "nbformat": 4,
  "nbformat_minor": 0,
  "metadata": {
    "colab": {
      "provenance": [],
      "authorship_tag": "ABX9TyOBYPdAhwGsrIvjS0LQ12R8",
      "include_colab_link": true
    },
    "kernelspec": {
      "name": "python3",
      "display_name": "Python 3"
    },
    "language_info": {
      "name": "python"
    }
  },
  "cells": [
    {
      "cell_type": "markdown",
      "metadata": {
        "id": "view-in-github",
        "colab_type": "text"
      },
      "source": [
        "<a href=\"https://colab.research.google.com/github/JoHanGyun/python.if/blob/main/20516_%EC%A1%B0%ED%95%9C%EA%B7%A0_while%EB%AC%B8(p16~p17).ipynb\" target=\"_parent\"><img src=\"https://colab.research.google.com/assets/colab-badge.svg\" alt=\"Open In Colab\"/></a>"
      ]
    },
    {
      "cell_type": "code",
      "execution_count": 1,
      "metadata": {
        "colab": {
          "base_uri": "https://localhost:8080/"
        },
        "id": "KwuYqwutKZe-",
        "outputId": "55b127c9-56bd-4acb-e051-0ae58ad88990"
      },
      "outputs": [
        {
          "output_type": "stream",
          "name": "stdout",
          "text": [
            "안녕하세요\n",
            "안녕하세요\n",
            "안녕하세요\n"
          ]
        }
      ],
      "source": [
        "#p16_ex1\n",
        "count=0\n",
        "while count<3:\n",
        "  print('안녕하세요')\n",
        "  count+=1"
      ]
    },
    {
      "cell_type": "code",
      "source": [
        "#p16_ex2\n",
        "student=1\n",
        "while student<4:\n",
        "  print(student,'학생의 성적을 처리한다.')\n",
        "  student+=1"
      ],
      "metadata": {
        "colab": {
          "base_uri": "https://localhost:8080/"
        },
        "id": "ni3x_IzILCT-",
        "outputId": "269b3c91-8f95-46aa-d857-98395a390215"
      },
      "execution_count": 6,
      "outputs": [
        {
          "output_type": "stream",
          "name": "stdout",
          "text": [
            "1 학생의 성적을 처리한다.\n",
            "2 학생의 성적을 처리한다.\n",
            "3 학생의 성적을 처리한다.\n"
          ]
        }
      ]
    },
    {
      "cell_type": "code",
      "source": [
        "#p16_ex4\n",
        "a=int(input(\"원하는 단은?\"))\n",
        "i=1\n",
        "while i<10:\n",
        "  print(\"%d*%d=%d\"%(a,i,a*i))\n",
        "  i+=1"
      ],
      "metadata": {
        "colab": {
          "base_uri": "https://localhost:8080/"
        },
        "id": "8yQlCqnULbV-",
        "outputId": "7d6fc59e-be74-4daf-d8d4-bd5625494667"
      },
      "execution_count": 8,
      "outputs": [
        {
          "output_type": "stream",
          "name": "stdout",
          "text": [
            "원하는 단은?3\n",
            "3*1=3\n",
            "3*2=6\n",
            "3*3=9\n",
            "3*4=12\n",
            "3*5=15\n",
            "3*6=18\n",
            "3*7=21\n",
            "3*8=24\n",
            "3*9=27\n"
          ]
        }
      ]
    },
    {
      "cell_type": "code",
      "source": [
        "#p16_ex5\n",
        "i=1\n",
        "sum=0\n",
        "while i<=10:\n",
        "  sum+=i\n",
        "  i+=1\n",
        "  print(\"i의 값:%d  => 합계:%d\"%(i,sum))"
      ],
      "metadata": {
        "colab": {
          "base_uri": "https://localhost:8080/"
        },
        "id": "QaDVYxLoNHu-",
        "outputId": "8c7121ce-2d1b-40e9-b25f-ef3575709ea2"
      },
      "execution_count": 21,
      "outputs": [
        {
          "output_type": "stream",
          "name": "stdout",
          "text": [
            "i의 값:2  => 합계:1\n",
            "i의 값:3  => 합계:3\n",
            "i의 값:4  => 합계:6\n",
            "i의 값:5  => 합계:10\n",
            "i의 값:6  => 합계:15\n",
            "i의 값:7  => 합계:21\n",
            "i의 값:8  => 합계:28\n",
            "i의 값:9  => 합계:36\n",
            "i의 값:10  => 합계:45\n",
            "i의 값:11  => 합계:55\n"
          ]
        }
      ]
    },
    {
      "cell_type": "code",
      "source": [
        "#p16_ex6\n",
        "i=151\n",
        "sum=0\n",
        "while i<300:\n",
        "  sum+=i\n",
        "  i+=2\n",
        "  print(\"i의 값:%d  => 합계:%d\"%(i,sum))"
      ],
      "metadata": {
        "colab": {
          "base_uri": "https://localhost:8080/"
        },
        "id": "LI-vXEEkOcm8",
        "outputId": "c46e2702-8d87-410c-ec72-382fb30a41d9"
      },
      "execution_count": 23,
      "outputs": [
        {
          "output_type": "stream",
          "name": "stdout",
          "text": [
            "i의 값:153  => 합계:151\n",
            "i의 값:155  => 합계:304\n",
            "i의 값:157  => 합계:459\n",
            "i의 값:159  => 합계:616\n",
            "i의 값:161  => 합계:775\n",
            "i의 값:163  => 합계:936\n",
            "i의 값:165  => 합계:1099\n",
            "i의 값:167  => 합계:1264\n",
            "i의 값:169  => 합계:1431\n",
            "i의 값:171  => 합계:1600\n",
            "i의 값:173  => 합계:1771\n",
            "i의 값:175  => 합계:1944\n",
            "i의 값:177  => 합계:2119\n",
            "i의 값:179  => 합계:2296\n",
            "i의 값:181  => 합계:2475\n",
            "i의 값:183  => 합계:2656\n",
            "i의 값:185  => 합계:2839\n",
            "i의 값:187  => 합계:3024\n",
            "i의 값:189  => 합계:3211\n",
            "i의 값:191  => 합계:3400\n",
            "i의 값:193  => 합계:3591\n",
            "i의 값:195  => 합계:3784\n",
            "i의 값:197  => 합계:3979\n",
            "i의 값:199  => 합계:4176\n",
            "i의 값:201  => 합계:4375\n",
            "i의 값:203  => 합계:4576\n",
            "i의 값:205  => 합계:4779\n",
            "i의 값:207  => 합계:4984\n",
            "i의 값:209  => 합계:5191\n",
            "i의 값:211  => 합계:5400\n",
            "i의 값:213  => 합계:5611\n",
            "i의 값:215  => 합계:5824\n",
            "i의 값:217  => 합계:6039\n",
            "i의 값:219  => 합계:6256\n",
            "i의 값:221  => 합계:6475\n",
            "i의 값:223  => 합계:6696\n",
            "i의 값:225  => 합계:6919\n",
            "i의 값:227  => 합계:7144\n",
            "i의 값:229  => 합계:7371\n",
            "i의 값:231  => 합계:7600\n",
            "i의 값:233  => 합계:7831\n",
            "i의 값:235  => 합계:8064\n",
            "i의 값:237  => 합계:8299\n",
            "i의 값:239  => 합계:8536\n",
            "i의 값:241  => 합계:8775\n",
            "i의 값:243  => 합계:9016\n",
            "i의 값:245  => 합계:9259\n",
            "i의 값:247  => 합계:9504\n",
            "i의 값:249  => 합계:9751\n",
            "i의 값:251  => 합계:10000\n",
            "i의 값:253  => 합계:10251\n",
            "i의 값:255  => 합계:10504\n",
            "i의 값:257  => 합계:10759\n",
            "i의 값:259  => 합계:11016\n",
            "i의 값:261  => 합계:11275\n",
            "i의 값:263  => 합계:11536\n",
            "i의 값:265  => 합계:11799\n",
            "i의 값:267  => 합계:12064\n",
            "i의 값:269  => 합계:12331\n",
            "i의 값:271  => 합계:12600\n",
            "i의 값:273  => 합계:12871\n",
            "i의 값:275  => 합계:13144\n",
            "i의 값:277  => 합계:13419\n",
            "i의 값:279  => 합계:13696\n",
            "i의 값:281  => 합계:13975\n",
            "i의 값:283  => 합계:14256\n",
            "i의 값:285  => 합계:14539\n",
            "i의 값:287  => 합계:14824\n",
            "i의 값:289  => 합계:15111\n",
            "i의 값:291  => 합계:15400\n",
            "i의 값:293  => 합계:15691\n",
            "i의 값:295  => 합계:15984\n",
            "i의 값:297  => 합계:16279\n",
            "i의 값:299  => 합계:16576\n",
            "i의 값:301  => 합계:16875\n"
          ]
        }
      ]
    },
    {
      "cell_type": "code",
      "source": [
        "#p16_ex7\n",
        "print(\"-\"*15)\n",
        "print(\" 섭씨  화씨\")\n",
        "print(\"-\"*15)\n",
        "c=-5\n",
        "while c<=5:\n",
        "  f=c*9.0/5.0+32.0\n",
        "  print(\"%5d  %5.1f\"%(c,f))\n",
        "  c+=1\n",
        "  print(\"-\"*15)"
      ],
      "metadata": {
        "colab": {
          "base_uri": "https://localhost:8080/"
        },
        "id": "i_WE1WxBO5vd",
        "outputId": "37a487ae-c2a9-4ba7-99b2-de48ea2b8c9b"
      },
      "execution_count": 18,
      "outputs": [
        {
          "output_type": "stream",
          "name": "stdout",
          "text": [
            "---------------\n",
            " 섭씨  화씨\n",
            "---------------\n",
            "   -5   23.0\n",
            "---------------\n",
            "   -4   24.8\n",
            "---------------\n",
            "   -3   26.6\n",
            "---------------\n",
            "   -2   28.4\n",
            "---------------\n",
            "   -1   30.2\n",
            "---------------\n",
            "    0   32.0\n",
            "---------------\n",
            "    1   33.8\n",
            "---------------\n",
            "    2   35.6\n",
            "---------------\n",
            "    3   37.4\n",
            "---------------\n",
            "    4   39.2\n",
            "---------------\n",
            "    5   41.0\n",
            "---------------\n"
          ]
        }
      ]
    },
    {
      "cell_type": "code",
      "source": [
        "#p17_ex8\n",
        "a=10\n",
        "f=1\n",
        "while a>0:\n",
        "  f+=a\n",
        "  a-=1\n",
        "print(f)"
      ],
      "metadata": {
        "colab": {
          "base_uri": "https://localhost:8080/"
        },
        "id": "zCQ-3hz2P6TC",
        "outputId": "b4f8534f-5471-4dce-d34e-6ae71d048ebd"
      },
      "execution_count": 36,
      "outputs": [
        {
          "output_type": "stream",
          "name": "stdout",
          "text": [
            "56\n"
          ]
        }
      ]
    },
    {
      "cell_type": "code",
      "source": [
        "#p17_ex9\n",
        "i=2\n",
        "while i<=20:\n",
        "  print(\"%d\"%i)\n",
        "  i+=2"
      ],
      "metadata": {
        "colab": {
          "base_uri": "https://localhost:8080/"
        },
        "id": "rmVzkvJrQ6Ff",
        "outputId": "83b5bdc1-055f-481d-a1bb-a5ba98d745af"
      },
      "execution_count": 25,
      "outputs": [
        {
          "output_type": "stream",
          "name": "stdout",
          "text": [
            "2\n",
            "4\n",
            "6\n",
            "8\n",
            "10\n",
            "12\n",
            "14\n",
            "16\n",
            "18\n",
            "20\n"
          ]
        }
      ]
    },
    {
      "cell_type": "code",
      "source": [],
      "metadata": {
        "id": "a-tCxtljRIvQ"
      },
      "execution_count": null,
      "outputs": []
    }
  ]
}