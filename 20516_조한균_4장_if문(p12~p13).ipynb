{
  "nbformat": 4,
  "nbformat_minor": 0,
  "metadata": {
    "colab": {
      "provenance": [],
      "authorship_tag": "ABX9TyM6NhNbhyotlBQ5mFwnL958",
      "include_colab_link": true
    },
    "kernelspec": {
      "name": "python3",
      "display_name": "Python 3"
    },
    "language_info": {
      "name": "python"
    }
  },
  "cells": [
    {
      "cell_type": "markdown",
      "metadata": {
        "id": "view-in-github",
        "colab_type": "text"
      },
      "source": [
        "<a href=\"https://colab.research.google.com/github/JoHanGyun/python.if/blob/main/20516_%EC%A1%B0%ED%95%9C%EA%B7%A0_4%EC%9E%A5_if%EB%AC%B8(p12~p13).ipynb\" target=\"_parent\"><img src=\"https://colab.research.google.com/assets/colab-badge.svg\" alt=\"Open In Colab\"/></a>"
      ]
    },
    {
      "cell_type": "markdown",
      "source": [
        "### if조건문\n"
      ],
      "metadata": {
        "id": "Hm8mIO_DulIj"
      }
    },
    {
      "cell_type": "markdown",
      "source": [
        "#### p12"
      ],
      "metadata": {
        "id": "8GBL_x95utri"
      }
    },
    {
      "cell_type": "code",
      "execution_count": null,
      "metadata": {
        "colab": {
          "base_uri": "https://localhost:8080/"
        },
        "id": "r78wOLROs1Iz",
        "outputId": "73fc8f5a-9b1e-4512-c4fc-acd5af5b16d3"
      },
      "outputs": [
        {
          "output_type": "stream",
          "name": "stdout",
          "text": [
            "온도를 입력하세요:80\n",
            "물의 상태는 액체입니다.\n"
          ]
        }
      ],
      "source": [
        "a=int(input(\"온도를 입력하세요:\"))\n",
        "if a<0:\n",
        "  print(\"물의 상태는 고체입니다.\")\n",
        "elif a>=0 and a<100:\n",
        "  print(\"물의 상태는 액체입니다.\")\n",
        "else:\n",
        "    print(\"물의 상태는 기체입니다.\")"
      ]
    },
    {
      "cell_type": "code",
      "source": [
        "print(\" 1:매우만족  2:만족  3:불만족\")\n",
        "a=int(input(\"서비스가 어떠셨나여(예:1 또는 2 또는 3):\"))\n",
        "b=int(input(\"음식값을 입력해 주세요(예:8000):\"))\n",
        "if a==1:\n",
        "  print(\"팁:%d\"%(b*(20/100)))\n",
        "elif a==2:\n",
        "  print(\"팁:%d\"%(b*(10/100)))\n",
        "else:\n",
        "    print(\"팁:%d\"%(b*(5/100)))"
      ],
      "metadata": {
        "colab": {
          "base_uri": "https://localhost:8080/"
        },
        "id": "gnun_Rqmu0SN",
        "outputId": "5dc28553-2cf8-4f80-e079-820573973383"
      },
      "execution_count": null,
      "outputs": [
        {
          "output_type": "stream",
          "name": "stdout",
          "text": [
            " 1:매우만족  2:만족  3:불만족\n",
            "서비스가 어떠셨나여(예:1 또는 2 또는 3):2\n",
            "음식값을 입력해 주세요(예:8000):9000\n",
            "팁:900\n"
          ]
        }
      ]
    },
    {
      "cell_type": "code",
      "source": [
        "a=int(input(\"물건 구매가를 입력하세요:\"))\n",
        "if a>=10000 and a<50000:\n",
        "  print(\"구매가:%d원\"%(a))\n",
        "  print(\"할인율:5%\")\n",
        "  print(\"할인금액:%d원\"%(a*0.05))\n",
        "  print(\"지불금액:%d원\"%(a-(a*0.05)))\n",
        "elif a>=50000 and a<300000:\n",
        "  print(\"구매가:%d원\"%(a))\n",
        "  print(\"할인율:7.5%\")\n",
        "  print(\"할인금액:%d원\"%(a*0.075))\n",
        "  print(\"지불금액:%d원\"%(a-(a*0.075)))\n",
        "else:\n",
        "  print(\"구매가:%d원\"%(a))\n",
        "  print(\"할인율:10%\")\n",
        "  print(\"할인금액:%d원\"%(a*0.1))\n",
        "  print(\"지불금액:%d원\"%(a-(a*0.1)))"
      ],
      "metadata": {
        "colab": {
          "base_uri": "https://localhost:8080/"
        },
        "id": "UxXkNPcpwWz8",
        "outputId": "7d26047d-f500-45fc-c9b1-b6ecbd68b6f0"
      },
      "execution_count": null,
      "outputs": [
        {
          "output_type": "stream",
          "name": "stdout",
          "text": [
            "물건 구매가를 입력하세요:60000\n",
            "구매가:60000원\n",
            "할인율:7.5%\n",
            "할인금액:4500원\n",
            "지불금액:55500원\n"
          ]
        }
      ]
    },
    {
      "cell_type": "code",
      "source": [
        "print(\"원하시는 메뉴를 선택하세요\")\n",
        "print(\"1. 떡볶이 3000원\")\n",
        "print(\"2. 김밥 2500원\")\n",
        "print(\"3. 튀김 3500원\")\n",
        "a=int(input(\"번호입력:\"))\n",
        "if a==1:\n",
        "  print(\"당신은 떡볶이를 선택하셨군요!\")\n",
        "  b=int(input(\"떡볶이를 몇 인분 주문하시겠습니까?\"))\n",
        "  print(\"총가격은 %d원 입니다.\"%(b*3000))\n",
        "elif a==2:\n",
        "  print(\"당신은 김밥를 선택하셨군요!\")\n",
        "  b=int(input(\"김밥를 몇 인분 주문하시겠습니까?\"))\n",
        "  print(\"총가격은 %d원 입니다.\"%(b*2500))\n",
        "elif a==3:\n",
        "  print(\"당신은 튀김를 선택하셨군요!\")\n",
        "  b=int(input(\"튀김를 몇 인분 주문하시겠습니까?\"))\n",
        "  print(\"총가격은 %d원 입니다.\"%(b*3500))\n",
        "else:\n",
        "  print(\"1,2,3중 하나를 선택해주세요\")"
      ],
      "metadata": {
        "colab": {
          "base_uri": "https://localhost:8080/"
        },
        "id": "wgrzJkOu01vP",
        "outputId": "87a0a3b7-0cbd-4b98-e6fc-8ecfa196da23"
      },
      "execution_count": null,
      "outputs": [
        {
          "output_type": "stream",
          "name": "stdout",
          "text": [
            "원하시는 메뉴를 선택하세요\n",
            "1. 떡볶이 3000원\n",
            "2. 김밥 2500원\n",
            "3. 튀김 3500원\n",
            "번호입력:4\n",
            "1,2,3중 하나를 선택해주세요\n"
          ]
        }
      ]
    },
    {
      "cell_type": "code",
      "source": [
        "a=int(input(\"체중을 입력하세요:\"))\n",
        "b=float(input(\"키를 입력하세요(m):\"))\n",
        "bmi=a/b**2\n",
        "if bmi>=0 and bmi>=15:\n",
        "  s=\"정상\"\n",
        "elif bmi>15 or bmi>=25:\n",
        "  s=\"과체중\"\n",
        "else:\n",
        "  s=\"초과비만\"\n",
        "print(\"당신의 bmi지수는 %f 이며 %s입니다.\"%(bmi,s))"
      ],
      "metadata": {
        "colab": {
          "base_uri": "https://localhost:8080/"
        },
        "id": "Zutildi522_4",
        "outputId": "e4b94b95-42e9-401e-d0b1-b86cfcc790e2"
      },
      "execution_count": 27,
      "outputs": [
        {
          "output_type": "stream",
          "name": "stdout",
          "text": [
            "체중을 입력하세요:88\n",
            "키를 입력하세요(m):1.8\n",
            "당신의 bmi지수는 27.160494 이며 정상입니다.\n"
          ]
        }
      ]
    },
    {
      "cell_type": "code",
      "source": [
        "a=int(input(\"체중을 입력하세요:\"))\n",
        "b=int(input(\"키를 입력하세요(cm):\"))\n",
        "c=int(input(\"나이를 입력하세요:\"))\n",
        "d=input(\"성별을 입력하세요: 남자/여자\")\n",
        "if d==\"남자\":\n",
        "  s=66.47+(13.75*a)+(5*b)-(6.76*c)\n",
        "else:\n",
        "  s=655.1+(9.56*a)+(1.85*b)-(4.68*c)\n",
        "print(\"당신의 기초대사량은 %f입니다.\"%(s))"
      ],
      "metadata": {
        "id": "8bzhjSCA485n",
        "colab": {
          "base_uri": "https://localhost:8080/"
        },
        "outputId": "82a9cf80-37ae-4a0e-f590-640ea2cc0217"
      },
      "execution_count": 29,
      "outputs": [
        {
          "output_type": "stream",
          "name": "stdout",
          "text": [
            "체중을 입력하세요:90\n",
            "키를 입력하세요(cm):183\n",
            "나이를 입력하세요:49\n",
            "성별을 입력하세요: 남자/여자남자\n",
            "당신의 기초대사량은 1887.730000입니다.\n"
          ]
        }
      ]
    },
    {
      "cell_type": "code",
      "source": [
        "x=17\n",
        "if x>10:\n",
        "  if x % 2 == 0:\n",
        "    print(\"10초과 짝수\")\n",
        "  else:\n",
        "      print(\"10초과 홀수\")\n",
        "else:\n",
        "  print(\"10이하\")      "
      ],
      "metadata": {
        "colab": {
          "base_uri": "https://localhost:8080/"
        },
        "id": "-ydCNGRw9wMj",
        "outputId": "bf436694-1d71-4654-a4be-c70d096f54f6"
      },
      "execution_count": 34,
      "outputs": [
        {
          "output_type": "stream",
          "name": "stdout",
          "text": [
            "10초과 홀수\n"
          ]
        }
      ]
    },
    {
      "cell_type": "code",
      "source": [
        "a=input(\"아이디를 입력하세요\")\n",
        "if a==\"admin\":\n",
        "  print(\"모든 콘텐츠 이용 가능\")\n",
        "else:\n",
        "  b=int(input(\"회원 레벨을 입력해 주세요:\"))\n",
        "  if b>=2 and b<=7:\n",
        "    print(\"일부 콘텐츠 이용 가능\")\n",
        "  else : \n",
        "    print(\"콘텐츠 이용 불가\")"
      ],
      "metadata": {
        "colab": {
          "base_uri": "https://localhost:8080/"
        },
        "id": "Q4eWj_nw-s9B",
        "outputId": "62bed13e-03b2-414a-d13b-b1da2fbcbb74"
      },
      "execution_count": 36,
      "outputs": [
        {
          "output_type": "stream",
          "name": "stdout",
          "text": [
            "아이디를 입력하세요rubato\n",
            "회원 레벨을 입력해 주세요:3\n",
            "일부 콘텐츠 이용 가능\n"
          ]
        }
      ]
    },
    {
      "cell_type": "code",
      "source": [
        "a=int(input(\"현재년을 입력해 주세요:\"))\n",
        "b=int(input(\"현재월을 입력해주세요:\"))\n",
        "c=int(input(\"현재일을 입력해주세요:\"))\n",
        "d=int(input(\"출생년을 입력해주세요:\"))\n",
        "e=int(input(\"출생월을 입력해주세요:\"))\n",
        "f=int(input(\"출생일을 입력해주세요:\"))\n",
        "if e<b:\n",
        "  s=a-d\n",
        "elif e==b:\n",
        "  if f<c:\n",
        "    s=a-d\n",
        "  elif f>c:\n",
        "    s=a-d-1  \n",
        "else:\n",
        "  s=a-d\n",
        "print(\"-\"*50)\n",
        "print(\"오늘 날짜: %d년 %d월 %d일\" %(a,b,c))\n",
        "print(\"생년 월일: %d년 %d월 %d일\" %(d,e,f))\n",
        "print(\"-\"*50)\n",
        "print(\"만 나이: %d세\" %s)\n",
        "print(\"-\"*50)"
      ],
      "metadata": {
        "colab": {
          "base_uri": "https://localhost:8080/"
        },
        "id": "3bSqlj_cBDsJ",
        "outputId": "ab4eeab9-a7e9-44b1-f5c7-cfaa7869bcff"
      },
      "execution_count": 37,
      "outputs": [
        {
          "output_type": "stream",
          "name": "stdout",
          "text": [
            "현재년을 입력해 주세요:2020\n",
            "현재월을 입력해주세요:1\n",
            "현재일을 입력해주세요:27\n",
            "출생년을 입력해주세요:1997\n",
            "출생월을 입력해주세요:5\n",
            "출생일을 입력해주세요:7\n",
            "--------------------------------------------------\n",
            "오늘 날짜: 2020년 1월 27일\n",
            "생년 월일: 1997년 5월 7일\n",
            "--------------------------------------------------\n",
            "만 나이: 23세\n",
            "--------------------------------------------------\n"
          ]
        }
      ]
    },
    {
      "cell_type": "markdown",
      "source": [
        "#### 복습"
      ],
      "metadata": {
        "id": "GN1qVGarEald"
      }
    },
    {
      "cell_type": "code",
      "source": [
        "import datetime\n",
        "\n",
        "now=datetime.datetime.now()\n",
        "print(now)\n",
        "print(now.year)\n",
        "print(now.month)\n",
        "print(now.day)\n",
        "print(now.hour)\n",
        "print(now.minute)\n",
        "print(now.second)"
      ],
      "metadata": {
        "colab": {
          "base_uri": "https://localhost:8080/"
        },
        "id": "iTYdxNCNENTr",
        "outputId": "98661f90-ce53-47de-f538-f9b7501bcfe8"
      },
      "execution_count": 41,
      "outputs": [
        {
          "output_type": "stream",
          "name": "stdout",
          "text": [
            "2023-03-23 01:27:45.012945\n",
            "2023\n",
            "3\n",
            "23\n",
            "1\n",
            "27\n",
            "45\n"
          ]
        }
      ]
    },
    {
      "cell_type": "code",
      "source": [
        "a=int(input(\"몇월달인가요:\"))\n",
        "if a==12 and a<=2:\n",
        "  s=\"겨울\"\n",
        "elif a>=3 and a<=5:\n",
        "  s=\"봄\" \n",
        "elif a>=6 and a<=8:\n",
        "  s=\"여름\" \n",
        "else:\n",
        "  s=\"겨울\"\n",
        "print(\"이번 달은 %d월로 %s입니다!\" %(a,s))"
      ],
      "metadata": {
        "colab": {
          "base_uri": "https://localhost:8080/"
        },
        "id": "oq5kmkYjFA4J",
        "outputId": "20c12719-7639-42ee-8b91-33d03d88fd7d"
      },
      "execution_count": 43,
      "outputs": [
        {
          "output_type": "stream",
          "name": "stdout",
          "text": [
            "몇월달인가요:3\n",
            "이번 달은 3월로 봄입니다!\n"
          ]
        }
      ]
    },
    {
      "cell_type": "code",
      "source": [
        "import random\n",
        "sunny=random.randrange(1,3)\n",
        "time=random.randrange(0,23)\n",
        "print(\"좋은 아침입니다. 지금 시각은 %d시 입니다.\"%(time))\n",
        "if sunny==1:\n",
        "  print(\"현재 날씨가 화창합니다.\")\n",
        "elif sunny==2:\n",
        "  print(\"현재 날씨가 화창하지 않습니다.\")\n",
        "if 6<=time<=8:\n",
        "  print(\"종달새가 노래를 합니다.\")\n",
        "else:\n",
        "  print(\"종달새가 노래를 하지 않는다.\")"
      ],
      "metadata": {
        "colab": {
          "base_uri": "https://localhost:8080/"
        },
        "id": "ciMnDd4CGbkY",
        "outputId": "5239c993-3caa-4fa8-b3fd-6fb7ba85bec7"
      },
      "execution_count": 44,
      "outputs": [
        {
          "output_type": "stream",
          "name": "stdout",
          "text": [
            "좋은 아침입니다. 지금 시각은 18시 입니다.\n",
            "현재 날씨가 화창하지 않습니다.\n",
            "종달새가 노래를 하지 않는다.\n"
          ]
        }
      ]
    }
  ]
}