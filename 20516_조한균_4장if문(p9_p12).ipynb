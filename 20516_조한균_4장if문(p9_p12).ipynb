{
  "nbformat": 4,
  "nbformat_minor": 0,
  "metadata": {
    "colab": {
      "provenance": []
    },
    "kernelspec": {
      "name": "python3",
      "display_name": "Python 3"
    },
    "language_info": {
      "name": "python"
    }
  },
  "cells": [
    {
      "cell_type": "markdown",
      "source": [
        "###  if조건문"
      ],
      "metadata": {
        "id": "j5BdyMHIsKT6"
      }
    },
    {
      "cell_type": "markdown",
      "source": [
        "#### page9"
      ],
      "metadata": {
        "id": "PzHFd55QsQSq"
      }
    },
    {
      "cell_type": "code",
      "source": [
        "if 3<5:\n",
        "  print(\"Hello World\")"
      ],
      "metadata": {
        "colab": {
          "base_uri": "https://localhost:8080/"
        },
        "id": "81UmbJPdsT5D",
        "outputId": "09d3395e-c0d6-4653-e34f-448c0b21bd0b"
      },
      "execution_count": 2,
      "outputs": [
        {
          "output_type": "stream",
          "name": "stdout",
          "text": [
            "Hello World\n"
          ]
        }
      ]
    },
    {
      "cell_type": "code",
      "source": [
        "if 3>5:\n",
        "  print(\"Hello World\")"
      ],
      "metadata": {
        "id": "RF-fujmishvq"
      },
      "execution_count": 8,
      "outputs": []
    },
    {
      "cell_type": "code",
      "source": [
        "age=int(input(\"몇살입니까?\"))\n",
        "if age<20:\n",
        "  print(\"학생입니다.\")"
      ],
      "metadata": {
        "colab": {
          "base_uri": "https://localhost:8080/"
        },
        "id": "XxVwjijCsuq6",
        "outputId": "0998808b-cad1-4b5c-9ebd-2a2595e58e2c"
      },
      "execution_count": 9,
      "outputs": [
        {
          "output_type": "stream",
          "name": "stdout",
          "text": [
            "몇살입니까?19\n",
            "학생입니다.\n"
          ]
        }
      ]
    },
    {
      "cell_type": "code",
      "source": [
        "age=15\n",
        "if age<20:\n",
        "  print(\"학생입니다.\")\n",
        "  print(\"안녕히가세요\")"
      ],
      "metadata": {
        "colab": {
          "base_uri": "https://localhost:8080/"
        },
        "id": "a1VPY-XGtI8a",
        "outputId": "5c8b7417-9ad2-4bca-cd4a-1d238960447d"
      },
      "execution_count": 12,
      "outputs": [
        {
          "output_type": "stream",
          "name": "stdout",
          "text": [
            "학생입니다.\n",
            "안녕히가세요\n"
          ]
        }
      ]
    },
    {
      "cell_type": "code",
      "source": [
        "age=20\n",
        "if age<20:\n",
        "  print(\"학생입니다.\")\n",
        "print(\"안녕히가세요\")"
      ],
      "metadata": {
        "colab": {
          "base_uri": "https://localhost:8080/"
        },
        "id": "h7j6Py3utbzz",
        "outputId": "91a5c8d9-2a30-4933-a450-984f6b974c07"
      },
      "execution_count": 13,
      "outputs": [
        {
          "output_type": "stream",
          "name": "stdout",
          "text": [
            "안녕히가세요\n"
          ]
        }
      ]
    },
    {
      "cell_type": "code",
      "source": [
        "print(3==5)\n",
        "print(3!=5)\n",
        "print(3<5)"
      ],
      "metadata": {
        "colab": {
          "base_uri": "https://localhost:8080/"
        },
        "id": "b4QFmNkftrcq",
        "outputId": "b5f39b7c-df97-4db5-d851-333f283dd078"
      },
      "execution_count": 14,
      "outputs": [
        {
          "output_type": "stream",
          "name": "stdout",
          "text": [
            "False\n",
            "True\n",
            "True\n"
          ]
        }
      ]
    },
    {
      "cell_type": "code",
      "source": [
        "x=4\n",
        "print(1<x<5)"
      ],
      "metadata": {
        "colab": {
          "base_uri": "https://localhost:8080/"
        },
        "id": "VXWIMlGguBIy",
        "outputId": "eb72e674-d247-4d29-bd22-53966dc3ee35"
      },
      "execution_count": 15,
      "outputs": [
        {
          "output_type": "stream",
          "name": "stdout",
          "text": [
            "True\n"
          ]
        }
      ]
    },
    {
      "cell_type": "code",
      "source": [
        "print(3=>5)"
      ],
      "metadata": {
        "colab": {
          "base_uri": "https://localhost:8080/",
          "height": 137
        },
        "id": "Rn-Re-rmuIZi",
        "outputId": "8761ec06-92bd-4990-f86f-18c8642f0c19"
      },
      "execution_count": 16,
      "outputs": [
        {
          "output_type": "error",
          "ename": "SyntaxError",
          "evalue": "ignored",
          "traceback": [
            "\u001b[0;36m  File \u001b[0;32m\"<ipython-input-16-3138f8a6f292>\"\u001b[0;36m, line \u001b[0;32m1\u001b[0m\n\u001b[0;31m    print(3=>5)\u001b[0m\n\u001b[0m          ^\u001b[0m\n\u001b[0;31mSyntaxError\u001b[0m\u001b[0;31m:\u001b[0m expression cannot contain assignment, perhaps you meant \"==\"?\n"
          ]
        }
      ]
    },
    {
      "cell_type": "code",
      "source": [
        "age=int(input(\"숫자입력\"))\n",
        "if age==5:\n",
        "  print(\"5이다.\")"
      ],
      "metadata": {
        "colab": {
          "base_uri": "https://localhost:8080/"
        },
        "id": "tj37QIXczlEB",
        "outputId": "c7160620-0b73-421b-9d95-368d4bb560a9"
      },
      "execution_count": 36,
      "outputs": [
        {
          "output_type": "stream",
          "name": "stdout",
          "text": [
            "숫자입력5\n",
            "5이다.\n"
          ]
        }
      ]
    },
    {
      "cell_type": "code",
      "source": [
        "age=int(input(\"숫자입력\"))\n",
        "if age>5:\n",
        "  print(\"5보다 크다.\")"
      ],
      "metadata": {
        "colab": {
          "base_uri": "https://localhost:8080/"
        },
        "id": "tOhgxn7Izu_Y",
        "outputId": "6e4d6458-96df-480b-e212-0ace64c63498"
      },
      "execution_count": 37,
      "outputs": [
        {
          "output_type": "stream",
          "name": "stdout",
          "text": [
            "숫자입력7\n",
            "5보다 크다.\n"
          ]
        }
      ]
    },
    {
      "cell_type": "code",
      "source": [
        "age=int(input(\"숫자입력\"))\n",
        "if age<]5:\n",
        "  print(\"5보다 작다\")"
      ],
      "metadata": {
        "colab": {
          "base_uri": "https://localhost:8080/"
        },
        "id": "Zs7le651z1_w",
        "outputId": "397599ec-9f22-4fcb-c8ff-c0e9d529ebaa"
      },
      "execution_count": 38,
      "outputs": [
        {
          "output_type": "stream",
          "name": "stdout",
          "text": [
            "숫자입력3\n",
            "5보다 작다\n"
          ]
        }
      ]
    },
    {
      "cell_type": "markdown",
      "source": [
        "#### page10"
      ],
      "metadata": {
        "id": "NTEeiF6guQnq"
      }
    },
    {
      "cell_type": "code",
      "source": [
        "country=\"Korea\"\n",
        "if country ==\"Korea\":\n",
        "  print(\"한국\")"
      ],
      "metadata": {
        "colab": {
          "base_uri": "https://localhost:8080/"
        },
        "id": "ki01r653uTJT",
        "outputId": "e68c2fd7-b51e-46d3-8735-ea4759d6a5b4"
      },
      "execution_count": 17,
      "outputs": [
        {
          "output_type": "stream",
          "name": "stdout",
          "text": [
            "한국\n"
          ]
        }
      ]
    },
    {
      "cell_type": "code",
      "source": [
        "age=int(input(\"몇살입니까?\"))\n",
        "if age<20:\n",
        "  print(\"학생입니다.\")\n",
        "else:\n",
        "    print(\"성인입니다.\")"
      ],
      "metadata": {
        "colab": {
          "base_uri": "https://localhost:8080/"
        },
        "id": "VIZz4Nycukva",
        "outputId": "a6e90ba0-096f-4640-c9f0-8d1491f7b4af"
      },
      "execution_count": 19,
      "outputs": [
        {
          "output_type": "stream",
          "name": "stdout",
          "text": [
            "몇살입니까?18\n",
            "학생입니다.\n"
          ]
        }
      ]
    },
    {
      "cell_type": "code",
      "source": [
        "age=int(input(\"숫자입력:\"))\n",
        "if age%2==0:\n",
        "  print(\"짝수\")\n",
        "else:\n",
        "    print(\"홀수\")"
      ],
      "metadata": {
        "colab": {
          "base_uri": "https://localhost:8080/"
        },
        "id": "zDEBDrzUvPBa",
        "outputId": "a4463023-b10b-4b68-a241-388b4cc80962"
      },
      "execution_count": 24,
      "outputs": [
        {
          "output_type": "stream",
          "name": "stdout",
          "text": [
            "숫자입력:10\n",
            "짝수\n"
          ]
        }
      ]
    },
    {
      "cell_type": "code",
      "source": [
        "a=int(input(\"정수입력:\"))\n",
        "if a%5==0:\n",
        "  print(\"5의 배수입니다.\")\n",
        "else:\n",
        "    print(\"5의 배수가 아닙니다.\")"
      ],
      "metadata": {
        "colab": {
          "base_uri": "https://localhost:8080/"
        },
        "id": "u_7218XwwYtR",
        "outputId": "5f561cb2-2ba7-4449-e8f4-cda5d0421604"
      },
      "execution_count": 30,
      "outputs": [
        {
          "output_type": "stream",
          "name": "stdout",
          "text": [
            "정수입력:7\n",
            "5의 배수가 아닙니다.\n"
          ]
        }
      ]
    },
    {
      "cell_type": "code",
      "source": [
        "password=input(\"암호입력\")\n",
        "if password == \"암호\":\n",
        "  print(\"암호이다.\")\n",
        "else:\n",
        "  print(\"암호가 아니다.\")"
      ],
      "metadata": {
        "colab": {
          "base_uri": "https://localhost:8080/"
        },
        "id": "yze66GRFxWSa",
        "outputId": "6f82bce2-bb94-4ba5-83ed-c1ee6fd187b0"
      },
      "execution_count": 32,
      "outputs": [
        {
          "output_type": "stream",
          "name": "stdout",
          "text": [
            "암호입력암호\n",
            "암호이다.\n"
          ]
        }
      ]
    },
    {
      "cell_type": "code",
      "source": [
        "a=int(input(\"숫자를 입력하세요:\"))\n",
        "if a>0:\n",
        "  print(\"양수입니다.\")\n",
        "else:\n",
        "    print(\"0 또는 양수가 아닙니다.\")"
      ],
      "metadata": {
        "colab": {
          "base_uri": "https://localhost:8080/"
        },
        "id": "NOPkvo8ax7YJ",
        "outputId": "b60e7b88-8df7-4363-e26e-b612fb190eb5"
      },
      "execution_count": 35,
      "outputs": [
        {
          "output_type": "stream",
          "name": "stdout",
          "text": [
            "숫자를 입력하세요:-100\n",
            "0 또는 양수가 아닙니다.\n"
          ]
        }
      ]
    },
    {
      "cell_type": "code",
      "source": [
        "a=int(input(\"첫번째 숫자를 입력하세요:\"))\n",
        "b=int(input(\"두번째 숫자를 입력하세요:\"))\n",
        "if a>b:\n",
        "  print(a-b)\n",
        "else:\n",
        "    print(b-a)"
      ],
      "metadata": {
        "colab": {
          "base_uri": "https://localhost:8080/"
        },
        "id": "N6usi35XySBy",
        "outputId": "72284e50-7b93-4d7d-f970-214cca15fb6c"
      },
      "execution_count": 40,
      "outputs": [
        {
          "output_type": "stream",
          "name": "stdout",
          "text": [
            "첫번째 숫자를 입력하세요:15\n",
            "두번째 숫자를 입력하세요:9\n",
            "6\n"
          ]
        }
      ]
    },
    {
      "cell_type": "code",
      "source": [
        "a=int(input(\"1(두간 근무) 또는 2(야간 근무)를 입력해주세요:\"))\n",
        "b=int(input(\"일주일동안 일한 시간을 입력해주세요:\"))\n",
        "if a==1:\n",
        "  print(\"%d시간 동안 일한 주간 급여는 %d 원 입니다.\"%(a,b*9500))\n",
        "else:\n",
        "    print(\"%d시간 동안 일한 야간 급여는 %d 원 입니다.\"%(a,(b*9500)*1.5))"
      ],
      "metadata": {
        "colab": {
          "base_uri": "https://localhost:8080/"
        },
        "id": "jaViQQ6b0VtI",
        "outputId": "a3a36ca4-94b6-4a6c-82f6-482bed4725a0"
      },
      "execution_count": 49,
      "outputs": [
        {
          "output_type": "stream",
          "name": "stdout",
          "text": [
            "1(두간 근무) 또는 2(야간 근무)를 입력해주세요:1\n",
            "일주일동안 일한 시간을 입력해주세요:40\n",
            "1시간 동안 일한 주간 급여는 380000 원 입니다.\n"
          ]
        }
      ]
    },
    {
      "cell_type": "code",
      "source": [
        "a=input(\"이름을 입력하세요:\")\n",
        "b=int(input(\"근무 시간을 입력해주세요:\"))\n",
        "if b<40:\n",
        "  print(\"%s 님의 주급은 %d입니다.\"%(a,b*12000))\n",
        "else:\n",
        "    print(\"초과시간:%d\"%(b-40))\n",
        "    print(\"%s 님의 주급은 %d입니다.\"%(a,480000+((b-40)*12000)*1.5))"
      ],
      "metadata": {
        "colab": {
          "base_uri": "https://localhost:8080/"
        },
        "id": "BrTRK8jT27Lw",
        "outputId": "c04c0fca-be85-40bc-8a12-f9b60330f33e"
      },
      "execution_count": 66,
      "outputs": [
        {
          "output_type": "stream",
          "name": "stdout",
          "text": [
            "이름을 입력하세요:나영\n",
            "근무 시간을 입력해주세요:45\n",
            "초과시간:5\n",
            "나영 님의 주급은 570000입니다.\n"
          ]
        }
      ]
    },
    {
      "cell_type": "code",
      "source": [
        "print((3==3)and(4!=3))\n",
        "print((3==3)or(4!=3))\n",
        "print(not(4!=3))"
      ],
      "metadata": {
        "colab": {
          "base_uri": "https://localhost:8080/"
        },
        "id": "QIIrJUSL7P-W",
        "outputId": "2f65163b-f26c-40e6-d693-a99b1967fcf6"
      },
      "execution_count": 67,
      "outputs": [
        {
          "output_type": "stream",
          "name": "stdout",
          "text": [
            "True\n",
            "True\n",
            "False\n"
          ]
        }
      ]
    },
    {
      "cell_type": "markdown",
      "source": [
        "#### page11"
      ],
      "metadata": {
        "id": "BVA1RFu97vWn"
      }
    },
    {
      "cell_type": "code",
      "source": [
        "a=int(iput(\"a입력:\"))\n",
        "b=int(input(\"b입력:\"))\n",
        "if a ==3 and b==4:\n",
        "  print(\"OK\")\n",
        "if a==3 or b==4:\n",
        "  print(\"OKay\")"
      ],
      "metadata": {
        "colab": {
          "base_uri": "https://localhost:8080/",
          "height": 246
        },
        "id": "KCXQUSvL7nxd",
        "outputId": "b114aecf-394c-4c92-b198-51a40f593980"
      },
      "execution_count": 68,
      "outputs": [
        {
          "output_type": "error",
          "ename": "NameError",
          "evalue": "ignored",
          "traceback": [
            "\u001b[0;31m---------------------------------------------------------------------------\u001b[0m",
            "\u001b[0;31mNameError\u001b[0m                                 Traceback (most recent call last)",
            "\u001b[0;32m<ipython-input-68-ecb99e5f150e>\u001b[0m in \u001b[0;36m<module>\u001b[0;34m\u001b[0m\n\u001b[0;32m----> 1\u001b[0;31m \u001b[0ma\u001b[0m\u001b[0;34m=\u001b[0m\u001b[0mint\u001b[0m\u001b[0;34m(\u001b[0m\u001b[0miput\u001b[0m\u001b[0;34m(\u001b[0m\u001b[0;34m\"a입력:\"\u001b[0m\u001b[0;34m)\u001b[0m\u001b[0;34m)\u001b[0m\u001b[0;34m\u001b[0m\u001b[0;34m\u001b[0m\u001b[0m\n\u001b[0m\u001b[1;32m      2\u001b[0m \u001b[0mb\u001b[0m\u001b[0;34m=\u001b[0m\u001b[0mint\u001b[0m\u001b[0;34m(\u001b[0m\u001b[0minput\u001b[0m\u001b[0;34m(\u001b[0m\u001b[0;34m\"b입력:\"\u001b[0m\u001b[0;34m)\u001b[0m\u001b[0;34m)\u001b[0m\u001b[0;34m\u001b[0m\u001b[0;34m\u001b[0m\u001b[0m\n\u001b[1;32m      3\u001b[0m \u001b[0;32mif\u001b[0m \u001b[0ma\u001b[0m \u001b[0;34m==\u001b[0m\u001b[0;36m3\u001b[0m \u001b[0;32mand\u001b[0m \u001b[0mb\u001b[0m\u001b[0;34m==\u001b[0m\u001b[0;36m4\u001b[0m\u001b[0;34m:\u001b[0m\u001b[0;34m\u001b[0m\u001b[0;34m\u001b[0m\u001b[0m\n\u001b[1;32m      4\u001b[0m   \u001b[0mprint\u001b[0m\u001b[0;34m(\u001b[0m\u001b[0;34m\"OK\"\u001b[0m\u001b[0;34m)\u001b[0m\u001b[0;34m\u001b[0m\u001b[0;34m\u001b[0m\u001b[0m\n\u001b[1;32m      5\u001b[0m \u001b[0;32mif\u001b[0m \u001b[0ma\u001b[0m\u001b[0;34m==\u001b[0m\u001b[0;36m3\u001b[0m \u001b[0;32mor\u001b[0m \u001b[0mb\u001b[0m\u001b[0;34m==\u001b[0m\u001b[0;36m4\u001b[0m\u001b[0;34m:\u001b[0m\u001b[0;34m\u001b[0m\u001b[0;34m\u001b[0m\u001b[0m\n",
            "\u001b[0;31mNameError\u001b[0m: name 'iput' is not defined"
          ]
        }
      ]
    },
    {
      "cell_type": "code",
      "source": [
        "x=int(input(\"숫자입력:\"))\n",
        "if x>10 and x%2==0:\n",
        "  print(\"10 초과 짝수\")"
      ],
      "metadata": {
        "colab": {
          "base_uri": "https://localhost:8080/"
        },
        "id": "s904SIPt8NRG",
        "outputId": "7c800b1f-2230-4900-c8bc-8d43a8cd2fa7"
      },
      "execution_count": 71,
      "outputs": [
        {
          "output_type": "stream",
          "name": "stdout",
          "text": [
            "숫자입력:18\n",
            "10 초과 짝수\n"
          ]
        }
      ]
    },
    {
      "cell_type": "code",
      "source": [
        "a=int(input(\"필기 성적을 입력하세요:\"))\n",
        "b=int(input(\"실기 성적을 입력하세요:\"))\n",
        "if a&b>=80:\n",
        "  print(\"합격!\")\n",
        "else:\n",
        "    print(\"불합격!\")"
      ],
      "metadata": {
        "colab": {
          "base_uri": "https://localhost:8080/"
        },
        "id": "EQwHe6Zg8pio",
        "outputId": "59a3ee0d-3f74-4620-b1ed-958e08a51fce"
      },
      "execution_count": 73,
      "outputs": [
        {
          "output_type": "stream",
          "name": "stdout",
          "text": [
            "필기 성적을 입력하세요:90\n",
            "실기 성적을 입력하세요:50\n",
            "불합격!\n"
          ]
        }
      ]
    },
    {
      "cell_type": "code",
      "source": [
        "a=int(input(\"몇살이세요?:\"))\n",
        "if a>=65 or 0<=a<7:\n",
        "  print(\"무료입니다.\")\n",
        "else:\n",
        "    print(\"입장료는 3000원 입니다.\")"
      ],
      "metadata": {
        "colab": {
          "base_uri": "https://localhost:8080/"
        },
        "id": "fAwjaQhe9S6l",
        "outputId": "868a4ef6-4792-48fb-e579-0f8a3e1d8d72"
      },
      "execution_count": 76,
      "outputs": [
        {
          "output_type": "stream",
          "name": "stdout",
          "text": [
            "몇살이세요?:67\n",
            "무료입니다.\n"
          ]
        }
      ]
    },
    {
      "cell_type": "code",
      "source": [
        "a=int(input(\"나이?:\"))\n",
        "b=int(input(\"키?:\"))\n",
        "if a>=10 and 150<=a:\n",
        "  print(\"놀이기구를 탈 수 있다.\")\n",
        "else:\n",
        "    print(\"놀이기구를 탈 수 없다.\")"
      ],
      "metadata": {
        "colab": {
          "base_uri": "https://localhost:8080/"
        },
        "id": "rVkanJgF-c4t",
        "outputId": "ace72b4e-7239-44fd-90f1-fbc63640a625"
      },
      "execution_count": 78,
      "outputs": [
        {
          "output_type": "stream",
          "name": "stdout",
          "text": [
            "나이?:10\n",
            "키?:133\n",
            "놀이기구를 탈 수 없다.\n"
          ]
        }
      ]
    },
    {
      "cell_type": "code",
      "source": [
        "a=input(\"아이디를 입렵하세요:\")\n",
        "b=int(input(\"회원 레벨을 입력하세요:\"))\n",
        "if a=='admin' or b==1 :\n",
        "  print(\"관리자입니다.\")\n",
        "else:\n",
        "    print(\"관리자가 아닙니다.\")"
      ],
      "metadata": {
        "colab": {
          "base_uri": "https://localhost:8080/"
        },
        "id": "k9cDr_l7_OCh",
        "outputId": "4862d529-eae4-4c4a-d528-2b7b3aa0d528"
      },
      "execution_count": 84,
      "outputs": [
        {
          "output_type": "stream",
          "name": "stdout",
          "text": [
            "아이디를 입렵하세요:admin\n",
            "회원 레벨을 입력하세요:2\n",
            "관리자입니다.\n"
          ]
        }
      ]
    },
    {
      "cell_type": "code",
      "source": [
        "a=int(input(\"정수를 입력하세요:\"))\n",
        "if a>0 and a<101:\n",
        "  print(\"%d은(는) 1~100사이에 있다.\"%(a))\n",
        "else:\n",
        "    print(\"%d은(는) 1~100사이에 없다.\"%(a))"
      ],
      "metadata": {
        "colab": {
          "base_uri": "https://localhost:8080/"
        },
        "id": "L2s0rQQRADts",
        "outputId": "a42b26c3-7505-432b-efd9-24a755c1dc9a"
      },
      "execution_count": 91,
      "outputs": [
        {
          "output_type": "stream",
          "name": "stdout",
          "text": [
            "정수를 입력하세요:77\n",
            "77은(는) 1~100사이에 있다.\n"
          ]
        }
      ]
    },
    {
      "cell_type": "code",
      "source": [
        "month=3\n",
        "if 3<=month<=5:\n",
        "  print(\"현재는 봄입니다.\")\n",
        "elif 6<=month<=8:\n",
        "  print(\"현재는 여름입니다.\")\n",
        "elif 9<=month<=11:\n",
        "  print(\"현재는 가을입니다.\")\n",
        "else:\n",
        "  print(\"현재는 겨울입니다.\")"
      ],
      "metadata": {
        "colab": {
          "base_uri": "https://localhost:8080/"
        },
        "id": "JDnmU9EQArdz",
        "outputId": "43ec69b3-89ed-4d74-b09a-4ce4c45291ef"
      },
      "execution_count": 97,
      "outputs": [
        {
          "output_type": "stream",
          "name": "stdout",
          "text": [
            "현재는 봄입니다.\n"
          ]
        }
      ]
    },
    {
      "cell_type": "code",
      "source": [
        "a=int(input(\"구매금액:\"))\n",
        "if a<=20000:\n",
        "  print(\"새벽배송이 불가능합니다.\")\n",
        "elif 20000<=a<50000:\n",
        "  print(\"배송비 2500원이 추가됩니다.\")\n",
        "else:\n",
        "    print(\"무료배송입니다.\")"
      ],
      "metadata": {
        "colab": {
          "base_uri": "https://localhost:8080/"
        },
        "id": "_k6ZJkW5CIrQ",
        "outputId": "ba6eae9c-6c9e-49f2-bdb5-3c85ff857890"
      },
      "execution_count": 102,
      "outputs": [
        {
          "output_type": "stream",
          "name": "stdout",
          "text": [
            "구매금액:45000\n",
            "배송비 2500원이 추가됩니다.\n"
          ]
        }
      ]
    },
    {
      "cell_type": "code",
      "source": [
        "a=int(input(\"점수를 입력하세요:\"))\n",
        "if a>=90:\n",
        "  print(\"A\")\n",
        "elif a>=80:\n",
        "  print(\"B\")\n",
        "elif a>=70:\n",
        "  print(\"C\") \n",
        "elif a>=60:\n",
        "  print(\"D\")  \n",
        "else:\n",
        "    print(\"F\")"
      ],
      "metadata": {
        "colab": {
          "base_uri": "https://localhost:8080/"
        },
        "id": "IxA_8XoTDMve",
        "outputId": "495e6fae-25f7-4cf8-9635-4d4f2ed49aac"
      },
      "execution_count": 104,
      "outputs": [
        {
          "output_type": "stream",
          "name": "stdout",
          "text": [
            "점수를 입력하세요:77\n",
            "C\n"
          ]
        }
      ]
    },
    {
      "cell_type": "code",
      "source": [
        "a=int(input(\"첫 번째 수:\"))\n",
        "b=int(input(\"두 번째 수:\"))\n",
        "c=int(input(\"세 번째 수:\"))\n",
        "if a>b>c or a>c>b:\n",
        "  print(\"가장 큰수는 %d 입니다.\"%(a))\n",
        "elif b>a>c or b>c>a:\n",
        "  print(\"가장 큰수는 %d 입니다.\"%(b))\n",
        "else:\n",
        "    print(\"가장 큰수는 %d 입니다.\"%(c))"
      ],
      "metadata": {
        "colab": {
          "base_uri": "https://localhost:8080/"
        },
        "id": "gC1mhxPDDsXG",
        "outputId": "39f905eb-9386-41a5-a068-1bde10b9563f"
      },
      "execution_count": 107,
      "outputs": [
        {
          "output_type": "stream",
          "name": "stdout",
          "text": [
            "첫 번째 수:22\n",
            "두 번째 수:47\n",
            "세 번째 수:13\n",
            "가장 큰수는 47 입니다.\n"
          ]
        }
      ]
    },
    {
      "cell_type": "code",
      "source": [
        "a=int(input(\"영어시험 점수를 입력하세요:\"))\n",
        "b=int(input(\"수학시험 점수를 입력하세요:\"))\n",
        "if a>=80 and b>=80:\n",
        "  print(\"합격\")\n",
        "elif a>=80 or b>=80:\n",
        "  print(\"재시험 기회 제공\")\n",
        "else:\n",
        "    print(\"불합격\")"
      ],
      "metadata": {
        "colab": {
          "base_uri": "https://localhost:8080/"
        },
        "id": "CuUFktvSEvWW",
        "outputId": "e7cabaf3-1082-4503-b0c9-6d7afa119c09"
      },
      "execution_count": 109,
      "outputs": [
        {
          "output_type": "stream",
          "name": "stdout",
          "text": [
            "영어시험 점수를 입력하세요:85\n",
            "수학시험 점수를 입력하세요:75\n",
            "재시험 기회 제공\n"
          ]
        }
      ]
    }
  ]
}