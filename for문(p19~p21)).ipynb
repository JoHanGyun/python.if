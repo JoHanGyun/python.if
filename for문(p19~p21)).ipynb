{
  "nbformat": 4,
  "nbformat_minor": 0,
  "metadata": {
    "colab": {
      "provenance": [],
      "authorship_tag": "ABX9TyPffJirfqxq8U/lyVEnJnF7",
      "include_colab_link": true
    },
    "kernelspec": {
      "name": "python3",
      "display_name": "Python 3"
    },
    "language_info": {
      "name": "python"
    }
  },
  "cells": [
    {
      "cell_type": "markdown",
      "metadata": {
        "id": "view-in-github",
        "colab_type": "text"
      },
      "source": [
        "<a href=\"https://colab.research.google.com/github/JoHanGyun/python.if/blob/main/for%EB%AC%B8(p19~p21)).ipynb\" target=\"_parent\"><img src=\"https://colab.research.google.com/assets/colab-badge.svg\" alt=\"Open In Colab\"/></a>"
      ]
    },
    {
      "cell_type": "code",
      "execution_count": 22,
      "metadata": {
        "colab": {
          "base_uri": "https://localhost:8080/"
        },
        "id": "6hDRBkUqzlqv",
        "outputId": "1633b5b8-eddb-458b-bdab-2d52cc235330"
      },
      "outputs": [
        {
          "output_type": "stream",
          "name": "stdout",
          "text": [
            "2550\n"
          ]
        }
      ],
      "source": [
        "sum=0\n",
        "for i in range(2,101,2):\n",
        "    sum += i\n",
        "print(sum);"
      ]
    },
    {
      "cell_type": "code",
      "source": [
        "fact=1\n",
        "for i in range(1,11):\n",
        "  fact=fact*i\n",
        "print(\"10!=\",fact)"
      ],
      "metadata": {
        "colab": {
          "base_uri": "https://localhost:8080/"
        },
        "id": "Joi0gHLK5FKk",
        "outputId": "385b8641-a865-4dc9-ebcd-4879aac513c1"
      },
      "execution_count": 21,
      "outputs": [
        {
          "output_type": "stream",
          "name": "stdout",
          "text": [
            "10!= 3628800\n"
          ]
        }
      ]
    },
    {
      "cell_type": "code",
      "source": [
        "cnt=0\n",
        "for i in range(5,101,5):\n",
        "  print(i,end=' ')\n",
        "  cnt +=1\n",
        "  if(cnt%7==0):\n",
        "    print()\n"
      ],
      "metadata": {
        "colab": {
          "base_uri": "https://localhost:8080/"
        },
        "id": "PfuaJ5kB6t6k",
        "outputId": "b9dc304a-af84-4afc-b2d8-e2d33b472961"
      },
      "execution_count": 13,
      "outputs": [
        {
          "output_type": "stream",
          "name": "stdout",
          "text": [
            "5 10 15 20 25 30 35 \n",
            "40 45 50 55 60 65 70 \n",
            "75 80 85 90 95 100 "
          ]
        }
      ]
    },
    {
      "cell_type": "code",
      "source": [
        "cnt=0\n",
        "for i in range(1,101):\n",
        "  if i%5==0:\n",
        "    print(i,end=' ')\n",
        "    cnt +=1\n",
        "    if(cnt%7==0):\n",
        "      print()"
      ],
      "metadata": {
        "colab": {
          "base_uri": "https://localhost:8080/"
        },
        "id": "K5re22rbDOXQ",
        "outputId": "c96c656f-988f-46b6-f03e-ee1f951e48c1"
      },
      "execution_count": 20,
      "outputs": [
        {
          "output_type": "stream",
          "name": "stdout",
          "text": [
            "5 10 15 20 25 30 35 \n",
            "40 45 50 55 60 65 70 \n",
            "75 80 85 90 95 100 "
          ]
        }
      ]
    },
    {
      "cell_type": "code",
      "source": [
        "n=int(input(\"정수를 입력하시오:\"))\n",
        "for i in range(1,n+1):\n",
        "  if n%i==0:\n",
        "    print(i)"
      ],
      "metadata": {
        "colab": {
          "base_uri": "https://localhost:8080/"
        },
        "id": "0_R1OATXEXWO",
        "outputId": "c6326a34-3a52-4e8b-ee8b-1cd25d437d92"
      },
      "execution_count": 25,
      "outputs": [
        {
          "output_type": "stream",
          "name": "stdout",
          "text": [
            "정수를 입력하시오:6\n",
            "1\n",
            "2\n",
            "3\n",
            "6\n"
          ]
        }
      ]
    },
    {
      "cell_type": "code",
      "source": [
        "a=0\n",
        "b=1\n",
        "for i in range(20):\n",
        "  print(a,end=' ')\n",
        "  n=a+b\n",
        "  a=b\n",
        "  b=n"
      ],
      "metadata": {
        "colab": {
          "base_uri": "https://localhost:8080/"
        },
        "id": "J72GkwQGGU55",
        "outputId": "dc12098a-2793-4e93-9534-df9e3a8b3a9b"
      },
      "execution_count": 36,
      "outputs": [
        {
          "output_type": "stream",
          "name": "stdout",
          "text": [
            "0 1 1 2 3 5 8 13 21 34 55 89 144 233 377 610 987 1597 2584 4181 "
          ]
        }
      ]
    },
    {
      "cell_type": "code",
      "source": [
        "for x in range(1,41):\n",
        "  if x%10==0:\n",
        "    print('+',end='')\n",
        "  else:\n",
        "    print('-',end='')  "
      ],
      "metadata": {
        "colab": {
          "base_uri": "https://localhost:8080/"
        },
        "id": "GhVoJ-F7H8av",
        "outputId": "a132a6c7-ba80-460f-c443-3b30068ac832"
      },
      "execution_count": 38,
      "outputs": [
        {
          "output_type": "stream",
          "name": "stdout",
          "text": [
            "---------+---------+---------+---------+"
          ]
        }
      ]
    },
    {
      "cell_type": "code",
      "source": [
        "x=1\n",
        "while x<41:\n",
        "  if x%10==0:\n",
        "    print('+',end='')\n",
        "  else:\n",
        "    print('-',end='')  \n",
        "  x+=1  "
      ],
      "metadata": {
        "colab": {
          "base_uri": "https://localhost:8080/"
        },
        "id": "LTu3BQDWKdW6",
        "outputId": "64fa8f1d-a405-4c09-9836-5fc7cba722d6"
      },
      "execution_count": 41,
      "outputs": [
        {
          "output_type": "stream",
          "name": "stdout",
          "text": [
            "---------+---------+---------+---------+"
          ]
        }
      ]
    },
    {
      "cell_type": "code",
      "source": [
        "print('-'*40)\n",
        "print(\"센치(cm) 인치(inch) 피트(ft) 야드(yd)\")\n",
        "print('-'*40)\n",
        "for cm in range(10,101):\n",
        "  inch=cm*0.394701\n",
        "  ft=cm*0.032808\n",
        "  yd=cm*0.010936\n",
        "  print(\"%7d %8.1f %8.1f %8.1f\"%(cm,inch,ft,yd))\n",
        "print('-'*40)"
      ],
      "metadata": {
        "colab": {
          "base_uri": "https://localhost:8080/"
        },
        "id": "GDlTT_SIKzlX",
        "outputId": "260c30be-cb72-4287-b418-fb2f1b23be07"
      },
      "execution_count": 43,
      "outputs": [
        {
          "output_type": "stream",
          "name": "stdout",
          "text": [
            "----------------------------------------\n",
            "센치(cm) 인치(inch) 피트(ft) 야드(yd)\n",
            "----------------------------------------\n",
            "     10      3.9      0.3      0.1\n",
            "     11      4.3      0.4      0.1\n",
            "     12      4.7      0.4      0.1\n",
            "     13      5.1      0.4      0.1\n",
            "     14      5.5      0.5      0.2\n",
            "     15      5.9      0.5      0.2\n",
            "     16      6.3      0.5      0.2\n",
            "     17      6.7      0.6      0.2\n",
            "     18      7.1      0.6      0.2\n",
            "     19      7.5      0.6      0.2\n",
            "     20      7.9      0.7      0.2\n",
            "     21      8.3      0.7      0.2\n",
            "     22      8.7      0.7      0.2\n",
            "     23      9.1      0.8      0.3\n",
            "     24      9.5      0.8      0.3\n",
            "     25      9.9      0.8      0.3\n",
            "     26     10.3      0.9      0.3\n",
            "     27     10.7      0.9      0.3\n",
            "     28     11.1      0.9      0.3\n",
            "     29     11.4      1.0      0.3\n",
            "     30     11.8      1.0      0.3\n",
            "     31     12.2      1.0      0.3\n",
            "     32     12.6      1.0      0.3\n",
            "     33     13.0      1.1      0.4\n",
            "     34     13.4      1.1      0.4\n",
            "     35     13.8      1.1      0.4\n",
            "     36     14.2      1.2      0.4\n",
            "     37     14.6      1.2      0.4\n",
            "     38     15.0      1.2      0.4\n",
            "     39     15.4      1.3      0.4\n",
            "     40     15.8      1.3      0.4\n",
            "     41     16.2      1.3      0.4\n",
            "     42     16.6      1.4      0.5\n",
            "     43     17.0      1.4      0.5\n",
            "     44     17.4      1.4      0.5\n",
            "     45     17.8      1.5      0.5\n",
            "     46     18.2      1.5      0.5\n",
            "     47     18.6      1.5      0.5\n",
            "     48     18.9      1.6      0.5\n",
            "     49     19.3      1.6      0.5\n",
            "     50     19.7      1.6      0.5\n",
            "     51     20.1      1.7      0.6\n",
            "     52     20.5      1.7      0.6\n",
            "     53     20.9      1.7      0.6\n",
            "     54     21.3      1.8      0.6\n",
            "     55     21.7      1.8      0.6\n",
            "     56     22.1      1.8      0.6\n",
            "     57     22.5      1.9      0.6\n",
            "     58     22.9      1.9      0.6\n",
            "     59     23.3      1.9      0.6\n",
            "     60     23.7      2.0      0.7\n",
            "     61     24.1      2.0      0.7\n",
            "     62     24.5      2.0      0.7\n",
            "     63     24.9      2.1      0.7\n",
            "     64     25.3      2.1      0.7\n",
            "     65     25.7      2.1      0.7\n",
            "     66     26.1      2.2      0.7\n",
            "     67     26.4      2.2      0.7\n",
            "     68     26.8      2.2      0.7\n",
            "     69     27.2      2.3      0.8\n",
            "     70     27.6      2.3      0.8\n",
            "     71     28.0      2.3      0.8\n",
            "     72     28.4      2.4      0.8\n",
            "     73     28.8      2.4      0.8\n",
            "     74     29.2      2.4      0.8\n",
            "     75     29.6      2.5      0.8\n",
            "     76     30.0      2.5      0.8\n",
            "     77     30.4      2.5      0.8\n",
            "     78     30.8      2.6      0.9\n",
            "     79     31.2      2.6      0.9\n",
            "     80     31.6      2.6      0.9\n",
            "     81     32.0      2.7      0.9\n",
            "     82     32.4      2.7      0.9\n",
            "     83     32.8      2.7      0.9\n",
            "     84     33.2      2.8      0.9\n",
            "     85     33.5      2.8      0.9\n",
            "     86     33.9      2.8      0.9\n",
            "     87     34.3      2.9      1.0\n",
            "     88     34.7      2.9      1.0\n",
            "     89     35.1      2.9      1.0\n",
            "     90     35.5      3.0      1.0\n",
            "     91     35.9      3.0      1.0\n",
            "     92     36.3      3.0      1.0\n",
            "     93     36.7      3.1      1.0\n",
            "     94     37.1      3.1      1.0\n",
            "     95     37.5      3.1      1.0\n",
            "     96     37.9      3.1      1.0\n",
            "     97     38.3      3.2      1.1\n",
            "     98     38.7      3.2      1.1\n",
            "     99     39.1      3.2      1.1\n",
            "    100     39.5      3.3      1.1\n",
            "----------------------------------------\n"
          ]
        }
      ]
    },
    {
      "cell_type": "code",
      "source": [
        "for i in range(1,1001):\n",
        "  print(i,end=' ')\n",
        "  if i ==0:\n",
        "    break"
      ],
      "metadata": {
        "colab": {
          "base_uri": "https://localhost:8080/"
        },
        "id": "aRJ6wJVmMIOQ",
        "outputId": "fd576e12-2a4c-445b-957f-d2c34b794271"
      },
      "execution_count": 45,
      "outputs": [
        {
          "output_type": "stream",
          "name": "stdout",
          "text": [
            "1 2 3 4 5 6 7 8 9 10 11 12 13 14 15 16 17 18 19 20 21 22 23 24 25 26 27 28 29 30 31 32 33 34 35 36 37 38 39 40 41 42 43 44 45 46 47 48 49 50 51 52 53 54 55 56 57 58 59 60 61 62 63 64 65 66 67 68 69 70 71 72 73 74 75 76 77 78 79 80 81 82 83 84 85 86 87 88 89 90 91 92 93 94 95 96 97 98 99 100 101 102 103 104 105 106 107 108 109 110 111 112 113 114 115 116 117 118 119 120 121 122 123 124 125 126 127 128 129 130 131 132 133 134 135 136 137 138 139 140 141 142 143 144 145 146 147 148 149 150 151 152 153 154 155 156 157 158 159 160 161 162 163 164 165 166 167 168 169 170 171 172 173 174 175 176 177 178 179 180 181 182 183 184 185 186 187 188 189 190 191 192 193 194 195 196 197 198 199 200 201 202 203 204 205 206 207 208 209 210 211 212 213 214 215 216 217 218 219 220 221 222 223 224 225 226 227 228 229 230 231 232 233 234 235 236 237 238 239 240 241 242 243 244 245 246 247 248 249 250 251 252 253 254 255 256 257 258 259 260 261 262 263 264 265 266 267 268 269 270 271 272 273 274 275 276 277 278 279 280 281 282 283 284 285 286 287 288 289 290 291 292 293 294 295 296 297 298 299 300 301 302 303 304 305 306 307 308 309 310 311 312 313 314 315 316 317 318 319 320 321 322 323 324 325 326 327 328 329 330 331 332 333 334 335 336 337 338 339 340 341 342 343 344 345 346 347 348 349 350 351 352 353 354 355 356 357 358 359 360 361 362 363 364 365 366 367 368 369 370 371 372 373 374 375 376 377 378 379 380 381 382 383 384 385 386 387 388 389 390 391 392 393 394 395 396 397 398 399 400 401 402 403 404 405 406 407 408 409 410 411 412 413 414 415 416 417 418 419 420 421 422 423 424 425 426 427 428 429 430 431 432 433 434 435 436 437 438 439 440 441 442 443 444 445 446 447 448 449 450 451 452 453 454 455 456 457 458 459 460 461 462 463 464 465 466 467 468 469 470 471 472 473 474 475 476 477 478 479 480 481 482 483 484 485 486 487 488 489 490 491 492 493 494 495 496 497 498 499 500 501 502 503 504 505 506 507 508 509 510 511 512 513 514 515 516 517 518 519 520 521 522 523 524 525 526 527 528 529 530 531 532 533 534 535 536 537 538 539 540 541 542 543 544 545 546 547 548 549 550 551 552 553 554 555 556 557 558 559 560 561 562 563 564 565 566 567 568 569 570 571 572 573 574 575 576 577 578 579 580 581 582 583 584 585 586 587 588 589 590 591 592 593 594 595 596 597 598 599 600 601 602 603 604 605 606 607 608 609 610 611 612 613 614 615 616 617 618 619 620 621 622 623 624 625 626 627 628 629 630 631 632 633 634 635 636 637 638 639 640 641 642 643 644 645 646 647 648 649 650 651 652 653 654 655 656 657 658 659 660 661 662 663 664 665 666 667 668 669 670 671 672 673 674 675 676 677 678 679 680 681 682 683 684 685 686 687 688 689 690 691 692 693 694 695 696 697 698 699 700 701 702 703 704 705 706 707 708 709 710 711 712 713 714 715 716 717 718 719 720 721 722 723 724 725 726 727 728 729 730 731 732 733 734 735 736 737 738 739 740 741 742 743 744 745 746 747 748 749 750 751 752 753 754 755 756 757 758 759 760 761 762 763 764 765 766 767 768 769 770 771 772 773 774 775 776 777 778 779 780 781 782 783 784 785 786 787 788 789 790 791 792 793 794 795 796 797 798 799 800 801 802 803 804 805 806 807 808 809 810 811 812 813 814 815 816 817 818 819 820 821 822 823 824 825 826 827 828 829 830 831 832 833 834 835 836 837 838 839 840 841 842 843 844 845 846 847 848 849 850 851 852 853 854 855 856 857 858 859 860 861 862 863 864 865 866 867 868 869 870 871 872 873 874 875 876 877 878 879 880 881 882 883 884 885 886 887 888 889 890 891 892 893 894 895 896 897 898 899 900 901 902 903 904 905 906 907 908 909 910 911 912 913 914 915 916 917 918 919 920 921 922 923 924 925 926 927 928 929 930 931 932 933 934 935 936 937 938 939 940 941 942 943 944 945 946 947 948 949 950 951 952 953 954 955 956 957 958 959 960 961 962 963 964 965 966 967 968 969 970 971 972 973 974 975 976 977 978 979 980 981 982 983 984 985 986 987 988 989 990 991 992 993 994 995 996 997 998 999 1000 "
          ]
        }
      ]
    },
    {
      "cell_type": "code",
      "source": [
        "score=[92,86,68,120,56,72]\n",
        "for s in score:\n",
        "\n",
        "  if s>100 or s<0:\n",
        "    break\n",
        "  else:\n",
        "    print(s)\n",
        "\n",
        "print(\"성적처리끝\")"
      ],
      "metadata": {
        "colab": {
          "base_uri": "https://localhost:8080/"
        },
        "id": "O1VMxg8GMTE4",
        "outputId": "64278670-38b7-4c4b-dd67-aeb84ecb7321"
      },
      "execution_count": 56,
      "outputs": [
        {
          "output_type": "stream",
          "name": "stdout",
          "text": [
            "92\n",
            "86\n",
            "68\n",
            "성적처리끝\n"
          ]
        }
      ]
    },
    {
      "cell_type": "code",
      "source": [
        "score=[92,86,68,120,56,72]\n",
        "for s in score:\n",
        "\n",
        "  if s>100 or s<0:\n",
        "    continue\n",
        "  else:\n",
        "    print(s)\n",
        "\n",
        "print(\"성적처리끝\")"
      ],
      "metadata": {
        "colab": {
          "base_uri": "https://localhost:8080/"
        },
        "id": "RezeKHitMTlH",
        "outputId": "cc089dd4-de59-4b60-b38b-0959bacf8a93"
      },
      "execution_count": 58,
      "outputs": [
        {
          "output_type": "stream",
          "name": "stdout",
          "text": [
            "92\n",
            "86\n",
            "68\n",
            "56\n",
            "72\n",
            "성적처리끝\n"
          ]
        }
      ]
    },
    {
      "cell_type": "code",
      "source": [
        "print(\"3+4=?\")\n",
        "\n",
        "while True:\n",
        "  a=int(input(\"정답을 입력하시오:\"))\n",
        "  if a==7:\n",
        "    break\n",
        "print(\"참 잘했어요\")    "
      ],
      "metadata": {
        "colab": {
          "base_uri": "https://localhost:8080/"
        },
        "id": "217Ajhu9PIqq",
        "outputId": "91b84a26-bafb-4521-850f-2fe459cfda98"
      },
      "execution_count": 60,
      "outputs": [
        {
          "output_type": "stream",
          "name": "stdout",
          "text": [
            "3+4=?\n",
            "정답을 입력하시오:7\n",
            "참 잘했어요\n"
          ]
        }
      ]
    },
    {
      "cell_type": "code",
      "source": [
        "while True:\n",
        "  light=input(\"신호등 색상 입력:\")\n",
        "  if light=='green':\n",
        "    break\n",
        "print(\"길을 건너세요\")    "
      ],
      "metadata": {
        "colab": {
          "base_uri": "https://localhost:8080/"
        },
        "id": "2c_SIyo7PuDJ",
        "outputId": "9faf9017-6310-4080-c746-a26894ca1d89"
      },
      "execution_count": 61,
      "outputs": [
        {
          "output_type": "stream",
          "name": "stdout",
          "text": [
            "신호등 색상 입력:green\n",
            "길을 건너세요\n"
          ]
        }
      ]
    },
    {
      "cell_type": "code",
      "source": [
        "i=1\n",
        "total=0\n",
        "\n",
        "while True:\n",
        "  total=total+i\n",
        "  if total>50:\n",
        "    print(\"합이 50보다 커지는 수는 %d이고 합은 %d이다.\"%(i,total))\n",
        "    break\n",
        "  i+=1\n",
        "  "
      ],
      "metadata": {
        "colab": {
          "base_uri": "https://localhost:8080/"
        },
        "id": "pI_q_tHEQ7Qs",
        "outputId": "5a9be111-e9aa-4e1d-d908-82b5cccf951c"
      },
      "execution_count": 67,
      "outputs": [
        {
          "output_type": "stream",
          "name": "stdout",
          "text": [
            "합이 50보다 커지는 수는 10이고 합은 55이다.\n"
          ]
        }
      ]
    },
    {
      "cell_type": "code",
      "source": [
        "dan=2\n",
        "while dan<10:\n",
        "  hang=1\n",
        "  print(dan,\"단\")\n",
        "  while hang<10:\n",
        "    print(dan,\"*\",hang,\"=\",dan*hang)\n",
        "    hang+=1\n",
        "  dan+=1  \n",
        "  print()"
      ],
      "metadata": {
        "colab": {
          "base_uri": "https://localhost:8080/"
        },
        "id": "1d7BQuLJUPkE",
        "outputId": "62ccd95b-50c4-4517-b29c-c9e466bb0ad5"
      },
      "execution_count": 72,
      "outputs": [
        {
          "output_type": "stream",
          "name": "stdout",
          "text": [
            "2 단\n",
            "2 * 1 = 2\n",
            "2 * 2 = 4\n",
            "2 * 3 = 6\n",
            "2 * 4 = 8\n",
            "2 * 5 = 10\n",
            "2 * 6 = 12\n",
            "2 * 7 = 14\n",
            "2 * 8 = 16\n",
            "2 * 9 = 18\n",
            "\n",
            "3 단\n",
            "3 * 1 = 3\n",
            "3 * 2 = 6\n",
            "3 * 3 = 9\n",
            "3 * 4 = 12\n",
            "3 * 5 = 15\n",
            "3 * 6 = 18\n",
            "3 * 7 = 21\n",
            "3 * 8 = 24\n",
            "3 * 9 = 27\n",
            "\n",
            "4 단\n",
            "4 * 1 = 4\n",
            "4 * 2 = 8\n",
            "4 * 3 = 12\n",
            "4 * 4 = 16\n",
            "4 * 5 = 20\n",
            "4 * 6 = 24\n",
            "4 * 7 = 28\n",
            "4 * 8 = 32\n",
            "4 * 9 = 36\n",
            "\n",
            "5 단\n",
            "5 * 1 = 5\n",
            "5 * 2 = 10\n",
            "5 * 3 = 15\n",
            "5 * 4 = 20\n",
            "5 * 5 = 25\n",
            "5 * 6 = 30\n",
            "5 * 7 = 35\n",
            "5 * 8 = 40\n",
            "5 * 9 = 45\n",
            "\n",
            "6 단\n",
            "6 * 1 = 6\n",
            "6 * 2 = 12\n",
            "6 * 3 = 18\n",
            "6 * 4 = 24\n",
            "6 * 5 = 30\n",
            "6 * 6 = 36\n",
            "6 * 7 = 42\n",
            "6 * 8 = 48\n",
            "6 * 9 = 54\n",
            "\n",
            "7 단\n",
            "7 * 1 = 7\n",
            "7 * 2 = 14\n",
            "7 * 3 = 21\n",
            "7 * 4 = 28\n",
            "7 * 5 = 35\n",
            "7 * 6 = 42\n",
            "7 * 7 = 49\n",
            "7 * 8 = 56\n",
            "7 * 9 = 63\n",
            "\n",
            "8 단\n",
            "8 * 1 = 8\n",
            "8 * 2 = 16\n",
            "8 * 3 = 24\n",
            "8 * 4 = 32\n",
            "8 * 5 = 40\n",
            "8 * 6 = 48\n",
            "8 * 7 = 56\n",
            "8 * 8 = 64\n",
            "8 * 9 = 72\n",
            "\n",
            "9 단\n",
            "9 * 1 = 9\n",
            "9 * 2 = 18\n",
            "9 * 3 = 27\n",
            "9 * 4 = 36\n",
            "9 * 5 = 45\n",
            "9 * 6 = 54\n",
            "9 * 7 = 63\n",
            "9 * 8 = 72\n",
            "9 * 9 = 81\n",
            "\n"
          ]
        }
      ]
    },
    {
      "cell_type": "code",
      "source": [
        "for y in range(1,6):\n",
        "  for x in range(y):\n",
        "    print('*',end='')\n",
        "  print()  "
      ],
      "metadata": {
        "colab": {
          "base_uri": "https://localhost:8080/"
        },
        "id": "xaRj3N4RVlKU",
        "outputId": "5f46e468-83e7-4517-ec63-011230a1a563"
      },
      "execution_count": 79,
      "outputs": [
        {
          "output_type": "stream",
          "name": "stdout",
          "text": [
            "*\n",
            "**\n",
            "***\n",
            "****\n",
            "*****\n"
          ]
        }
      ]
    },
    {
      "cell_type": "code",
      "source": [
        "for i in range(1,7):\n",
        "  for j in range(7):\n",
        "    if(i==j)or (i+j==6):\n",
        "      print('*',end=' ')\n",
        "    else:  \n",
        "      print(' ',end=' ')\n",
        "  print()  "
      ],
      "metadata": {
        "colab": {
          "base_uri": "https://localhost:8080/"
        },
        "id": "oeVbTMQ8WodK",
        "outputId": "55be63dd-d230-4bf3-c0b6-23a3680cc87e"
      },
      "execution_count": 88,
      "outputs": [
        {
          "output_type": "stream",
          "name": "stdout",
          "text": [
            "  *       *   \n",
            "    *   *     \n",
            "      *       \n",
            "    *   *     \n",
            "  *       *   \n",
            "*           * \n"
          ]
        }
      ]
    },
    {
      "cell_type": "code",
      "source": [],
      "metadata": {
        "id": "iw-gouQLXpI8"
      },
      "execution_count": null,
      "outputs": []
    }
  ]
}