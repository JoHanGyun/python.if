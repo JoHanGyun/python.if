{
  "nbformat": 4,
  "nbformat_minor": 0,
  "metadata": {
    "colab": {
      "provenance": [],
      "authorship_tag": "ABX9TyNlJVOLPrREY7j1zB8VcsjY",
      "include_colab_link": true
    },
    "kernelspec": {
      "name": "python3",
      "display_name": "Python 3"
    },
    "language_info": {
      "name": "python"
    }
  },
  "cells": [
    {
      "cell_type": "markdown",
      "metadata": {
        "id": "view-in-github",
        "colab_type": "text"
      },
      "source": [
        "<a href=\"https://colab.research.google.com/github/JoHanGyun/python.if/blob/main/20516%EC%A1%B0%ED%95%9C%EA%B7%A0_%EB%A6%AC%EC%8A%A4%ED%8A%B8.ipynb\" target=\"_parent\"><img src=\"https://colab.research.google.com/assets/colab-badge.svg\" alt=\"Open In Colab\"/></a>"
      ]
    },
    {
      "cell_type": "markdown",
      "source": [
        "### page22"
      ],
      "metadata": {
        "id": "V6Ug4JYlMzRy"
      }
    },
    {
      "cell_type": "code",
      "execution_count": 10,
      "metadata": {
        "colab": {
          "base_uri": "https://localhost:8080/"
        },
        "id": "i_GGcTGdL3oV",
        "outputId": "f185b653-c6c6-40ab-dff3-9deb99bc4fa1"
      },
      "outputs": [
        {
          "output_type": "stream",
          "name": "stdout",
          "text": [
            "['red', 'blue', 'green']\n",
            "<class 'list'>\n",
            "red\n",
            "blue\n",
            "green\n",
            "green\n",
            "blue\n",
            "red\n"
          ]
        }
      ],
      "source": [
        "#리스트\n",
        "colors=['red','blue','green']\n",
        "print(colors)\n",
        "print(type(colors))\n",
        "print(colors[0])\n",
        "print(colors[1])\n",
        "print(colors[2])\n",
        "print(colors[-1])\n",
        "print(colors[-2])\n",
        "print(colors[-3])"
      ]
    },
    {
      "cell_type": "code",
      "source": [
        "a=[]\n",
        "b=list()\n",
        "print(a)\n",
        "print(b)\n",
        "print(type(a))\n",
        "print(type(b))"
      ],
      "metadata": {
        "colab": {
          "base_uri": "https://localhost:8080/"
        },
        "id": "dsPqfLNFMWxE",
        "outputId": "2a69a530-b86a-4439-f68a-74246a5f8c07"
      },
      "execution_count": 4,
      "outputs": [
        {
          "output_type": "stream",
          "name": "stdout",
          "text": [
            "[]\n",
            "[]\n",
            "<class 'list'>\n",
            "<class 'list'>\n"
          ]
        }
      ]
    },
    {
      "cell_type": "code",
      "source": [
        "num=range(1,21,2)\n",
        "print(num)\n",
        "print(type(num))\n",
        "num=list(range(1,21,2))\n",
        "print(num)\n",
        "print(len(num))\n",
        "print(type(num))"
      ],
      "metadata": {
        "colab": {
          "base_uri": "https://localhost:8080/"
        },
        "id": "ONDonoFwM_r9",
        "outputId": "af07643c-b86e-491f-bac9-22f948141ee4"
      },
      "execution_count": 9,
      "outputs": [
        {
          "output_type": "stream",
          "name": "stdout",
          "text": [
            "range(1, 21, 2)\n",
            "<class 'range'>\n",
            "[1, 3, 5, 7, 9, 11, 13, 15, 17, 19]\n",
            "10\n",
            "<class 'list'>\n"
          ]
        }
      ]
    },
    {
      "cell_type": "code",
      "source": [
        "#1\n",
        "price=[500.5000,8900,1800,2500]\n",
        "fruit=['사과','파인애플','수박']\n",
        "print(price)\n",
        "print(type(price))\n",
        "print(fruit)\n",
        "print(type(fruit))"
      ],
      "metadata": {
        "colab": {
          "base_uri": "https://localhost:8080/"
        },
        "id": "erUKXtrWNrcw",
        "outputId": "b89e761e-5003-4545-bfe1-cf82e414963e"
      },
      "execution_count": 11,
      "outputs": [
        {
          "output_type": "stream",
          "name": "stdout",
          "text": [
            "[500.5, 8900, 1800, 2500]\n",
            "<class 'list'>\n",
            "['사과', '파인애플', '수박']\n",
            "<class 'list'>\n"
          ]
        }
      ]
    },
    {
      "cell_type": "code",
      "source": [
        "#2\n",
        "fruit=['사과',1500,'수박',8900]\n",
        "print(fruit)\n",
        "print(\"사과의 자료형은\",type(fruit[0]),\"이다.\")\n",
        "print(\"1500의 자료형은\",type(fruit[1]),\"이다.\")\n",
        "print(\"수박의 자료형은\",type(fruit[2]),\"이다.\")\n",
        "print(\"8900의 자료형은\",type(fruit[3]),\"이다.\")"
      ],
      "metadata": {
        "colab": {
          "base_uri": "https://localhost:8080/"
        },
        "id": "n1q1YENTPBAh",
        "outputId": "d12794c1-c755-426d-9efd-21950ea051af"
      },
      "execution_count": 12,
      "outputs": [
        {
          "output_type": "stream",
          "name": "stdout",
          "text": [
            "['사과', 1500, '수박', 8900]\n",
            "사과의 자료형은 <class 'str'> 이다.\n",
            "1500의 자료형은 <class 'int'> 이다.\n",
            "수박의 자료형은 <class 'str'> 이다.\n",
            "8900의 자료형은 <class 'int'> 이다.\n"
          ]
        }
      ]
    },
    {
      "cell_type": "code",
      "source": [
        "#3\n",
        "a=[]\n",
        "b=list()\n",
        "print(a)\n",
        "print(b)\n",
        "print(type(a))\n",
        "print(type(b))"
      ],
      "metadata": {
        "colab": {
          "base_uri": "https://localhost:8080/"
        },
        "id": "M4AtS8bIPx4D",
        "outputId": "e54d857c-dab0-45da-e5d2-9ad55764fda1"
      },
      "execution_count": 14,
      "outputs": [
        {
          "output_type": "stream",
          "name": "stdout",
          "text": [
            "[]\n",
            "[]\n",
            "<class 'list'>\n",
            "<class 'list'>\n"
          ]
        }
      ]
    },
    {
      "cell_type": "code",
      "source": [
        "#4\n",
        "num=list(range(1,21,2))\n",
        "print(num)\n",
        "print(type(num))\n",
        "a=list(\"Korea\")\n",
        "print(a)\n",
        "print(type(a))"
      ],
      "metadata": {
        "colab": {
          "base_uri": "https://localhost:8080/"
        },
        "id": "C2MBmn50P9Xk",
        "outputId": "80d36d4f-37d7-4dba-fa5a-c2e5369bed8f"
      },
      "execution_count": 15,
      "outputs": [
        {
          "output_type": "stream",
          "name": "stdout",
          "text": [
            "[1, 3, 5, 7, 9, 11, 13, 15, 17, 19]\n",
            "<class 'list'>\n",
            "['K', 'o', 'r', 'e', 'a']\n",
            "<class 'list'>\n"
          ]
        }
      ]
    },
    {
      "cell_type": "code",
      "source": [
        "#5\n",
        "num=list(range(1,21,2))\n",
        "print(num)\n",
        "print(len(num))\n",
        "print(type(num))\n",
        "a=list(\"Korea\")\n",
        "print(a)\n",
        "print(len(a))\n",
        "print(type(a))"
      ],
      "metadata": {
        "colab": {
          "base_uri": "https://localhost:8080/"
        },
        "id": "OD--HA1xQeIs",
        "outputId": "d54e6fad-e4f3-4784-8d19-56205f2720dc"
      },
      "execution_count": 17,
      "outputs": [
        {
          "output_type": "stream",
          "name": "stdout",
          "text": [
            "[1, 3, 5, 7, 9, 11, 13, 15, 17, 19]\n",
            "10\n",
            "<class 'list'>\n",
            "['K', 'o', 'r', 'e', 'a']\n",
            "5\n",
            "<class 'list'>\n"
          ]
        }
      ]
    },
    {
      "cell_type": "code",
      "source": [
        "#6\n",
        "score=[88,95,70,100,99,80,78,50]\n",
        "print(\"학생 수는\",len(score),\"명입니다.\")\n",
        "print(\"최고 점수는\",max(score),\"점입니다.\")\n",
        "print(\"최저 점수는\",min(score),\"점입니다.\")"
      ],
      "metadata": {
        "colab": {
          "base_uri": "https://localhost:8080/"
        },
        "id": "X1Z1pHZ9QyoZ",
        "outputId": "cea45ebb-1062-4285-e441-dfa4d59ce39d"
      },
      "execution_count": 20,
      "outputs": [
        {
          "output_type": "stream",
          "name": "stdout",
          "text": [
            "학생 수는 8 명입니다.\n",
            "최고 점수는 100 점입니다.\n",
            "최저 점수는 50 점입니다.\n"
          ]
        }
      ]
    },
    {
      "cell_type": "code",
      "source": [
        "#7\n",
        "score=[88,95,70,100,99]\n",
        "print(score[0],score[1],score[2],score[3])\n",
        "print(score[-1],score[-2],score[-3],score[-4])"
      ],
      "metadata": {
        "colab": {
          "base_uri": "https://localhost:8080/"
        },
        "id": "SnhjreXQRaox",
        "outputId": "65b40d23-efc2-4b3d-d10e-c3222928a5f8"
      },
      "execution_count": 25,
      "outputs": [
        {
          "output_type": "stream",
          "name": "stdout",
          "text": [
            "88 95 70 100\n",
            "99 100 70 95\n"
          ]
        }
      ]
    },
    {
      "cell_type": "markdown",
      "source": [
        "### page23\n"
      ],
      "metadata": {
        "id": "rp-sswuYSaRn"
      }
    },
    {
      "cell_type": "code",
      "source": [
        "#8\n",
        "score=[88,95,70,100,99]\n",
        "score[0]=10\n",
        "score[1]=20\n",
        "score[2]=30\n",
        "score[3]=40\n",
        "score[4]=50\n",
        "print(score)"
      ],
      "metadata": {
        "colab": {
          "base_uri": "https://localhost:8080/"
        },
        "id": "qUwMTa-vQuuh",
        "outputId": "eb127785-3ed3-413f-d00c-3057aec0dfad"
      },
      "execution_count": 29,
      "outputs": [
        {
          "output_type": "stream",
          "name": "stdout",
          "text": [
            "[10, 20, 30, 40, 50]\n"
          ]
        }
      ]
    },
    {
      "cell_type": "code",
      "source": [
        "#9\n",
        "animals=['토끼','거북이','사자','호랑이']\n",
        "i=0\n",
        "while(i<4):\n",
        "  print(animals[i])\n",
        "  i+=1\n",
        "print()  "
      ],
      "metadata": {
        "colab": {
          "base_uri": "https://localhost:8080/"
        },
        "id": "3g4nq7E2TYxM",
        "outputId": "bfb71eca-e446-4c96-96d6-5f3aea163823"
      },
      "execution_count": 37,
      "outputs": [
        {
          "output_type": "stream",
          "name": "stdout",
          "text": [
            "토끼\n",
            "거북이\n",
            "사자\n",
            "호랑이\n",
            "\n"
          ]
        }
      ]
    },
    {
      "cell_type": "code",
      "source": [
        "#10\n",
        "nums=[0,1,2,3,4,5,6,7,8,9]\n",
        "print(nums[2:5:1])\n",
        "print(nums[1:6:2])\n",
        "print(nums[0:5:2])"
      ],
      "metadata": {
        "colab": {
          "base_uri": "https://localhost:8080/"
        },
        "id": "RnuTG7HiUax0",
        "outputId": "630e7f9b-6881-467f-eee5-d9bd5417bdb5"
      },
      "execution_count": 41,
      "outputs": [
        {
          "output_type": "stream",
          "name": "stdout",
          "text": [
            "[2, 3, 4]\n",
            "[1, 3, 5]\n",
            "[0, 2, 4]\n"
          ]
        }
      ]
    },
    {
      "cell_type": "code",
      "source": [
        "#11\n",
        "nums=[0,1,2,3,4,5,6,7,8,9]\n",
        "print(nums[0:5:1])\n",
        "print(nums[0:7:2])\n",
        "print(nums[0:5:2])"
      ],
      "metadata": {
        "colab": {
          "base_uri": "https://localhost:8080/"
        },
        "id": "aHwzOtbPUVAj",
        "outputId": "11be99ff-36b0-41a2-ce77-b94e435bd756"
      },
      "execution_count": 42,
      "outputs": [
        {
          "output_type": "stream",
          "name": "stdout",
          "text": [
            "[0, 1, 2, 3, 4]\n",
            "[0, 2, 4, 6]\n",
            "[0, 2, 4]\n"
          ]
        }
      ]
    },
    {
      "cell_type": "code",
      "source": [
        "#12\n",
        "nums=[0,1,2,3,4,5,6,7,8,9]\n",
        "print(nums[2:10:1])\n",
        "print(nums[1:10:2])\n",
        "print(nums[0:9:2])"
      ],
      "metadata": {
        "colab": {
          "base_uri": "https://localhost:8080/"
        },
        "id": "JEdGMeeOTXd6",
        "outputId": "98ed8945-a2e2-4d44-8940-555e4af6f801"
      },
      "execution_count": 43,
      "outputs": [
        {
          "output_type": "stream",
          "name": "stdout",
          "text": [
            "[2, 3, 4, 5, 6, 7, 8, 9]\n",
            "[1, 3, 5, 7, 9]\n",
            "[0, 2, 4, 6, 8]\n"
          ]
        }
      ]
    },
    {
      "cell_type": "code",
      "source": [
        "#13\n",
        "nums=[0,1,2,3,4,5,6,7,8,9]\n",
        "print(nums[2:5:1])\n",
        "print(nums[1:7:1])\n",
        "print(nums[0:5:1])"
      ],
      "metadata": {
        "colab": {
          "base_uri": "https://localhost:8080/"
        },
        "id": "iKP1DfWQP15s",
        "outputId": "a560d179-5d65-4bef-e829-a362516a259e"
      },
      "execution_count": 44,
      "outputs": [
        {
          "output_type": "stream",
          "name": "stdout",
          "text": [
            "[2, 3, 4]\n",
            "[1, 2, 3, 4, 5, 6]\n",
            "[0, 1, 2, 3, 4]\n"
          ]
        }
      ]
    },
    {
      "cell_type": "code",
      "source": [
        "#14\n",
        "fruits=['사과','오렌지','딸기','포도','감','키위','멜론','수박']\n",
        "print(fruits[0])\n",
        "print(fruits[1:3:1])\n",
        "print(fruits[2:8:1])\n",
        "print(fruits[7])\n",
        "print(fruits[4:6:1])\n",
        "print(fruits[5:8:1])"
      ],
      "metadata": {
        "colab": {
          "base_uri": "https://localhost:8080/"
        },
        "id": "n3ul1Oe2WCaE",
        "outputId": "990dee2e-4cec-4a4b-ad0e-595dc5df0915"
      },
      "execution_count": 47,
      "outputs": [
        {
          "output_type": "stream",
          "name": "stdout",
          "text": [
            "사과\n",
            "['오렌지', '딸기']\n",
            "['딸기', '포도', '감', '키위', '멜론', '수박']\n",
            "수박\n",
            "['감', '키위']\n",
            "['키위', '멜론', '수박']\n"
          ]
        }
      ]
    },
    {
      "cell_type": "code",
      "source": [
        "#15\n",
        "print(list(\"Korea\"))"
      ],
      "metadata": {
        "colab": {
          "base_uri": "https://localhost:8080/"
        },
        "id": "BxHFGlkmW6I_",
        "outputId": "7cb75767-63aa-4c40-97b9-cc0ac0f48494"
      },
      "execution_count": 49,
      "outputs": [
        {
          "output_type": "stream",
          "name": "stdout",
          "text": [
            "['K', 'o', 'r', 'e', 'a']\n"
          ]
        }
      ]
    },
    {
      "cell_type": "code",
      "source": [
        "#16\n",
        "my_list=list(\"PythonIsFun!\")\n",
        "print(my_list)\n",
        "print(my_list[5:11:1])\n",
        "print(my_list[7:10:1])\n",
        "print(my_list[0:4:1])\n",
        "print(my_list[8:12:1])"
      ],
      "metadata": {
        "colab": {
          "base_uri": "https://localhost:8080/"
        },
        "id": "qKIlahbSWCes",
        "outputId": "4ba18063-05f4-4bff-fc8b-0bd5aff31aac"
      },
      "execution_count": 52,
      "outputs": [
        {
          "output_type": "stream",
          "name": "stdout",
          "text": [
            "['P', 'y', 't', 'h', 'o', 'n', 'I', 's', 'F', 'u', 'n', '!']\n",
            "['n', 'I', 's', 'F', 'u', 'n']\n",
            "['s', 'F', 'u']\n",
            "['P', 'y', 't', 'h']\n",
            "['F', 'u', 'n', '!']\n"
          ]
        }
      ]
    },
    {
      "cell_type": "markdown",
      "source": [
        "### page24\n"
      ],
      "metadata": {
        "id": "jGSMq1DYYV6P"
      }
    },
    {
      "cell_type": "code",
      "source": [
        "#17\n",
        "s=\"python\"\n",
        "print(s[2])\n",
        "print(s[4])\n",
        "print(s[1:4:1])"
      ],
      "metadata": {
        "colab": {
          "base_uri": "https://localhost:8080/"
        },
        "id": "xgdXPpOsYTmV",
        "outputId": "756ccbc6-dcd1-4ef6-916e-f6e084126fb1"
      },
      "execution_count": 54,
      "outputs": [
        {
          "output_type": "stream",
          "name": "stdout",
          "text": [
            "t\n",
            "o\n",
            "yth\n"
          ]
        }
      ]
    },
    {
      "cell_type": "code",
      "source": [
        "#18\n",
        "]file=\"20210505-104830.jpg\"\n",
        "print(\"촬영 날짜:\",file[4:6:1],\"월\",file[6:8:1],\"일\")\n",
        "print(\"촬영 시간:\",file[9:11:1],\"시\",file[11:13:1],\"분\")\n",
        "print(\"촬영 날짜:\",file[15:19:1])"
      ],
      "metadata": {
        "colab": {
          "base_uri": "https://localhost:8080/"
        },
        "id": "MK-RJ3ObYiiE",
        "outputId": "97981ddf-4fbe-4a88-8ead-808b9fc0b444"
      },
      "execution_count": 56,
      "outputs": [
        {
          "output_type": "stream",
          "name": "stdout",
          "text": [
            "촬영 날짜: 05 월 05 일\n",
            "촬영 시간: 10 시 48 분\n",
            "촬영 날짜: .jpg\n"
          ]
        }
      ]
    },
    {
      "cell_type": "code",
      "source": [
        "#19\n",
        "s=\"차종:코란도C, 제조사:쌍용, 배기량: 1998\"\n",
        "print(s[13:15:1])"
      ],
      "metadata": {
        "colab": {
          "base_uri": "https://localhost:8080/"
        },
        "id": "IF-rscb6Z5qK",
        "outputId": "db75cb7c-6770-4610-9cff-cb99544131b7"
      },
      "execution_count": 59,
      "outputs": [
        {
          "output_type": "stream",
          "name": "stdout",
          "text": [
            "쌍용\n"
          ]
        }
      ]
    },
    {
      "cell_type": "code",
      "source": [
        "#20\n",
        "jumin=\"901231-1914983\"\n",
        "year=jumin[0:2:1]\n",
        "if(jumin[7]=='2'):\n",
        "  gender=\"여자\"\n",
        "else  :\n",
        "  gender=\"남자\"\n",
        "print(\"{}년생 {}입니다.\".format(year,gender))\n",
        "\n"
      ],
      "metadata": {
        "colab": {
          "base_uri": "https://localhost:8080/"
        },
        "id": "p13FDyN0aZ8R",
        "outputId": "50ac9a18-1b2c-44a3-b826-878754ef0545"
      },
      "execution_count": 65,
      "outputs": [
        {
          "output_type": "stream",
          "name": "stdout",
          "text": [
            "90년생 여자입니다.\n"
          ]
        }
      ]
    },
    {
      "cell_type": "code",
      "source": [
        "#21\n",
        "nums=[1,2,3,4]\n",
        "nums.append(5)\n",
        "print(nums)\n",
        "\n",
        "#요소 삽입\n",
        "nums.insert(2,99)\n",
        "print(nums)"
      ],
      "metadata": {
        "colab": {
          "base_uri": "https://localhost:8080/"
        },
        "id": "itdvff8ybqsi",
        "outputId": "4b65cdd4-9fc7-4b86-8a50-43ca8ca70104"
      },
      "execution_count": 67,
      "outputs": [
        {
          "output_type": "stream",
          "name": "stdout",
          "text": [
            "[1, 2, 3, 4, 5]\n",
            "[1, 2, 99, 3, 4, 5]\n"
          ]
        }
      ]
    },
    {
      "cell_type": "code",
      "source": [
        "#22\n",
        "list1=[1,2,3,4,5]\n",
        "list2=[10,11]\n",
        "list1.extend(list2)\n",
        "print(list1)"
      ],
      "metadata": {
        "colab": {
          "base_uri": "https://localhost:8080/"
        },
        "id": "3GMT_oC7aWBh",
        "outputId": "c1fb4ed4-dc8d-41a2-a69f-b77b95e26c59"
      },
      "execution_count": 69,
      "outputs": [
        {
          "output_type": "stream",
          "name": "stdout",
          "text": [
            "[1, 2, 3, 4, 5, 10, 11]\n"
          ]
        }
      ]
    },
    {
      "cell_type": "code",
      "source": [
        "#23\n",
        "score=[88,95,70,100,99]\n",
        "print(\"100의 위치:\",score.index(100)+1)\n",
        "print(score.pop())\n",
        "print(score.pop())\n",
        "print(score.pop(1))\n",
        "print(score)"
      ],
      "metadata": {
        "colab": {
          "base_uri": "https://localhost:8080/"
        },
        "id": "zpS6IxIDZ3xj",
        "outputId": "cc3e853a-0260-4fa0-abe7-f3ff617617cd"
      },
      "execution_count": 72,
      "outputs": [
        {
          "output_type": "stream",
          "name": "stdout",
          "text": [
            "100의 위치: 4\n",
            "99\n",
            "100\n",
            "95\n",
            "[88, 70]\n"
          ]
        }
      ]
    },
    {
      "cell_type": "markdown",
      "source": [
        "### page25\n"
      ],
      "metadata": {
        "id": "bmJa0WtFoKZ-"
      }
    },
    {
      "cell_type": "code",
      "source": [
        "#24\n",
        "score=[88,95,70,100,99]\n",
        "score.remove(99)\n",
        "print(\"99삭제 후:\",score)\n",
        "score.sort()\n",
        "print(\"리스트 정렬:\",score)\n",
        "score.reverse()\n",
        "# score.sort(reverse=True)\n",
        "print(\"거꾸로 정렬:\",score)\n",
        "score.clear()\n",
        "print(\"리스트 삭제:\",score)"
      ],
      "metadata": {
        "colab": {
          "base_uri": "https://localhost:8080/"
        },
        "id": "zYnABpgfoJ-q",
        "outputId": "8ed283ba-d868-4135-9a38-a5c15aa2aa3d"
      },
      "execution_count": 79,
      "outputs": [
        {
          "output_type": "stream",
          "name": "stdout",
          "text": [
            "99삭제 후: [88, 95, 70, 100]\n",
            "리스트 정렬: [70, 88, 95, 100]\n",
            "거꾸로 정렬: [100, 95, 88, 70]\n",
            "리스트 삭제: []\n"
          ]
        }
      ]
    },
    {
      "cell_type": "code",
      "source": [
        "#25\n",
        "list1=['a','bb','c','d','aaa','c','ddd','aaa','b','cc','d','aaa',]\n",
        "list1.count('aaa')\n",
        "print(list1.count('aaa'))"
      ],
      "metadata": {
        "colab": {
          "base_uri": "https://localhost:8080/"
        },
        "id": "m1olYVGyokoU",
        "outputId": "b018006b-0074-4832-becb-9dea6e350f0f"
      },
      "execution_count": 84,
      "outputs": [
        {
          "output_type": "stream",
          "name": "stdout",
          "text": [
            "3\n"
          ]
        }
      ]
    },
    {
      "cell_type": "code",
      "source": [
        "mylist=['사과','바나나','파인애플']\n",
        "mylist.append('키위')\n",
        "mylist.append('배')\n",
        "for i in range(0,5):\n",
        "  print(mylist[i])\n",
        "  i+=1"
      ],
      "metadata": {
        "colab": {
          "base_uri": "https://localhost:8080/"
        },
        "id": "4-ejb5FYqf4h",
        "outputId": "715c438a-e102-40c9-df2c-7323e86393d2"
      },
      "execution_count": 88,
      "outputs": [
        {
          "output_type": "stream",
          "name": "stdout",
          "text": [
            "사과\n",
            "바나나\n",
            "파인애플\n",
            "키위\n",
            "배\n"
          ]
        }
      ]
    },
    {
      "cell_type": "code",
      "source": [
        "scores=[]\n",
        "\n",
        "while True:\n",
        "  score=int(input(\"성적을 입력하세요(종료:-1)\"))"
      ],
      "metadata": {
        "id": "IRxhW4m7qbAZ"
      },
      "execution_count": null,
      "outputs": []
    },
    {
      "cell_type": "code",
      "source": [],
      "metadata": {
        "id": "CO55BsFTqaNp"
      },
      "execution_count": null,
      "outputs": []
    },
    {
      "cell_type": "code",
      "source": [],
      "metadata": {
        "id": "H8DDfNAjNaGa"
      },
      "execution_count": null,
      "outputs": []
    },
    {
      "cell_type": "code",
      "source": [],
      "metadata": {
        "id": "SCIiTmRSNTTi"
      },
      "execution_count": null,
      "outputs": []
    },
    {
      "cell_type": "code",
      "source": [],
      "metadata": {
        "id": "A60lotgGNMEl"
      },
      "execution_count": null,
      "outputs": []
    }
  ]
}