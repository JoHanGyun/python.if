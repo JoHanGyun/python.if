{
  "nbformat": 4,
  "nbformat_minor": 0,
  "metadata": {
    "colab": {
      "provenance": [],
      "authorship_tag": "ABX9TyPMDwxX0o/L/n+3DDdg9xoc",
      "include_colab_link": true
    },
    "kernelspec": {
      "name": "python3",
      "display_name": "Python 3"
    },
    "language_info": {
      "name": "python"
    }
  },
  "cells": [
    {
      "cell_type": "markdown",
      "metadata": {
        "id": "view-in-github",
        "colab_type": "text"
      },
      "source": [
        "<a href=\"https://colab.research.google.com/github/JoHanGyun/python.if/blob/main/20516%EC%A1%B0%ED%95%9C%EA%B7%A0_%EB%AC%B8%EC%9E%90%EC%97%B4.ipynb\" target=\"_parent\"><img src=\"https://colab.research.google.com/assets/colab-badge.svg\" alt=\"Open In Colab\"/></a>"
      ]
    },
    {
      "cell_type": "code",
      "execution_count": 1,
      "metadata": {
        "colab": {
          "base_uri": "https://localhost:8080/"
        },
        "id": "I6MrKCjSR5Rx",
        "outputId": "60c90048-c5ae-4180-b19f-b2d5dd82706e"
      },
      "outputs": [
        {
          "output_type": "stream",
          "name": "stdout",
          "text": [
            "ptyhon\n",
            "p\n",
            "n\n"
          ]
        }
      ],
      "source": [
        "s=\"ptyhon\"\n",
        "print(s)\n",
        "print(s[0])\n",
        "print(s[-1])"
      ]
    },
    {
      "cell_type": "code",
      "source": [
        "print(s[10])"
      ],
      "metadata": {
        "colab": {
          "base_uri": "https://localhost:8080/",
          "height": 174
        },
        "id": "rzKwrGMmSUuT",
        "outputId": "9d492718-325e-4d0e-b5aa-16ef6da1e67c"
      },
      "execution_count": 2,
      "outputs": [
        {
          "output_type": "error",
          "ename": "IndexError",
          "evalue": "ignored",
          "traceback": [
            "\u001b[0;31m---------------------------------------------------------------------------\u001b[0m",
            "\u001b[0;31mIndexError\u001b[0m                                Traceback (most recent call last)",
            "\u001b[0;32m<ipython-input-2-0cdd5c036754>\u001b[0m in \u001b[0;36m<cell line: 1>\u001b[0;34m()\u001b[0m\n\u001b[0;32m----> 1\u001b[0;31m \u001b[0mprint\u001b[0m\u001b[0;34m(\u001b[0m\u001b[0ms\u001b[0m\u001b[0;34m[\u001b[0m\u001b[0;36m10\u001b[0m\u001b[0;34m]\u001b[0m\u001b[0;34m)\u001b[0m\u001b[0;34m\u001b[0m\u001b[0;34m\u001b[0m\u001b[0m\n\u001b[0m",
            "\u001b[0;31mIndexError\u001b[0m: string index out of range"
          ]
        }
      ]
    },
    {
      "cell_type": "code",
      "source": [
        "s1=input(\"첫번째 문자열:\")\n",
        "s2=input(\"두번째 문자열:\")\n",
        "s3=input(\"세번째 문자열:\")\n",
        "if s1[-1]==s2[0] and s2[-1]==s3[0] and s3[-1]==s1[0]:\n",
        "  print(\"good\")\n",
        "else:\n",
        "  print(\"bad\")  \n"
      ],
      "metadata": {
        "colab": {
          "base_uri": "https://localhost:8080/"
        },
        "id": "02F866dxSZQL",
        "outputId": "6a9e6ffc-dde4-49cd-e32f-2e37521f7f46"
      },
      "execution_count": 9,
      "outputs": [
        {
          "output_type": "stream",
          "name": "stdout",
          "text": [
            "첫번째 문자열:tuttle\n",
            "두번째 문자열:error\n",
            "세번째 문자열:robot\n",
            "good\n"
          ]
        }
      ]
    },
    {
      "cell_type": "code",
      "source": [
        "s=\"pytion\"\n",
        "for i in range(len(s)):\n",
        "  print(s[i],end=\",\")"
      ],
      "metadata": {
        "colab": {
          "base_uri": "https://localhost:8080/"
        },
        "id": "Ws4NqVT9TKwC",
        "outputId": "9d7e70f4-dbe5-436e-f148-a595c4246d9c"
      },
      "execution_count": 11,
      "outputs": [
        {
          "output_type": "stream",
          "name": "stdout",
          "text": [
            "p,y,t,i,o,n,"
          ]
        }
      ]
    },
    {
      "cell_type": "code",
      "source": [
        "number=input(\"하이픈(-)을 포함한 휴대번호를 입력하세요:\")\n",
        "result=number\n",
        "for i in number:\n",
        "    if i in \"-\":\n",
        "        result = result.replace(i, '')\n",
        "        \n",
        "print(result)"
      ],
      "metadata": {
        "colab": {
          "base_uri": "https://localhost:8080/"
        },
        "id": "raoydS5YWggI",
        "outputId": "5a807eb0-9e5c-46f2-c965-ff65f5e75759"
      },
      "execution_count": 17,
      "outputs": [
        {
          "output_type": "stream",
          "name": "stdout",
          "text": [
            "하이픈(-)을 포함한 휴대번호를 입력하세요:010-8390-8233\n",
            "01083908233\n"
          ]
        }
      ]
    },
    {
      "cell_type": "code",
      "source": [
        "s=\"pytion\"\n",
        "n=\"여섯글자이다\"\n",
        "print(len(s))\n",
        "print(len(n))"
      ],
      "metadata": {
        "colab": {
          "base_uri": "https://localhost:8080/"
        },
        "id": "mZvyOiQKXs7y",
        "outputId": "e56ec172-b03e-4179-b49a-c0e0be588606"
      },
      "execution_count": 18,
      "outputs": [
        {
          "output_type": "stream",
          "name": "stdout",
          "text": [
            "6\n",
            "6\n"
          ]
        }
      ]
    },
    {
      "cell_type": "code",
      "source": [
        "sentence=input(\"문자열 입력:\")\n",
        "for i in range(len(sentence)):\n",
        "  if sentence[i]=='t':\n",
        "    print(i+1,end=' ')"
      ],
      "metadata": {
        "colab": {
          "base_uri": "https://localhost:8080/"
        },
        "id": "yqm3fRhwYnFP",
        "outputId": "d16463d0-26d2-4c16-b05c-64bacd6cdba9"
      },
      "execution_count": 21,
      "outputs": [
        {
          "output_type": "stream",
          "name": "stdout",
          "text": [
            "문자열 입력:test\n",
            "1 4 "
          ]
        }
      ]
    },
    {
      "cell_type": "code",
      "source": [
        "sentence=input(\"문자을 입력해 주세요:\")\n",
        "i=len(sentence)-1 #16\n",
        "while(i>=0):\n",
        "  if sentence[i]==' ':\n",
        "    print(\"-\",end='')\n",
        "  else:\n",
        "    print('%s'%sentence[i],end='')\n",
        "  i-=1\n"
      ],
      "metadata": {
        "colab": {
          "base_uri": "https://localhost:8080/"
        },
        "id": "36ZCK67uXy36",
        "outputId": "c3ecb0f7-562b-4975-b053-a6f58ef02de7"
      },
      "execution_count": 24,
      "outputs": [
        {
          "output_type": "stream",
          "name": "stdout",
          "text": [
            "문자을 입력해 주세요:Enjoy your life!\n",
            "!efil-ruoy-yojnE"
          ]
        }
      ]
    },
    {
      "cell_type": "code",
      "source": [
        "data=input(\"문자열 입력:\")\n",
        "for i in range(len(data)-1):\n",
        "  print(data[i],data[i+1],sep='')"
      ],
      "metadata": {
        "colab": {
          "base_uri": "https://localhost:8080/"
        },
        "id": "9RJD5Eo6Xu3S",
        "outputId": "46daeb52-d75d-4526-8769-bc5210eb2569"
      },
      "execution_count": 27,
      "outputs": [
        {
          "output_type": "stream",
          "name": "stdout",
          "text": [
            "문자열 입력:python\n",
            "py\n",
            "yt\n",
            "th\n",
            "ho\n",
            "on\n"
          ]
        }
      ]
    },
    {
      "cell_type": "code",
      "source": [
        "s=\"python\"\n",
        "print(s[2:5])\n",
        "print(s[3:])\n",
        "print(s[:4])\n",
        "print(s[2:-2])\n",
        "print(s[-2:])"
      ],
      "metadata": {
        "colab": {
          "base_uri": "https://localhost:8080/"
        },
        "id": "Pr8AO3M7gR_u",
        "outputId": "0a5ac948-bf34-479a-b0e2-6c76d14c609b"
      },
      "execution_count": 28,
      "outputs": [
        {
          "output_type": "stream",
          "name": "stdout",
          "text": [
            "tho\n",
            "hon\n",
            "pyth\n",
            "th\n",
            "on\n"
          ]
        }
      ]
    },
    {
      "cell_type": "code",
      "source": [
        "s=\"차종: 코란도C, 제조사: 쌍용, 배기량: 1988\"\n",
        "print(s[15:17])"
      ],
      "metadata": {
        "colab": {
          "base_uri": "https://localhost:8080/"
        },
        "id": "Ys5nFJSNgrnk",
        "outputId": "d764bb21-67a2-49bc-ec0d-1df253f98e1d"
      },
      "execution_count": 35,
      "outputs": [
        {
          "output_type": "stream",
          "name": "stdout",
          "text": [
            "쌍용\n"
          ]
        }
      ]
    },
    {
      "cell_type": "code",
      "source": [],
      "metadata": {
        "id": "pkCYnjDFieQK"
      },
      "execution_count": null,
      "outputs": []
    },
    {
      "cell_type": "code",
      "source": [
        "s=\"20210505-104830.jpg\"\n",
        "print(\"촬영 날짜: \"+s[4:6]+\"월\"+s[6:8]+\"일\")\n",
        "print(\"촬영 시간:\"+s[9:11]+\"시\"+s[11:13]+\"분\")\n",
        "print(\"확장자:\"+s[16:19])"
      ],
      "metadata": {
        "colab": {
          "base_uri": "https://localhost:8080/"
        },
        "id": "eQYO0754gulF",
        "outputId": "83e3df34-a6b9-489f-f96c-73c104554a90"
      },
      "execution_count": 37,
      "outputs": [
        {
          "output_type": "stream",
          "name": "stdout",
          "text": [
            "촬영 날짜: 05월05일\n",
            "촬영 시간:10시48분\n",
            "확장자:jpg\n"
          ]
        }
      ]
    },
    {
      "cell_type": "code",
      "source": [
        "yoil=\"월화수목금토일\"\n",
        "print(yoil[0:7:2])\n",
        "print(yoil[-1:-8:-1])"
      ],
      "metadata": {
        "colab": {
          "base_uri": "https://localhost:8080/"
        },
        "id": "DPIOvpCZie5i",
        "outputId": "ef928279-96e9-4276-cd1f-c664cad0a156"
      },
      "execution_count": 41,
      "outputs": [
        {
          "output_type": "stream",
          "name": "stdout",
          "text": [
            "월수금일\n",
            "일토금목수화월\n"
          ]
        }
      ]
    },
    {
      "cell_type": "code",
      "source": [
        "jumin=\"901231-1914983\"\n",
        "year=jumin[0:2]\n",
        "gen=jumin[7]\n",
        "if gen=='1':\n",
        "  print(year+\"년생 남자입니다.\")\n",
        "else:\n",
        "  print(year+\"년생 여자입니다.\")  "
      ],
      "metadata": {
        "colab": {
          "base_uri": "https://localhost:8080/"
        },
        "id": "K67xtEmdidRz",
        "outputId": "dca24dd2-eb87-423b-87f4-24b587d571b7"
      },
      "execution_count": 43,
      "outputs": [
        {
          "output_type": "stream",
          "name": "stdout",
          "text": [
            "90년생 남자입니다.\n"
          ]
        }
      ]
    },
    {
      "cell_type": "code",
      "source": [
        "a=\"10 20 30 40 50\"\n",
        "a.split()\n",
        "print(a.split())\n",
        "b=\"나는 서울로봇고 2학년이야.\"\n",
        "b.split()"
      ],
      "metadata": {
        "colab": {
          "base_uri": "https://localhost:8080/"
        },
        "id": "DG1A1cyqgunV",
        "outputId": "c243c3f3-76c5-4e3a-e37c-62f5a693c3b7"
      },
      "execution_count": 44,
      "outputs": [
        {
          "output_type": "stream",
          "name": "stdout",
          "text": [
            "['10', '20', '30', '40', '50']\n"
          ]
        },
        {
          "output_type": "execute_result",
          "data": {
            "text/plain": [
              "['나는', '서울로봇고', '2학년이야.']"
            ]
          },
          "metadata": {},
          "execution_count": 44
        }
      ]
    },
    {
      "cell_type": "code",
      "source": [
        "a=\"a:b:c:d\"\n",
        "a.split(':')"
      ],
      "metadata": {
        "colab": {
          "base_uri": "https://localhost:8080/"
        },
        "id": "8kUEnx7YliAN",
        "outputId": "63f7e07c-7d01-4044-eccb-89c94ca044ef"
      },
      "execution_count": 45,
      "outputs": [
        {
          "output_type": "execute_result",
          "data": {
            "text/plain": [
              "['a', 'b', 'c', 'd']"
            ]
          },
          "metadata": {},
          "execution_count": 45
        }
      ]
    },
    {
      "cell_type": "code",
      "source": [
        "BTS=\"정국, 진, 뷔, 슈가, 지민, RM, 제이홉\"\n",
        "BTS_members=BTS.split(',')\n",
        "print(\"방탄멤버:\",BTS_members)\n",
        "for member in BTS_members:\n",
        "  print(member.strip(), \"사랑해\")"
      ],
      "metadata": {
        "colab": {
          "base_uri": "https://localhost:8080/"
        },
        "id": "CUsSOZnugups",
        "outputId": "efc56126-bc8b-4bec-a669-d339045b0d34"
      },
      "execution_count": 63,
      "outputs": [
        {
          "output_type": "stream",
          "name": "stdout",
          "text": [
            "방탄멤버: ['정국', ' 진', ' 뷔', ' 슈가', ' 지민', ' RM', ' 제이홉']\n",
            "정국 사랑해\n",
            "진 사랑해\n",
            "뷔 사랑해\n",
            "슈가 사랑해\n",
            "지민 사랑해\n",
            "RM 사랑해\n",
            "제이홉 사랑해\n"
          ]
        }
      ]
    },
    {
      "cell_type": "code",
      "source": [
        "file_names=[\"file1.py\",\"file2.txt\",\"file3.pptx\",\"file4.doc\"]\n",
        "for file_name in file_names:\n",
        "  arr=file_name.split(\".\")\n",
        "  print(f\"{file_name:11}=> 파일명:{arr[0]}, 확장자:{arr[1]}\")"
      ],
      "metadata": {
        "colab": {
          "base_uri": "https://localhost:8080/"
        },
        "id": "GgZeCAV_gusO",
        "outputId": "0fa1abea-48a6-485c-9c23-d2f17e04ac5b"
      },
      "execution_count": 60,
      "outputs": [
        {
          "output_type": "stream",
          "name": "stdout",
          "text": [
            "file1.py   => 파일명:file1, 확장자:py\n",
            "file2.txt  => 파일명:file2, 확장자:txt\n",
            "file3.pptx => 파일명:file3, 확장자:pptx\n",
            "file4.doc  => 파일명:file4, 확장자:doc\n"
          ]
        }
      ]
    },
    {
      "cell_type": "code",
      "source": [
        "sentence=input(\"문자열 입력:\")\n",
        "a=sentence.split()\n",
        "for i in a:\n",
        "  print(i[0],end='')"
      ],
      "metadata": {
        "colab": {
          "base_uri": "https://localhost:8080/"
        },
        "id": "xGu00m3Lguus",
        "outputId": "2c9e7eb6-58a5-4a9f-e718-229231d3f447"
      },
      "execution_count": 65,
      "outputs": [
        {
          "output_type": "stream",
          "name": "stdout",
          "text": [
            "문자열 입력:복잡한 세상 편하게 살자\n",
            "복세편살"
          ]
        }
      ]
    },
    {
      "cell_type": "code",
      "source": [
        "print(\",\".join('abcd'))\n",
        "print(\"::\".join([\"1\",\"2\",\"3\",\"4\",\"5\"]))"
      ],
      "metadata": {
        "colab": {
          "base_uri": "https://localhost:8080/"
        },
        "id": "zSwOaBAVxQor",
        "outputId": "c944aa85-6e32-4b1e-d4f1-eeb487513a28"
      },
      "execution_count": 64,
      "outputs": [
        {
          "output_type": "stream",
          "name": "stdout",
          "text": [
            "a,b,c,d\n",
            "1::2::3::4::5\n"
          ]
        }
      ]
    },
    {
      "cell_type": "code",
      "source": [
        "s=\"python programming\"\n",
        "\n",
        "print(\"문자열 s의 길이=\",len(s))\n",
        "print()\n",
        "print(\"문자열 s에서 o의 인덱스=\",s.find('o'))\n",
        "print(\"문자열 s에서 o의 인덱스=\",s.find('o',5))\n",
        "print(\"문자열 없는 인덱스를 검색=\",s.find('A'))\n",
        "print(\"o를 뒤에서부터 검색한 인덱스=\",s.rfind('o'))\n",
        "print()\n",
        "print(\"문자열 s에서 r의 인데스=\",s.index('r'))\n",
        "print(\"문자열 s에서 n의 개수=\",s.count('n'))\n",
        "print()\n",
        "print(\"문자열 s에서 gram의 인덱스=\",s.find('gram'))\n",
        "print(\"문자열 s에서 gram의 개수=\",s.index('gram'))\n",
        "print(\"문자열 s에서 gram의 개수=\",s.count('gram'))"
      ],
      "metadata": {
        "colab": {
          "base_uri": "https://localhost:8080/"
        },
        "id": "2YWk-QCpguxO",
        "outputId": "0f3a5c8c-33b2-412f-8be6-f7133c109122"
      },
      "execution_count": 66,
      "outputs": [
        {
          "output_type": "stream",
          "name": "stdout",
          "text": [
            "문자열 s의 길이= 18\n",
            "\n",
            "문자열 s에서 o의 인덱스= 4\n",
            "문자열 s에서 o의 인덱스= 9\n",
            "문자열 없는 인덱스를 검색= -1\n",
            "o를 뒤에서부터 검색한 인덱스= 9\n",
            "\n",
            "문자열 s에서 r의 인데스= 8\n",
            "문자열 s에서 n의 개수= 2\n",
            "\n",
            "문자열 s에서 gram의 인덱스= 10\n",
            "문자열 s에서 gram의 개수= 10\n",
            "문자열 s에서 gram의 개수= 1\n"
          ]
        }
      ]
    },
    {
      "cell_type": "code",
      "source": [
        "name=\"박보검\"\n",
        "if name.startswith(\"박\"):\n",
        "  print(\"박씨입니다.\")\n",
        "elif name.startswith(\"rla\"):\n",
        "  print(\"김씨입니다.\")\n",
        "\n",
        "file=\"HelloPython.jpg\"\n",
        "if  file.endswith(\"jpg\"):\n",
        "  print(\"그림파일입니다.\")"
      ],
      "metadata": {
        "colab": {
          "base_uri": "https://localhost:8080/"
        },
        "id": "AdebVY4Wguzd",
        "outputId": "6dba7278-5169-4ed5-8856-c2116741d983"
      },
      "execution_count": 68,
      "outputs": [
        {
          "output_type": "stream",
          "name": "stdout",
          "text": [
            "박씨입니다.\n",
            "그림파일입니다.\n"
          ]
        }
      ]
    },
    {
      "cell_type": "code",
      "source": [
        "domain=\"http://www.soen.kr\"\n",
        "if domain.endswith(\".kr\"):\n",
        "  print(\"한국 도메인입니다.\")"
      ],
      "metadata": {
        "colab": {
          "base_uri": "https://localhost:8080/"
        },
        "id": "ibfhiQfDgu2M",
        "outputId": "85475a1f-58bf-4ba8-e62d-c439b0c291da"
      },
      "execution_count": 69,
      "outputs": [
        {
          "output_type": "stream",
          "name": "stdout",
          "text": [
            "한국 도메인입니다.\n"
          ]
        }
      ]
    },
    {
      "cell_type": "code",
      "source": [
        "s=input(\"영어 문장을 입력하세요:\")\n",
        "i=0\n",
        "count=0\n",
        "print(\"모음:\",end='')\n",
        "while i<=len(s)-1:\n",
        "  if s[i] in 'aeiouAEIOU':\n",
        "    count+=1\n",
        "    print(s[i],end='')\n",
        "  i+=1  "
      ],
      "metadata": {
        "colab": {
          "base_uri": "https://localhost:8080/"
        },
        "id": "ltMulx3w0gA6",
        "outputId": "b0a87b65-fc25-44cf-9d4f-e412fa6b2a39"
      },
      "execution_count": 70,
      "outputs": [
        {
          "output_type": "stream",
          "name": "stdout",
          "text": [
            "영어 문장을 입력하세요:My favorite fruit is Vatermelon\n",
            "모음:aoieuiiaeeo"
          ]
        }
      ]
    }
  ]
}