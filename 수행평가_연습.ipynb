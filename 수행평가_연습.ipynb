{
  "nbformat": 4,
  "nbformat_minor": 0,
  "metadata": {
    "colab": {
      "provenance": [],
      "authorship_tag": "ABX9TyOmxNSqTtabzjg+AK2EEppS",
      "include_colab_link": true
    },
    "kernelspec": {
      "name": "python3",
      "display_name": "Python 3"
    },
    "language_info": {
      "name": "python"
    }
  },
  "cells": [
    {
      "cell_type": "markdown",
      "metadata": {
        "id": "view-in-github",
        "colab_type": "text"
      },
      "source": [
        "<a href=\"https://colab.research.google.com/github/JoHanGyun/python.if/blob/main/%EC%88%98%ED%96%89%ED%8F%89%EA%B0%80_%EC%97%B0%EC%8A%B5.ipynb\" target=\"_parent\"><img src=\"https://colab.research.google.com/assets/colab-badge.svg\" alt=\"Open In Colab\"/></a>"
      ]
    },
    {
      "cell_type": "code",
      "execution_count": 1,
      "metadata": {
        "colab": {
          "base_uri": "https://localhost:8080/"
        },
        "id": "bdqogLoL5f-T",
        "outputId": "61ae9824-acfc-4e74-a7b8-4a6146b84fa6"
      },
      "outputs": [
        {
          "output_type": "stream",
          "name": "stdout",
          "text": [
            "1 3 5 7 9 11 13 15 17 19 "
          ]
        }
      ],
      "source": [
        "for i in range(1,21,2):\n",
        "  print(i,end=\" \")"
      ]
    },
    {
      "cell_type": "code",
      "source": [
        "s=0\n",
        "for i in range(1,11):\n",
        "  s=s+i\n",
        "  print(\"num의 값:\",i,\"=> 합계:\",s)"
      ],
      "metadata": {
        "colab": {
          "base_uri": "https://localhost:8080/"
        },
        "id": "usJ5QOhE5rk5",
        "outputId": "005e5165-8794-41df-c942-8e3900c040d0"
      },
      "execution_count": 2,
      "outputs": [
        {
          "output_type": "stream",
          "name": "stdout",
          "text": [
            "num의 값: 1 => 합계: 1\n",
            "num의 값: 2 => 합계: 3\n",
            "num의 값: 3 => 합계: 6\n",
            "num의 값: 4 => 합계: 10\n",
            "num의 값: 5 => 합계: 15\n",
            "num의 값: 6 => 합계: 21\n",
            "num의 값: 7 => 합계: 28\n",
            "num의 값: 8 => 합계: 36\n",
            "num의 값: 9 => 합계: 45\n",
            "num의 값: 10 => 합계: 55\n"
          ]
        }
      ]
    },
    {
      "cell_type": "code",
      "source": [
        "n=int(input(\"숫자 입력:\"))\n",
        "f=1\n",
        "for i in range(1,n+1):\n",
        "  f=f*i\n",
        "print(i,\"!= \",f)"
      ],
      "metadata": {
        "colab": {
          "base_uri": "https://localhost:8080/"
        },
        "id": "9x8ge4Po6DOQ",
        "outputId": "139353a4-660a-4bce-ad95-0d85a78e8c19"
      },
      "execution_count": 5,
      "outputs": [
        {
          "output_type": "stream",
          "name": "stdout",
          "text": [
            "숫자 입력:10\n",
            "10 !=  3628800\n"
          ]
        }
      ]
    },
    {
      "cell_type": "code",
      "source": [
        "import random\n",
        "cnt=0\n",
        "guess=0\n",
        "answer=random.randint(1,100)\n",
        "print(\"정답:\",answer)\n",
        "while answer!=guess:\n",
        "  guess=int(input(\"숫자를 맞혀 보세요:\"))\n",
        "  cnt+=1\n",
        "  if guess>answer:\n",
        "    print(\"높음\")\n",
        "  else:\n",
        "    print(\"낮음\")\n",
        "print(\"축하합니다. 시도횟수 = \",cnt)      "
      ],
      "metadata": {
        "colab": {
          "base_uri": "https://localhost:8080/"
        },
        "id": "LHL9djps6bl4",
        "outputId": "01b8ba96-7a0a-4ed4-d9d4-bbf495150975"
      },
      "execution_count": 6,
      "outputs": [
        {
          "output_type": "stream",
          "name": "stdout",
          "text": [
            "정답: 55\n",
            "숫자를 맞혀 보세요:56\n",
            "높음\n",
            "숫자를 맞혀 보세요:55\n",
            "낮음\n",
            "축하합니다. 시도횟수 =  2\n"
          ]
        }
      ]
    },
    {
      "cell_type": "code",
      "source": [
        "n=int(input(\"정수를 입력하시오:\"))\n",
        "for i in range(1,n+1):\n",
        "  if n%i==0:\n",
        "    print(i,end=\" \")"
      ],
      "metadata": {
        "colab": {
          "base_uri": "https://localhost:8080/"
        },
        "id": "QWYtqMye7w5h",
        "outputId": "cbc337c8-cd3d-4859-92fb-0f50af46c93d"
      },
      "execution_count": 7,
      "outputs": [
        {
          "output_type": "stream",
          "name": "stdout",
          "text": [
            "정수를 입력하시오:6\n",
            "1 2 3 6 "
          ]
        }
      ]
    },
    {
      "cell_type": "code",
      "source": [
        "n=int(input(\"입력할 숫자 개수:\"))\n",
        "max=0\n",
        "for i in range(n):\n",
        "  num=int(input(\"입력할 숫자 개수:\"))\n",
        "  if num>max:\n",
        "    max=num\n",
        "    cnt=i+1\n",
        "print(\"가장 큰 수는 %d번째 수입니다.\"%cnt)    "
      ],
      "metadata": {
        "colab": {
          "base_uri": "https://localhost:8080/"
        },
        "id": "iBG1ga5t8Lq4",
        "outputId": "85a759f5-e592-440a-d331-a2bf2fb31410"
      },
      "execution_count": 8,
      "outputs": [
        {
          "output_type": "stream",
          "name": "stdout",
          "text": [
            "입력할 숫자 개수:5\n",
            "입력할 숫자 개수:20\n",
            "입력할 숫자 개수:8\n",
            "입력할 숫자 개수:123\n",
            "입력할 숫자 개수:5\n",
            "입력할 숫자 개수:7\n",
            "가장 큰 수는 3번째 수입니다.\n"
          ]
        }
      ]
    },
    {
      "cell_type": "code",
      "source": [
        "cnt=0\n",
        "for i in range(1,101):\n",
        "  if i%4==0:\n",
        "    print(i,end=\" \")\n",
        "    cnt+=1\n",
        "    if cnt%7==0:\n",
        "      print()"
      ],
      "metadata": {
        "colab": {
          "base_uri": "https://localhost:8080/"
        },
        "id": "Gi-iWut19Jlh",
        "outputId": "c99ee3af-bf5f-4758-a2de-fa7e90bab20e"
      },
      "execution_count": 9,
      "outputs": [
        {
          "output_type": "stream",
          "name": "stdout",
          "text": [
            "4 8 12 16 20 24 28 \n",
            "32 36 40 44 48 52 56 \n",
            "60 64 68 72 76 80 84 \n",
            "88 92 96 100 "
          ]
        }
      ]
    },
    {
      "cell_type": "code",
      "source": [
        "c=0\n",
        "n=int(input(\"숫자 입력:\"))\n",
        "for i in range(1,n+1):\n",
        "  if i%10==1:\n",
        "   c+=1\n",
        "print(\"일의 자리가 1인 수는\", c,\"개\")"
      ],
      "metadata": {
        "colab": {
          "base_uri": "https://localhost:8080/"
        },
        "id": "izzHSmsz9kOZ",
        "outputId": "acb5684d-b7ad-4c01-c82d-9d1a8d1da9d9"
      },
      "execution_count": 12,
      "outputs": [
        {
          "output_type": "stream",
          "name": "stdout",
          "text": [
            "숫자 입력:51\n",
            "일의 자리가 1인 수는 6 개\n"
          ]
        }
      ]
    },
    {
      "cell_type": "code",
      "source": [
        "print(\"3+4=?\")\n",
        "while True:\n",
        "  n=int(input(\"정답을 입력하시오:\"))\n",
        "  if n==7:\n",
        "    break\n",
        "print(\"참 잘했어요!\")    "
      ],
      "metadata": {
        "colab": {
          "base_uri": "https://localhost:8080/"
        },
        "id": "URq-47sX-K2J",
        "outputId": "631b8b32-81d1-4e9f-c99c-187fbaa4f6b2"
      },
      "execution_count": 13,
      "outputs": [
        {
          "output_type": "stream",
          "name": "stdout",
          "text": [
            "3+4=?\n",
            "정답을 입력하시오:5\n",
            "정답을 입력하시오:6\n",
            "정답을 입력하시오:7\n",
            "참 잘했어요!\n"
          ]
        }
      ]
    },
    {
      "cell_type": "code",
      "source": [
        "for i in range(10,51):\n",
        "  if i%3!=0:\n",
        "    print(i,end=\" \")"
      ],
      "metadata": {
        "colab": {
          "base_uri": "https://localhost:8080/"
        },
        "id": "Qf91n3JV-HHU",
        "outputId": "d26da26d-6d68-4506-f429-27dd46f81429"
      },
      "execution_count": 14,
      "outputs": [
        {
          "output_type": "stream",
          "name": "stdout",
          "text": [
            "10 11 13 14 16 17 19 20 22 23 25 26 28 29 31 32 34 35 37 38 40 41 43 44 46 47 49 50 "
          ]
        }
      ]
    },
    {
      "cell_type": "code",
      "source": [
        "import random\n",
        "again='y'\n",
        "print(\"주사위 게임을 시작합니다.\")\n",
        "while again=='y':\n",
        "  print(\"주사위를 던졌습니다.\")\n",
        "  me=random.randint(1,6)\n",
        "  you=random.randint(1,6)\n",
        "  \n",
        "  print(\"나:%d\" %me)\n",
        "  print(\"당신:%d\" %you)\n",
        "  \n",
        "  if me>you:\n",
        "    print(\"나의 승리!\")\n",
        "  elif me==you:\n",
        "    print(\"무승부!\")\n",
        "  else :\n",
        "    print(\"당신의 승리!\")\n",
        "  again=input(\"계속하려면 y를 입력하세요!\")        "
      ],
      "metadata": {
        "colab": {
          "base_uri": "https://localhost:8080/"
        },
        "id": "cv63t4Ng_HoK",
        "outputId": "4af6dffc-12f9-418a-e571-a64e8b03d5b7"
      },
      "execution_count": 18,
      "outputs": [
        {
          "name": "stdout",
          "output_type": "stream",
          "text": [
            "주사위 게임을 시작합니다.\n",
            "주사위를 던졌습니다.\n",
            "나:4\n",
            "당신:5\n",
            "당신의 승리!\n",
            "계속하려면 y를 입력하세요!y\n",
            "주사위를 던졌습니다.\n",
            "나:3\n",
            "당신:3\n",
            "무승부!\n",
            "계속하려면 y를 입력하세요!n\n"
          ]
        }
      ]
    },
    {
      "cell_type": "code",
      "source": [
        "num=int(input(\"숫자 입력:\"))\n",
        "while num!=0:\n",
        "  print(num%10,end='')\n",
        "  num=num//10"
      ],
      "metadata": {
        "colab": {
          "base_uri": "https://localhost:8080/"
        },
        "id": "awmNIJ-AAFBl",
        "outputId": "a450bb4b-580c-49ba-a4ca-e60fae96e8f7"
      },
      "execution_count": 21,
      "outputs": [
        {
          "output_type": "stream",
          "name": "stdout",
          "text": [
            "숫자 입력:10\n",
            "01"
          ]
        }
      ]
    },
    {
      "cell_type": "code",
      "source": [
        "max=0\n",
        "a=0\n",
        "b=0\n",
        "for i in range(1,100):\n",
        "  j=100-i\n",
        "  c=i*j\n",
        "  if c>max:\n",
        "    max=c\n",
        "    a=i\n",
        "    b=j\n",
        "print(f\"최대가 되는 경우: {a}*{b}={max}\")    "
      ],
      "metadata": {
        "colab": {
          "base_uri": "https://localhost:8080/"
        },
        "id": "n0B4CUs1A2Ty",
        "outputId": "95ceb476-2ad1-404e-bf86-f7cbef68f554"
      },
      "execution_count": 22,
      "outputs": [
        {
          "output_type": "stream",
          "name": "stdout",
          "text": [
            "최대가 되는 경우: 50*50=2500\n"
          ]
        }
      ]
    },
    {
      "cell_type": "code",
      "source": [
        "a=int(input(\"현재시:\"))\n",
        "b=int(input(\"현재분:\"))\n",
        "if b+20>60 and a<23:\n",
        "  a+=1\n",
        "  b-=40\n",
        "  print(\"20분뒤에는\",a,\"시\",b,\"분 입니다.\")\n",
        "elif b+20>60 and a==23:\n",
        "  a=0\n",
        "  b-=40\n",
        "  print(\"20분뒤에는\",a,\"시\",b,\"분 입니다.\")\n",
        "else:\n",
        "  b+=20\n",
        "  print(\"20분뒤에는\",a,\"시\",b,\"분 입니다.\")"
      ],
      "metadata": {
        "colab": {
          "base_uri": "https://localhost:8080/"
        },
        "id": "O-yC7aLeBmqD",
        "outputId": "ad75fefd-c251-4824-910a-f359093c06bc"
      },
      "execution_count": 23,
      "outputs": [
        {
          "output_type": "stream",
          "name": "stdout",
          "text": [
            "현재시:3\n",
            "현재분:10\n",
            "20분뒤에는 3 시 30 분 입니다.\n"
          ]
        }
      ]
    },
    {
      "cell_type": "code",
      "source": [
        "import random\n",
        "cnt=0\n",
        "guess=0\n",
        "answer=random.randint(1,100)\n",
        "print(\"정답:\",answer)\n",
        "while answer!=guess:\n",
        "  guess=int(input(\"숫자를 맞혀 보세요:\"))\n",
        "  cnt+=1\n",
        "  if guess>answer:\n",
        "    print(\"높음\")\n",
        "  else:\n",
        "    print(\"낮음\") \n",
        "print(\"축하합니다. 시도횟수=\",cnt)     "
      ],
      "metadata": {
        "colab": {
          "base_uri": "https://localhost:8080/"
        },
        "id": "VY3RYN78ClL2",
        "outputId": "12860560-8fe9-4b09-8e4e-aa580a34eae9"
      },
      "execution_count": 24,
      "outputs": [
        {
          "output_type": "stream",
          "name": "stdout",
          "text": [
            "정답: 64\n",
            "숫자를 맞혀 보세요:44\n",
            "낮음\n",
            "숫자를 맞혀 보세요:64\n",
            "낮음\n",
            "축하합니다. 시도횟수= 2\n"
          ]
        }
      ]
    },
    {
      "cell_type": "code",
      "source": [
        "n=int(input(\"숫자입력:\"))\n",
        "while n !=0:\n",
        "  print(n%10,end='')\n",
        "  n=n//10"
      ],
      "metadata": {
        "colab": {
          "base_uri": "https://localhost:8080/"
        },
        "id": "qIvf1Iv8DObU",
        "outputId": "657d34b3-021f-4194-88a8-cfb00e11d596"
      },
      "execution_count": 29,
      "outputs": [
        {
          "output_type": "stream",
          "name": "stdout",
          "text": [
            "숫자입력:321\n",
            "123"
          ]
        }
      ]
    },
    {
      "cell_type": "code",
      "source": [
        "n=int(input(\"숫자 입력:\"))\n",
        "while n!=0:\n",
        "  print(n%10,end='')\n",
        "  n=n//10"
      ],
      "metadata": {
        "colab": {
          "base_uri": "https://localhost:8080/"
        },
        "id": "SaXlMcNbD3Fc",
        "outputId": "6d293d5f-3833-4392-b17d-b3f65b89bc49"
      },
      "execution_count": 31,
      "outputs": [
        {
          "output_type": "stream",
          "name": "stdout",
          "text": [
            "숫자 입력:456\n",
            "654"
          ]
        }
      ]
    },
    {
      "cell_type": "code",
      "source": [
        "max=0\n",
        "a=0\n",
        "b=0\n",
        "for i in range(1,100):\n",
        "  j=100-i\n",
        "  c=i*j\n",
        "  if c>max:\n",
        "    max=c\n",
        "    a=i\n",
        "    b=j\n",
        "print(f\"최대가 되는 경우:{a}*{b}={max}\")    "
      ],
      "metadata": {
        "colab": {
          "base_uri": "https://localhost:8080/"
        },
        "id": "en3zV23ZEFNE",
        "outputId": "ef63a648-be57-4dcd-9fd6-200a4fb99bcc"
      },
      "execution_count": 32,
      "outputs": [
        {
          "output_type": "stream",
          "name": "stdout",
          "text": [
            "최대가 되는 경우:50*50=2500\n"
          ]
        }
      ]
    },
    {
      "cell_type": "code",
      "source": [
        "n=int(input(\"숫자 입력:\"))\n",
        "while n!=0:\n",
        "  print(n%10,end='')\n",
        "  n=n//10"
      ],
      "metadata": {
        "colab": {
          "base_uri": "https://localhost:8080/"
        },
        "id": "51fpfGHrEgFT",
        "outputId": "c86a7cc7-0ab2-438f-a6d7-d4c6f7e342d5"
      },
      "execution_count": 34,
      "outputs": [
        {
          "output_type": "stream",
          "name": "stdout",
          "text": [
            "숫자 입력:123456789\n",
            "987654321"
          ]
        }
      ]
    },
    {
      "cell_type": "code",
      "source": [
        "n=int(input(\"입력할 숫자 개수:\"))\n",
        "max=0\n",
        "num=n\n",
        "for i in range(n):\n",
        "  num=int(input(\"숫자 입력:\"))\n",
        "  if num>max:\n",
        "    max=num\n",
        "    maxi=i+1\n",
        "print(\"가장 큰 수는 \",maxi,\"번째 수입니다.\")    "
      ],
      "metadata": {
        "colab": {
          "base_uri": "https://localhost:8080/"
        },
        "id": "ipdR8reYEq8b",
        "outputId": "39c6faa2-314d-4c22-b3df-69e693be0f14"
      },
      "execution_count": 35,
      "outputs": [
        {
          "output_type": "stream",
          "name": "stdout",
          "text": [
            "입력할 숫자 개수:5\n",
            "숫자 입력:3\n",
            "숫자 입력:4\n",
            "숫자 입력:123\n",
            "숫자 입력:5\n",
            "숫자 입력:6\n",
            "가장 큰 수는  3 번째 수입니다.\n"
          ]
        }
      ]
    },
    {
      "cell_type": "code",
      "source": [
        "n=int(input(\"숫자 입력\"))\n",
        "while n!=0:\n",
        "  print(n%10,end='')\n",
        "  n=n//10"
      ],
      "metadata": {
        "colab": {
          "base_uri": "https://localhost:8080/"
        },
        "id": "Hn71J82fFheF",
        "outputId": "1de4f8ec-9ad6-4e85-cefc-c32468233522"
      },
      "execution_count": 36,
      "outputs": [
        {
          "output_type": "stream",
          "name": "stdout",
          "text": [
            "숫자 입력123\n",
            "321"
          ]
        }
      ]
    },
    {
      "cell_type": "code",
      "source": [
        "n=int(input(\"숫자 입력:\"))\n",
        "cnt=0\n",
        "for i in range(1,n+1):\n",
        "  if i%10==1:\n",
        "    cnt+=1\n",
        "print(\"일의 자리가 1인 수는\",cnt,\"개\")    "
      ],
      "metadata": {
        "colab": {
          "base_uri": "https://localhost:8080/"
        },
        "id": "Wybn61VzF769",
        "outputId": "42c36312-bdda-4b7a-a501-a8e4365f929f"
      },
      "execution_count": 39,
      "outputs": [
        {
          "output_type": "stream",
          "name": "stdout",
          "text": [
            "숫자 입력:51\n",
            "일의 자리가 1인 수는 6 개\n"
          ]
        }
      ]
    }
  ]
}