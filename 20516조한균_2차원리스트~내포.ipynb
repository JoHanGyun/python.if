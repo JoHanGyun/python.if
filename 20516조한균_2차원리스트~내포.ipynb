{
  "nbformat": 4,
  "nbformat_minor": 0,
  "metadata": {
    "colab": {
      "provenance": [],
      "authorship_tag": "ABX9TyN33/WVkLCaEuGdPCGJN0cb",
      "include_colab_link": true
    },
    "kernelspec": {
      "name": "python3",
      "display_name": "Python 3"
    },
    "language_info": {
      "name": "python"
    }
  },
  "cells": [
    {
      "cell_type": "markdown",
      "metadata": {
        "id": "view-in-github",
        "colab_type": "text"
      },
      "source": [
        "<a href=\"https://colab.research.google.com/github/JoHanGyun/python.if/blob/main/20516%EC%A1%B0%ED%95%9C%EA%B7%A0_2%EC%B0%A8%EC%9B%90%EB%A6%AC%EC%8A%A4%ED%8A%B8~%EB%82%B4%ED%8F%AC.ipynb\" target=\"_parent\"><img src=\"https://colab.research.google.com/assets/colab-badge.svg\" alt=\"Open In Colab\"/></a>"
      ]
    },
    {
      "cell_type": "code",
      "execution_count": 2,
      "metadata": {
        "colab": {
          "base_uri": "https://localhost:8080/"
        },
        "id": "GqxcVrNQNSdU",
        "outputId": "c75c0c0b-cc31-4252-9276-7948724690ef"
      },
      "outputs": [
        {
          "output_type": "execute_result",
          "data": {
            "text/plain": [
              "([10, 20, 30], [40, 50, 60])"
            ]
          },
          "metadata": {},
          "execution_count": 2
        }
      ],
      "source": [
        "#38\n",
        "numbers=[10,20,30],[40,50,60]\n",
        "numbers"
      ]
    },
    {
      "cell_type": "code",
      "source": [
        "print(numbers[0])\n",
        "print(numbers[1])"
      ],
      "metadata": {
        "colab": {
          "base_uri": "https://localhost:8080/"
        },
        "id": "VqVi1trNQecQ",
        "outputId": "234620d6-9cbe-4ecb-9d01-efdbc6a35ae7"
      },
      "execution_count": 3,
      "outputs": [
        {
          "output_type": "stream",
          "name": "stdout",
          "text": [
            "[10, 20, 30]\n",
            "[40, 50, 60]\n"
          ]
        }
      ]
    },
    {
      "cell_type": "code",
      "source": [
        "print(numbers[0][2])\n",
        "print(numbers[1][1])"
      ],
      "metadata": {
        "colab": {
          "base_uri": "https://localhost:8080/"
        },
        "id": "4-NEE8NSQek3",
        "outputId": "b73e485e-bed3-4cb4-f316-6903592fd956"
      },
      "execution_count": 5,
      "outputs": [
        {
          "output_type": "stream",
          "name": "stdout",
          "text": [
            "30\n",
            "50\n"
          ]
        }
      ]
    },
    {
      "cell_type": "code",
      "source": [
        "for sub in numbers:\n",
        "  for s in sub:\n",
        "    print(s,end=' ')"
      ],
      "metadata": {
        "colab": {
          "base_uri": "https://localhost:8080/"
        },
        "id": "gKcLUb_0Qen3",
        "outputId": "57c36fbf-5b0f-4e1e-bf62-eb151d567421"
      },
      "execution_count": 7,
      "outputs": [
        {
          "output_type": "stream",
          "name": "stdout",
          "text": [
            "10 20 30 40 50 60 "
          ]
        }
      ]
    },
    {
      "cell_type": "code",
      "source": [
        "data=[[10,20],[30,40],[50,60],[70,80]]\n",
        "\n",
        "for i in range(len(data)):\n",
        "  for j in range(len(data[i])):\n",
        "    print('%d'%(data[i][j]),end=' ')\n",
        "  print()    "
      ],
      "metadata": {
        "colab": {
          "base_uri": "https://localhost:8080/"
        },
        "id": "ftu5U-_8Qeq4",
        "outputId": "38e0dda8-cb1c-4987-c08d-e90cd979798d"
      },
      "execution_count": 15,
      "outputs": [
        {
          "output_type": "stream",
          "name": "stdout",
          "text": [
            "10 20 \n",
            "30 40 \n",
            "50 60 \n",
            "70 80 \n"
          ]
        }
      ]
    },
    {
      "cell_type": "code",
      "source": [
        "strings=[[\"원두커피\",\"라떼\",\"콜라\"],[\"우동\",\"국수\",\"피자\",\"파스타\"]]\n",
        "for i in range(len(strings)):\n",
        "  for j in range(len(strings[i])):\n",
        "    print('%s'%strings[i][j],end=' ')\n",
        "    print()    "
      ],
      "metadata": {
        "colab": {
          "base_uri": "https://localhost:8080/"
        },
        "id": "ZpvzqAPjQetn",
        "outputId": "e3f7d705-97a3-4e8b-eb4d-a6526729a1f3"
      },
      "execution_count": 14,
      "outputs": [
        {
          "output_type": "stream",
          "name": "stdout",
          "text": [
            "원두커피 라떼 콜라 \n",
            "우동 국수 피자 파스타 \n"
          ]
        }
      ]
    },
    {
      "cell_type": "code",
      "source": [
        "data=[[10,20,30],[40,50],[60,70,80,90]]\n",
        "print(data)\n",
        "for i in range(len(data)):\n",
        "  print(\"%d\"%data[i][0])"
      ],
      "metadata": {
        "colab": {
          "base_uri": "https://localhost:8080/"
        },
        "id": "xaH3vLqQTaVA",
        "outputId": "00ebf251-5346-44fd-fa78-e80416a8087f"
      },
      "execution_count": 17,
      "outputs": [
        {
          "output_type": "stream",
          "name": "stdout",
          "text": [
            "[[10, 20, 30], [40, 50], [60, 70, 80, 90]]\n",
            "10\n",
            "40\n",
            "60\n"
          ]
        }
      ]
    },
    {
      "cell_type": "code",
      "source": [
        "score=[[88,76,92,98],[65,70,58,82],[82,80,78,88]]\n",
        "total=0\n",
        "totalsub=0\n",
        "for i in score:\n",
        "  sum=0\n",
        "  for j in i:\n",
        "    sum+=j\n",
        "  subjects=len(i)\n",
        "  print(\"총점: \",sum,\"평균: \", sum/subjects) \n",
        "  total+=sum\n",
        "  totalsub+=subjects\n",
        "print(\"전체평균: \",total/totalsub)   "
      ],
      "metadata": {
        "colab": {
          "base_uri": "https://localhost:8080/"
        },
        "id": "46T8CJRfTaX_",
        "outputId": "479177c8-8d81-4f13-ef60-88e21d149130"
      },
      "execution_count": 19,
      "outputs": [
        {
          "output_type": "stream",
          "name": "stdout",
          "text": [
            "총점:  354 평균:  88.5\n",
            "총점:  275 평균:  68.75\n",
            "총점:  328 평균:  82.0\n",
            "전체평균:  79.75\n"
          ]
        }
      ]
    },
    {
      "cell_type": "code",
      "source": [
        "seats=[[0,0,0,0,0,0,0,0,0,0],\\\n",
        "       [0,0,0,0,0,0,0,0,0,0],\\\n",
        "       [0,0,0,0,0,0,0,0,0,0],\\\n",
        "       [1,1,1,0,0,0,0,0,1,0],\\\n",
        "       [0,0,0,0,0,1,0,1,0,0],\\\n",
        "       [0,0,0,0,0,0,1,0,0,0],\\\n",
        "       [1,0,1,0,0,0,0,0,0,1]]\n",
        "\n",
        "for i in range(len(seats)):\n",
        "  for j in range(len(seats)):\n",
        "    if seats[i][j]==0:\n",
        "      print('%3s'%'□',end='')\n",
        "    else:\n",
        "      print('%3s'%'■',end='')  \n",
        "  print()\n",
        "print('\\n※예약 가능: ■, 예약 불가: □')      \n"
      ],
      "metadata": {
        "colab": {
          "base_uri": "https://localhost:8080/"
        },
        "id": "qQF7XnSMpr4T",
        "outputId": "a099fa0c-b7d7-4f03-f6c2-35cae6162868"
      },
      "execution_count": 28,
      "outputs": [
        {
          "output_type": "stream",
          "name": "stdout",
          "text": [
            "  □  □  □  □  □  □  □\n",
            "  □  □  □  □  □  □  □\n",
            "  □  □  □  □  □  □  □\n",
            "  ■  ■  ■  □  □  □  □\n",
            "  □  □  □  □  □  ■  □\n",
            "  □  □  □  □  □  □  ■\n",
            "  ■  □  ■  □  □  □  □\n",
            "\n",
            "※예약 가능: ■, 예약 불가: □\n"
          ]
        }
      ]
    },
    {
      "cell_type": "code",
      "source": [
        "scores=[[96,84,80],[96,86,76],[89,96,69],[83,86,79],[85,90,83]]\n",
        "\n",
        "i=0\n",
        "while i<len(scores):\n",
        "  sum=0\n",
        "  j=0\n",
        "  while j<len(scores[i]):\n",
        "    sum+=scores[i][j]\n",
        "    j+=1\n",
        "  avg=sum/len(scores)\n",
        "  print(\"%d번째 학생의 합계: %d, 평균: %.2f\"%(i+1,sum,avg))  \n",
        "  i+=1"
      ],
      "metadata": {
        "colab": {
          "base_uri": "https://localhost:8080/"
        },
        "id": "ML-cGBeJpsWa",
        "outputId": "7942cb64-25f8-40f9-d826-d9e0981ce27e"
      },
      "execution_count": 34,
      "outputs": [
        {
          "output_type": "stream",
          "name": "stdout",
          "text": [
            "1번째 학생의 합계: 260, 평균: 52.00\n",
            "2번째 학생의 합계: 258, 평균: 51.60\n",
            "3번째 학생의 합계: 254, 평균: 50.80\n",
            "4번째 학생의 합계: 248, 평균: 49.60\n",
            "5번째 학생의 합계: 258, 평균: 51.60\n"
          ]
        }
      ]
    },
    {
      "cell_type": "code",
      "source": [
        "scores=[[96,84,80],[96,86,76],[76,95,83],[89,96,69],[83,86,79],[85,90,83]]\n",
        "i=0\n",
        "for i in range(len(scores)):\n",
        "  sum=0\n",
        "  for j in range(len(scores[i])):\n",
        "    sum+=scores[i][j]\n",
        "  avg=sum/len(scores[i])\n",
        "  print(\"%d번째 학생의 합계 : %d, 평균 : %.2f\"%(i+1,sum,avg))"
      ],
      "metadata": {
        "id": "qPZMHbrgpsjz"
      },
      "execution_count": null,
      "outputs": []
    },
    {
      "cell_type": "code",
      "source": [
        "[2*n for n in range(1,11)]"
      ],
      "metadata": {
        "colab": {
          "base_uri": "https://localhost:8080/"
        },
        "id": "vfRblCNvTaa3",
        "outputId": "665afba9-07f4-4b16-bfc7-853ce031e80f"
      },
      "execution_count": 25,
      "outputs": [
        {
          "output_type": "execute_result",
          "data": {
            "text/plain": [
              "[2, 4, 6, 8, 10, 12, 14, 16, 18, 20]"
            ]
          },
          "metadata": {},
          "execution_count": 25
        }
      ]
    },
    {
      "cell_type": "code",
      "source": [
        "num=[]\n",
        "for i in range(10):\n",
        "  num.append(i)\n",
        "print(num)  "
      ],
      "metadata": {
        "colab": {
          "base_uri": "https://localhost:8080/"
        },
        "id": "TttOYdTbTagn",
        "outputId": "9584fde1-1e12-4cf6-a7e8-5f62f0d5497f"
      },
      "execution_count": 21,
      "outputs": [
        {
          "output_type": "stream",
          "name": "stdout",
          "text": [
            "[0, 1, 2, 3, 4, 5, 6, 7, 8, 9]\n"
          ]
        }
      ]
    },
    {
      "cell_type": "code",
      "source": [
        "[i for i in range(10) if i%2==0]"
      ],
      "metadata": {
        "colab": {
          "base_uri": "https://localhost:8080/"
        },
        "id": "sqPDZsS2pQjU",
        "outputId": "5b59986d-83b4-4b48-b07d-4f7b5fafbddb"
      },
      "execution_count": 26,
      "outputs": [
        {
          "output_type": "execute_result",
          "data": {
            "text/plain": [
              "[0, 2, 4, 6, 8]"
            ]
          },
          "metadata": {},
          "execution_count": 26
        }
      ]
    },
    {
      "cell_type": "code",
      "source": [
        "[i*i for i in range(10)]"
      ],
      "metadata": {
        "colab": {
          "base_uri": "https://localhost:8080/"
        },
        "id": "4bEYDETcpWca",
        "outputId": "c6f3f757-0f65-4f1a-af13-114ef57c2637"
      },
      "execution_count": 23,
      "outputs": [
        {
          "output_type": "execute_result",
          "data": {
            "text/plain": [
              "[0, 1, 4, 9, 16, 25, 36, 49, 64, 81]"
            ]
          },
          "metadata": {},
          "execution_count": 23
        }
      ]
    },
    {
      "cell_type": "code",
      "source": [
        "[i*2 for i in range(10)]"
      ],
      "metadata": {
        "colab": {
          "base_uri": "https://localhost:8080/"
        },
        "id": "Kl5_SCG_pa_r",
        "outputId": "029c979d-33e7-4068-9ac9-d46545b0847a"
      },
      "execution_count": 24,
      "outputs": [
        {
          "output_type": "execute_result",
          "data": {
            "text/plain": [
              "[0, 2, 4, 6, 8, 10, 12, 14, 16, 18]"
            ]
          },
          "metadata": {},
          "execution_count": 24
        }
      ]
    },
    {
      "cell_type": "code",
      "source": [
        "even1=[i for i in range(100) if i%2==0]\n",
        "even2=[i for i in range(1,51) ]\n",
        "even3=[i for i in range(0,100,2) ]\n",
        "print(even1)\n",
        "print(even2)\n",
        "print(even3)"
      ],
      "metadata": {
        "colab": {
          "base_uri": "https://localhost:8080/"
        },
        "id": "v_X3lwf0uMiL",
        "outputId": "f69bc263-5479-484e-9ad7-df7e95f50447"
      },
      "execution_count": 33,
      "outputs": [
        {
          "output_type": "stream",
          "name": "stdout",
          "text": [
            "[0, 2, 4, 6, 8, 10, 12, 14, 16, 18, 20, 22, 24, 26, 28, 30, 32, 34, 36, 38, 40, 42, 44, 46, 48, 50, 52, 54, 56, 58, 60, 62, 64, 66, 68, 70, 72, 74, 76, 78, 80, 82, 84, 86, 88, 90, 92, 94, 96, 98]\n",
            "[1, 2, 3, 4, 5, 6, 7, 8, 9, 10, 11, 12, 13, 14, 15, 16, 17, 18, 19, 20, 21, 22, 23, 24, 25, 26, 27, 28, 29, 30, 31, 32, 33, 34, 35, 36, 37, 38, 39, 40, 41, 42, 43, 44, 45, 46, 47, 48, 49, 50]\n",
            "[0, 2, 4, 6, 8, 10, 12, 14, 16, 18, 20, 22, 24, 26, 28, 30, 32, 34, 36, 38, 40, 42, 44, 46, 48, 50, 52, 54, 56, 58, 60, 62, 64, 66, 68, 70, 72, 74, 76, 78, 80, 82, 84, 86, 88, 90, 92, 94, 96, 98]\n"
          ]
        }
      ]
    },
    {
      "cell_type": "code",
      "source": [
        "li=[]\n",
        "for n in range(1,10):\n",
        "  if(n%3==0):\n",
        "    li.append(n*n)\n",
        "print(li)    "
      ],
      "metadata": {
        "colab": {
          "base_uri": "https://localhost:8080/"
        },
        "id": "4h-xh2tlu1li",
        "outputId": "f120e913-aba5-4402-806b-aa186c7ddcfd"
      },
      "execution_count": 35,
      "outputs": [
        {
          "output_type": "stream",
          "name": "stdout",
          "text": [
            "[9, 36, 81]\n"
          ]
        }
      ]
    },
    {
      "cell_type": "code",
      "source": [
        "numbers=[1,2,3,4,5]\n",
        "result=[]\n",
        "for n in numbers:\n",
        "  if n%2==1:\n",
        "    result.append(n*2)\n",
        "print(result)    "
      ],
      "metadata": {
        "id": "yaurFgjou1oJ"
      },
      "execution_count": null,
      "outputs": []
    },
    {
      "cell_type": "code",
      "source": [
        "v=[17,92,18,33,58,7,33,42]\n",
        "\n",
        "max=v[0]\n",
        "\n",
        "for i in range(len(v)):\n",
        "  if v[i]>max:\n",
        "    max=v[i]\n",
        "print(\"최대값: %d\"%max)    "
      ],
      "metadata": {
        "colab": {
          "base_uri": "https://localhost:8080/"
        },
        "id": "iLMjb5fxu1qJ",
        "outputId": "d36680cd-59c4-4d9a-cfea-d5e441632c29"
      },
      "execution_count": 38,
      "outputs": [
        {
          "output_type": "stream",
          "name": "stdout",
          "text": [
            "최대값: 92\n"
          ]
        }
      ]
    },
    {
      "cell_type": "code",
      "source": [
        "for i in [1,2,3]:\n",
        "  for j in ['a','b','c']:\n",
        "    print(i*j,end=' ')"
      ],
      "metadata": {
        "colab": {
          "base_uri": "https://localhost:8080/"
        },
        "id": "uehdv4JBwUBy",
        "outputId": "cc5934b0-caaf-41ea-cb5a-7e1ceec8adc0"
      },
      "execution_count": 39,
      "outputs": [
        {
          "output_type": "stream",
          "name": "stdout",
          "text": [
            "a b c aa bb cc aaa bbb ccc "
          ]
        }
      ]
    },
    {
      "cell_type": "code",
      "source": [
        "list_a=[\"l\",\"study\",\"python\",\"language\",\"!\"]\n",
        "\n",
        "for i in list_a:\n",
        "  if len(i)>=3:\n",
        "    print(i)"
      ],
      "metadata": {
        "colab": {
          "base_uri": "https://localhost:8080/"
        },
        "id": "wSPfP-lfwUEY",
        "outputId": "d6a80880-a414-4575-c78c-7491598783cb"
      },
      "execution_count": 40,
      "outputs": [
        {
          "output_type": "stream",
          "name": "stdout",
          "text": [
            "study\n",
            "python\n",
            "language\n"
          ]
        }
      ]
    }
  ]
}