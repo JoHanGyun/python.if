{
  "nbformat": 4,
  "nbformat_minor": 0,
  "metadata": {
    "colab": {
      "provenance": [],
      "include_colab_link": true
    },
    "kernelspec": {
      "name": "python3",
      "display_name": "Python 3"
    },
    "language_info": {
      "name": "python"
    }
  },
  "cells": [
    {
      "cell_type": "markdown",
      "metadata": {
        "id": "view-in-github",
        "colab_type": "text"
      },
      "source": [
        "<a href=\"https://colab.research.google.com/github/JoHanGyun/python.if/blob/main/%EC%A1%B0%ED%95%9C%EA%B7%A0_0817.ipynb\" target=\"_parent\"><img src=\"https://colab.research.google.com/assets/colab-badge.svg\" alt=\"Open In Colab\"/></a>"
      ]
    },
    {
      "cell_type": "code",
      "execution_count": null,
      "metadata": {
        "id": "46KHfHnnv2PS",
        "colab": {
          "base_uri": "https://localhost:8080/"
        },
        "outputId": "be03a160-69a0-4460-a28a-76619c454457"
      },
      "outputs": [
        {
          "output_type": "stream",
          "name": "stdout",
          "text": [
            "Hello World!\n"
          ]
        }
      ],
      "source": [
        "def Hi():\n",
        "  print(\"Hello World!\")\n",
        "Hi()"
      ]
    },
    {
      "cell_type": "code",
      "source": [
        "def hi():\n",
        "  print(\"Hello World!\")\n",
        "hi()"
      ],
      "metadata": {
        "colab": {
          "base_uri": "https://localhost:8080/"
        },
        "id": "TRcydOqhyrdm",
        "outputId": "f05b6452-e52e-4340-c560-c9e10a3b11bc"
      },
      "execution_count": null,
      "outputs": [
        {
          "output_type": "stream",
          "name": "stdout",
          "text": [
            "Hello World!\n"
          ]
        }
      ]
    },
    {
      "cell_type": "code",
      "source": [
        "def triangle():\n",
        "  for i in range(5):\n",
        "    for j in range(i+1):\n",
        "      print('*',end='')\n",
        "    print()\n",
        "triangle()"
      ],
      "metadata": {
        "colab": {
          "base_uri": "https://localhost:8080/"
        },
        "id": "ABmLZT7i0E7g",
        "outputId": "b2138fdb-5f15-4509-9f04-d748c6fc351d"
      },
      "execution_count": null,
      "outputs": [
        {
          "output_type": "stream",
          "name": "stdout",
          "text": [
            "*\n",
            "**\n",
            "***\n",
            "****\n",
            "*****\n"
          ]
        }
      ]
    },
    {
      "cell_type": "code",
      "source": [
        "def name(name):\n",
        "  print(f\"내 이름은 {name}야. 만나서 반가워\")\n",
        "\n",
        "name(\"채송화\")\n",
        "name(\"아이유\")"
      ],
      "metadata": {
        "colab": {
          "base_uri": "https://localhost:8080/"
        },
        "id": "Fht4Sw052jmZ",
        "outputId": "7819abc7-56d2-4d0b-c0bd-8fb0638877a3"
      },
      "execution_count": null,
      "outputs": [
        {
          "output_type": "stream",
          "name": "stdout",
          "text": [
            "내 이름은 채송화야. 만나서 반가워\n",
            "내 이름은 아이유야. 만나서 반가워\n"
          ]
        }
      ]
    },
    {
      "cell_type": "code",
      "source": [
        "def even(a):\n",
        "  if a%2==0:\n",
        "    print(\"짝수\")\n",
        "  else:\n",
        "    print(\"홀수\")\n",
        "even(11)"
      ],
      "metadata": {
        "colab": {
          "base_uri": "https://localhost:8080/"
        },
        "id": "Bz-ZpDLp4Bbz",
        "outputId": "463ad7bf-0f8f-4ee4-f19c-b0f509b45bdf"
      },
      "execution_count": null,
      "outputs": [
        {
          "output_type": "stream",
          "name": "stdout",
          "text": [
            "홀수\n"
          ]
        }
      ]
    },
    {
      "cell_type": "code",
      "source": [
        "def triangle(n):\n",
        "  for i in range(n):\n",
        "    for j in range(i+1):\n",
        "      print('*',end='')\n",
        "    print()\n",
        "triangle(3)"
      ],
      "metadata": {
        "colab": {
          "base_uri": "https://localhost:8080/"
        },
        "id": "cr4q6YYl4Bgy",
        "outputId": "6fd0a3ed-e291-4b6e-967e-588174bd55e6"
      },
      "execution_count": null,
      "outputs": [
        {
          "output_type": "stream",
          "name": "stdout",
          "text": [
            "*\n",
            "**\n",
            "***\n"
          ]
        }
      ]
    },
    {
      "cell_type": "code",
      "source": [
        "def print_n_times(value,n):\n",
        "  for i in range(n):\n",
        "    print(value)\n",
        "print_n_times(\"안녕하세요\",2)\n",
        "print_n_times(\"반가워요\",3)"
      ],
      "metadata": {
        "colab": {
          "base_uri": "https://localhost:8080/"
        },
        "id": "i_XX0_229LyH",
        "outputId": "aae53cc2-35c2-4f00-d1ca-d626b243fc9e"
      },
      "execution_count": null,
      "outputs": [
        {
          "output_type": "stream",
          "name": "stdout",
          "text": [
            "안녕하세요\n",
            "안녕하세요\n"
          ]
        }
      ]
    },
    {
      "cell_type": "code",
      "source": [
        "def avg(a,b,c):\n",
        "  sum=a+b+c\n",
        "  print(sum/3)\n",
        "avg(3,5,10)"
      ],
      "metadata": {
        "colab": {
          "base_uri": "https://localhost:8080/"
        },
        "id": "sHZh44o74Bjy",
        "outputId": "7f7d3a58-fcee-4cb7-820a-363f86d4378b"
      },
      "execution_count": null,
      "outputs": [
        {
          "output_type": "stream",
          "name": "stdout",
          "text": [
            "6.0\n"
          ]
        }
      ]
    },
    {
      "cell_type": "code",
      "source": [
        "import random\n",
        "def dice_n_times(n):\n",
        "  for i in range(n):\n",
        "    k=random.randint(1,6)\n",
        "    print(i+1,\"번째 주사위 굴린 결과:\",k)\n",
        "dice_n_times(6)"
      ],
      "metadata": {
        "colab": {
          "base_uri": "https://localhost:8080/"
        },
        "id": "U8hTg84x4Bl0",
        "outputId": "3548f0f2-c697-4445-90bd-76622f2b7682"
      },
      "execution_count": null,
      "outputs": [
        {
          "output_type": "stream",
          "name": "stdout",
          "text": [
            "1 번째 주사위 굴린 결과: 2\n",
            "2 번째 주사위 굴린 결과: 1\n",
            "3 번째 주사위 굴린 결과: 1\n",
            "4 번째 주사위 굴린 결과: 4\n",
            "5 번째 주사위 굴린 결과: 3\n",
            "6 번째 주사위 굴린 결과: 2\n"
          ]
        }
      ]
    },
    {
      "cell_type": "code",
      "source": [
        "print('^^','안녕하세요','파이썬')"
      ],
      "metadata": {
        "id": "Xc82tHQbDFBn"
      },
      "execution_count": null,
      "outputs": []
    },
    {
      "cell_type": "code",
      "source": [
        "def intsum(*ints):\n",
        "  sum=0\n",
        "  for i in ints:  #for i in (1,2,3)\n",
        "    sum+=i\n",
        "  print(sum)\n",
        "intsum(1,2,3)\n",
        "intsum(5,7,9,11,13)\n",
        "intsum(8,9,6,2,9,7,5,8)"
      ],
      "metadata": {
        "colab": {
          "base_uri": "https://localhost:8080/"
        },
        "id": "YVzgPZWpDFEG",
        "outputId": "9bfd5dad-ddb3-410b-e9ed-37ea9fc21b49"
      },
      "execution_count": null,
      "outputs": [
        {
          "output_type": "stream",
          "name": "stdout",
          "text": [
            "6\n",
            "45\n",
            "54\n"
          ]
        }
      ]
    },
    {
      "cell_type": "code",
      "source": [
        "def print_n_times(n,*values):\n",
        "  for i in range(n):\n",
        "    for value in values:\n",
        "      print(value,end=' ')\n",
        "    print()\n",
        "print_n_times(3,\"안녕하세요\", \"즐거운\", \"파이썬\")"
      ],
      "metadata": {
        "colab": {
          "base_uri": "https://localhost:8080/"
        },
        "id": "ZfCRP2ivDFGe",
        "outputId": "21ce1341-9236-44c5-9d76-1d6320986e10"
      },
      "execution_count": null,
      "outputs": [
        {
          "output_type": "stream",
          "name": "stdout",
          "text": [
            "안녕하세요 즐거운 파이썬 \n",
            "안녕하세요 즐거운 파이썬 \n",
            "안녕하세요 즐거운 파이썬 \n"
          ]
        }
      ]
    },
    {
      "cell_type": "code",
      "source": [
        "def add_mul(choice,*args):\n",
        "  if choice==\"add\":\n",
        "    result=0\n",
        "    for i in args:\n",
        "      result=result+i\n",
        "  elif choice == \"mul\":\n",
        "    result=1\n",
        "    for i in args:\n",
        "      result=result*i\n",
        "  print(result)\n",
        "add_mul('add',1,2,3,4,5)\n",
        "add_mul('mul',1,2,3,4,5)"
      ],
      "metadata": {
        "colab": {
          "base_uri": "https://localhost:8080/"
        },
        "id": "ehmcBU86DFJG",
        "outputId": "a96a3d7c-8490-4e6d-a460-1d298492e510"
      },
      "execution_count": null,
      "outputs": [
        {
          "output_type": "stream",
          "name": "stdout",
          "text": [
            "15\n",
            "120\n"
          ]
        }
      ]
    },
    {
      "cell_type": "code",
      "source": [
        "def star(a,*args):\n",
        "  for i in args:\n",
        "    for j in range(i):\n",
        "      print(a,end='')\n",
        "    print()\n",
        "star('*',3,5,2)"
      ],
      "metadata": {
        "colab": {
          "base_uri": "https://localhost:8080/"
        },
        "id": "P_cHya_oDFLu",
        "outputId": "4b339a28-74ff-4afc-9bbf-66187fe05548"
      },
      "execution_count": null,
      "outputs": [
        {
          "output_type": "stream",
          "name": "stdout",
          "text": [
            "***\n",
            "*****\n",
            "**\n"
          ]
        }
      ]
    },
    {
      "cell_type": "code",
      "source": [
        "def print_n_times(value,n=2):\n",
        "  for i in range(n):\n",
        "    print(value)\n",
        "print_n_times(\"안녕하세요\")\n",
        "print_n_times(\"안녕히 가세요\",3)"
      ],
      "metadata": {
        "colab": {
          "base_uri": "https://localhost:8080/"
        },
        "id": "I0xoC9NYDFOO",
        "outputId": "dcdb56ad-8833-499a-d78b-c0517f5fc80a"
      },
      "execution_count": null,
      "outputs": [
        {
          "output_type": "stream",
          "name": "stdout",
          "text": [
            "안녕하세요\n",
            "안녕하세요\n",
            "안녕히 가세요\n",
            "안녕히 가세요\n",
            "안녕히 가세요\n"
          ]
        }
      ]
    },
    {
      "cell_type": "code",
      "source": [
        "def calcstep(begin,end,step=1):\n",
        "  sum=0\n",
        "  for num in range(begin,end+1,step):\n",
        "    sum+=num\n",
        "  print(f\"{begin}부터 {end}까지 숫자 중 {step}간격씩 더한 값은 {sum}\")\n",
        "calcstep(1,100,1)\n",
        "calcstep(1,100)"
      ],
      "metadata": {
        "colab": {
          "base_uri": "https://localhost:8080/"
        },
        "id": "PpiQbPEHDFRn",
        "outputId": "2cb006d1-c02c-4a28-c9dd-993ad1b943fe"
      },
      "execution_count": null,
      "outputs": [
        {
          "output_type": "stream",
          "name": "stdout",
          "text": [
            "1부터 100까지 숫자 중 1간격씩 더한 값은 5050\n",
            "1부터 100까지 숫자 중 1간격씩 더한 값은 5050\n"
          ]
        }
      ]
    },
    {
      "cell_type": "code",
      "source": [
        "def fn(a,b,c,d,e):\n",
        "  print(a,b,c,d,e)\n",
        "fn(1,2,3,4,5)\n",
        "fn(a=1,b=2,c=3,d=4,e=5)\n",
        "fn(e=5,c=3,b=2,a=1,d=4)\n",
        "fn(1,2,d=4,c=3,e=5)"
      ],
      "metadata": {
        "colab": {
          "base_uri": "https://localhost:8080/"
        },
        "id": "FW8yCd0bPQ_7",
        "outputId": "e3734fdb-4824-4fed-9157-707cf3108ae0"
      },
      "execution_count": null,
      "outputs": [
        {
          "output_type": "stream",
          "name": "stdout",
          "text": [
            "1 2 3 4 5\n",
            "1 2 3 4 5\n",
            "1 2 3 4 5\n",
            "1 2 3 4 5\n"
          ]
        }
      ]
    },
    {
      "cell_type": "code",
      "source": [
        "def return_test():\n",
        "  print(\"A위치입니다.\")\n",
        "  return\n",
        "  print(\"B위치입니다.\")\n",
        "return_test()"
      ],
      "metadata": {
        "colab": {
          "base_uri": "https://localhost:8080/"
        },
        "id": "EL2rfjhbPztg",
        "outputId": "a12d9707-672c-443c-a746-fec586218315"
      },
      "execution_count": null,
      "outputs": [
        {
          "output_type": "stream",
          "name": "stdout",
          "text": [
            "A위치입니다.\n"
          ]
        }
      ]
    },
    {
      "cell_type": "code",
      "source": [
        "def return_test():\n",
        "  return 100\n",
        "value=return_test()\n",
        "print(value)"
      ],
      "metadata": {
        "colab": {
          "base_uri": "https://localhost:8080/"
        },
        "id": "a0yWsDkXPzv3",
        "outputId": "8295e091-0f30-4f32-8822-5c868038e540"
      },
      "execution_count": null,
      "outputs": [
        {
          "output_type": "stream",
          "name": "stdout",
          "text": [
            "100\n"
          ]
        }
      ]
    },
    {
      "cell_type": "code",
      "source": [
        "def add(a,b):\n",
        "  return a+b\n",
        "value=add(123,300)\n",
        "print(value)"
      ],
      "metadata": {
        "colab": {
          "base_uri": "https://localhost:8080/"
        },
        "id": "DcszuIMwPzyP",
        "outputId": "f6b4da55-12c2-4930-92c6-f5f8c86aa679"
      },
      "execution_count": null,
      "outputs": [
        {
          "output_type": "stream",
          "name": "stdout",
          "text": [
            "423\n"
          ]
        }
      ]
    },
    {
      "cell_type": "code",
      "source": [
        "def big(a,b):\n",
        "  if a>b:\n",
        "    return a\n",
        "  else:\n",
        "    return b\n",
        "value=big(5,11)\n",
        "print(value)"
      ],
      "metadata": {
        "colab": {
          "base_uri": "https://localhost:8080/"
        },
        "id": "9kAXNTHLPz3W",
        "outputId": "707f6cf8-c050-4f8c-fc2d-4f8b2e063bcf"
      },
      "execution_count": null,
      "outputs": [
        {
          "output_type": "stream",
          "name": "stdout",
          "text": [
            "11\n"
          ]
        }
      ]
    },
    {
      "cell_type": "code",
      "source": [
        "def sum_to_n(n):\n",
        "  sum=0\n",
        "  for i in range(1,n+1):\n",
        "    sum+=i\n",
        "  print(sum)\n",
        "sum_to_n(10)"
      ],
      "metadata": {
        "colab": {
          "base_uri": "https://localhost:8080/"
        },
        "id": "NcYaCsgcUrlC",
        "outputId": "8ee20463-18dc-4233-c352-ead63452d010"
      },
      "execution_count": null,
      "outputs": [
        {
          "output_type": "stream",
          "name": "stdout",
          "text": [
            "55\n"
          ]
        }
      ]
    },
    {
      "cell_type": "code",
      "source": [
        "from re import I\n",
        "def min(*numbers):\n",
        "  min_value=numbers[0]\n",
        "  for num in numbers:\n",
        "    if min_value>num :\n",
        "      min_value=num\n",
        "  return min_value\n",
        "result=min(5,2,7,4)\n",
        "print(\"최소값:\",result)\n"
      ],
      "metadata": {
        "id": "wjnNF2_cUrnR",
        "colab": {
          "base_uri": "https://localhost:8080/"
        },
        "outputId": "a6e76640-fda4-4d51-b030-2ac6fca7599c"
      },
      "execution_count": null,
      "outputs": [
        {
          "output_type": "stream",
          "name": "stdout",
          "text": [
            "최소값: 2\n"
          ]
        }
      ]
    },
    {
      "cell_type": "code",
      "source": [],
      "metadata": {
        "id": "NExzXGbEUrqD"
      },
      "execution_count": null,
      "outputs": []
    },
    {
      "cell_type": "code",
      "source": [],
      "metadata": {
        "id": "Jr07v9zRUrsq"
      },
      "execution_count": null,
      "outputs": []
    },
    {
      "cell_type": "code",
      "source": [],
      "metadata": {
        "id": "xJsxBX9AUrvY"
      },
      "execution_count": null,
      "outputs": []
    },
    {
      "cell_type": "code",
      "source": [],
      "metadata": {
        "id": "HUMMrGu9Urxs"
      },
      "execution_count": null,
      "outputs": []
    }
  ]
}