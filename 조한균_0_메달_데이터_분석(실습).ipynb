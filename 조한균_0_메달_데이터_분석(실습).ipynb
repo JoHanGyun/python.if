{
  "nbformat": 4,
  "nbformat_minor": 0,
  "metadata": {
    "colab": {
      "provenance": [],
      "include_colab_link": true
    },
    "kernelspec": {
      "name": "python3",
      "display_name": "Python 3"
    },
    "language_info": {
      "name": "python"
    }
  },
  "cells": [
    {
      "cell_type": "markdown",
      "metadata": {
        "id": "view-in-github",
        "colab_type": "text"
      },
      "source": [
        "<a href=\"https://colab.research.google.com/github/JoHanGyun/python.if/blob/main/%EC%A1%B0%ED%95%9C%EA%B7%A0_0_%EB%A9%94%EB%8B%AC_%EB%8D%B0%EC%9D%B4%ED%84%B0_%EB%B6%84%EC%84%9D(%EC%8B%A4%EC%8A%B5).ipynb\" target=\"_parent\"><img src=\"https://colab.research.google.com/assets/colab-badge.svg\" alt=\"Open In Colab\"/></a>"
      ]
    },
    {
      "cell_type": "markdown",
      "source": [
        "#🥇 **올림픽 메달 분석하기**"
      ],
      "metadata": {
        "id": "5QIcmX7sUK9s"
      }
    },
    {
      "cell_type": "markdown",
      "source": [
        "###**※ <u>Colab에서 한글 사용을 위한 사전 작업</u> ※**\n",
        "- 코랩에서 한글을 사용하려면 런타임을 실행중인 가상머신(VM)에 한글폰트를 설치해야 한다.\n",
        "- 설치가 완료되면 최상위 디렉터리에서 usr/share/fonts 밑에 폰트가 추가된다.\n",
        "- 폰트의 설치가 완료된 후에는 <u>런타임을 재시작해야 설치된 폰트를 정상적으로 사용</u>할 수 있다. <br>\n",
        "<font color='tomato'>★ 재시작 방법 : [런타임] > [런타임 재시작]</font>"
      ],
      "metadata": {
        "id": "EW37lfb8I-yh"
      }
    },
    {
      "cell_type": "code",
      "source": [
        "# 한글 나눔글꼴을 설치하기 위한 셸 명령어 실행, 실행 후 런타임 재시작\n",
        "!sudo apt-get install -y fonts-nanum\n",
        "!sudo fc-cache -fv\n",
        "!rm ~/.cache/matplotlib -rf"
      ],
      "metadata": {
        "id": "-hZsDMiwakvI",
        "colab": {
          "base_uri": "https://localhost:8080/"
        },
        "outputId": "5cf9d1e0-03d3-4be2-d4c8-3980c316bf90"
      },
      "execution_count": 2,
      "outputs": [
        {
          "output_type": "stream",
          "name": "stdout",
          "text": [
            "Reading package lists... Done\n",
            "Building dependency tree... Done\n",
            "Reading state information... Done\n",
            "fonts-nanum is already the newest version (20200506-1).\n",
            "0 upgraded, 0 newly installed, 0 to remove and 16 not upgraded.\n",
            "/usr/share/fonts: caching, new cache contents: 0 fonts, 1 dirs\n",
            "/usr/share/fonts/truetype: caching, new cache contents: 0 fonts, 3 dirs\n",
            "/usr/share/fonts/truetype/humor-sans: caching, new cache contents: 1 fonts, 0 dirs\n",
            "/usr/share/fonts/truetype/liberation: caching, new cache contents: 16 fonts, 0 dirs\n",
            "/usr/share/fonts/truetype/nanum: caching, new cache contents: 12 fonts, 0 dirs\n",
            "/usr/local/share/fonts: caching, new cache contents: 0 fonts, 0 dirs\n",
            "/root/.local/share/fonts: skipping, no such directory\n",
            "/root/.fonts: skipping, no such directory\n",
            "/usr/share/fonts/truetype: skipping, looped directory detected\n",
            "/usr/share/fonts/truetype/humor-sans: skipping, looped directory detected\n",
            "/usr/share/fonts/truetype/liberation: skipping, looped directory detected\n",
            "/usr/share/fonts/truetype/nanum: skipping, looped directory detected\n",
            "/var/cache/fontconfig: cleaning cache directory\n",
            "/root/.cache/fontconfig: not cleaning non-existent cache directory\n",
            "/root/.fontconfig: not cleaning non-existent cache directory\n",
            "fc-cache: succeeded\n"
          ]
        }
      ]
    },
    {
      "cell_type": "markdown",
      "source": [
        "###**※ <u>반복 가능한 객체와 enumerate() 함수</u> ※**\n",
        "- enumerate()는 리스트(튜플, 문자열)의 인덱스와 요소를 포함하는 enumerate 객체를 반환한다.\n",
        "- enumerate 객체는 반복 가능한(iterable) 객체로, for문에서 사용할 수 있다. (Ex. 리스트, 튜플, 문자열, range, enumerate)\n",
        "- 리스트의 요소를 반복할 때 현재 인덱스가 몇번째인지 확인해야 하는 경우 사용한다."
      ],
      "metadata": {
        "id": "6AFkY-42Hg7o"
      }
    },
    {
      "cell_type": "code",
      "source": [
        "fruits =['사과', '키위', '바나나']"
      ],
      "metadata": {
        "id": "7crBE9ifIpBL"
      },
      "execution_count": 1,
      "outputs": []
    },
    {
      "cell_type": "code",
      "source": [
        "# enumerate() 함수 반환값 살펴보기\n",
        "print(enumerate(fruits))"
      ],
      "metadata": {
        "id": "IzZ4C-aTIrX_",
        "colab": {
          "base_uri": "https://localhost:8080/"
        },
        "outputId": "c142873e-9c4f-4d4e-eab1-e664e5ba0803"
      },
      "execution_count": 2,
      "outputs": [
        {
          "output_type": "stream",
          "name": "stdout",
          "text": [
            "<enumerate object at 0x7c3e60200d80>\n"
          ]
        }
      ]
    },
    {
      "cell_type": "code",
      "source": [
        "# enumerate() 함수 반환값의 타입 살펴보기\n",
        "print(type(enumerate(fruits)))"
      ],
      "metadata": {
        "id": "5pPq9oxUI-6g",
        "colab": {
          "base_uri": "https://localhost:8080/"
        },
        "outputId": "6a2bb2bd-b3c0-438d-86ef-6e651394e7ce"
      },
      "execution_count": 3,
      "outputs": [
        {
          "output_type": "stream",
          "name": "stdout",
          "text": [
            "<class 'enumerate'>\n"
          ]
        }
      ]
    },
    {
      "cell_type": "code",
      "source": [
        "# enumerate() 함수 반환값을 리스트로 변환하여 살펴보기\n",
        "print(list(enumerate(fruits)))"
      ],
      "metadata": {
        "id": "jbTcEY28Isw8",
        "colab": {
          "base_uri": "https://localhost:8080/"
        },
        "outputId": "f716c8d3-572d-452a-ea72-583bd887ef72"
      },
      "execution_count": 4,
      "outputs": [
        {
          "output_type": "stream",
          "name": "stdout",
          "text": [
            "[(0, '사과'), (1, '키위'), (2, '바나나')]\n"
          ]
        }
      ]
    },
    {
      "cell_type": "code",
      "source": [
        "# for문에서 enumerate() 함수 사용하기\n",
        "for i, val in enumerate(fruits):\n",
        "  print(f'{i}번째 요소는 {val}')"
      ],
      "metadata": {
        "id": "9ozXx0sVIxuF",
        "colab": {
          "base_uri": "https://localhost:8080/"
        },
        "outputId": "f7362c2a-7fc8-45e7-ee35-9ddc50c99f08"
      },
      "execution_count": 5,
      "outputs": [
        {
          "output_type": "stream",
          "name": "stdout",
          "text": [
            "0번째 요소는 사과\n",
            "1번째 요소는 키위\n",
            "2번째 요소는 바나나\n"
          ]
        }
      ]
    },
    {
      "cell_type": "markdown",
      "source": [
        "위 코드를 enumerate()를 사용하지 않고 다른 방법으로 해결해보자."
      ],
      "metadata": {
        "id": "NqdUJzD94tB_"
      }
    },
    {
      "cell_type": "code",
      "source": [
        "# 인덱스와 과일이름 함께 출력하기\n",
        "for i in range(len(fruits)):\n",
        "  print(i,\"번째 요소는\",fruits[i])"
      ],
      "metadata": {
        "id": "0_XaqKGa4qRv",
        "colab": {
          "base_uri": "https://localhost:8080/"
        },
        "outputId": "baae821a-b415-48d6-ac8c-a8c7c26b253c"
      },
      "execution_count": 10,
      "outputs": [
        {
          "output_type": "stream",
          "name": "stdout",
          "text": [
            "0 번째 요소는 사과\n",
            "1 번째 요소는 키위\n",
            "2 번째 요소는 바나나\n"
          ]
        }
      ]
    },
    {
      "cell_type": "code",
      "source": [
        "for val in fruits:\n",
        "  print(f'{i}번째 요소는 {val}')\n",
        "  i+=1"
      ],
      "metadata": {
        "colab": {
          "base_uri": "https://localhost:8080/"
        },
        "id": "Me2ywL7sODXg",
        "outputId": "b7c8fbf1-90e7-42a2-960b-909275a75658"
      },
      "execution_count": 17,
      "outputs": [
        {
          "output_type": "stream",
          "name": "stdout",
          "text": [
            "1번째 요소는 사과\n",
            "2번째 요소는 키위\n",
            "3번째 요소는 바나나\n"
          ]
        }
      ]
    },
    {
      "cell_type": "markdown",
      "source": [
        "###**▶ 파이썬 리스트 복습하기**\n",
        "> 데이터 분석 실습에서 분석할 데이터는 주로 리스트로 취급하여 처리할 것이다. <br>\n",
        "앞으로의 실습을 위해 파이썬의 리스트와 반복문을 복습해보자."
      ],
      "metadata": {
        "id": "6BmSN_7WwEIP"
      }
    },
    {
      "cell_type": "markdown",
      "source": [],
      "metadata": {
        "id": "NLfPtOD-1JBm"
      }
    },
    {
      "cell_type": "markdown",
      "source": [
        "1. 올림픽 메달 획득 현황을 나타내는 2차원 리스트 \"medals\"을 만들어보자.<br>\n",
        " - 리스트의 요소는 각각 국가명, 금메달, 은메달, 동메달의 개수를 의미한다. (예) 미국은 금 46개, 은 37개, 동 38개 획득\n",
        "  - 요소의 순서는 해당 국가의 올림픽 종합 순위에 따라 정렬되어 있다."
      ],
      "metadata": {
        "id": "VEhbzg5j8S7T"
      }
    },
    {
      "cell_type": "code",
      "source": [
        "medals = [['미국', 46, 37, 38], ['영국', 27, 23, 17], ['중국', 26, 18, 26], ['러시아', 19, 18, 19], ['독일', 17, 10, 15], ['일본', 12, 8, 21], ['프랑스', 10, 18, 14], ['대한민국', 9, 3, 9]]"
      ],
      "metadata": {
        "id": "5vsr4DNRBGT7"
      },
      "execution_count": 14,
      "outputs": []
    },
    {
      "cell_type": "markdown",
      "source": [
        "2. 국가별로 획득한 전체 메달 수를 국가별 리스트의 마지막 요소로 추가해보자. (※ sum(리스트) : 리스트의 모든 요소의 총합)"
      ],
      "metadata": {
        "id": "cxZiEjmbjGJF"
      }
    },
    {
      "cell_type": "code",
      "source": [
        "for row in medals:\n",
        "  row.append(sum(row[1:]))"
      ],
      "metadata": {
        "id": "LE7gAZN1DL7E"
      },
      "execution_count": 15,
      "outputs": []
    },
    {
      "cell_type": "markdown",
      "source": [
        "3. 종합 순위를 국가별 리스트의 첫번째 요소로 추가해보자.\n"
      ],
      "metadata": {
        "id": "DRk1oaCGjkPP"
      }
    },
    {
      "cell_type": "code",
      "source": [
        "for i, row in enumerate(medals):\n",
        "  row.insert(0,i+1)"
      ],
      "metadata": {
        "id": "Zazahs0rDWYA"
      },
      "execution_count": 16,
      "outputs": []
    },
    {
      "cell_type": "markdown",
      "source": [
        "4. 다음 코드의 실행결과를 예상해보자.\n"
      ],
      "metadata": {
        "id": "XnreJIqc66i6"
      }
    },
    {
      "cell_type": "code",
      "source": [
        "medals"
      ],
      "metadata": {
        "id": "UYfEWRbR8SVF",
        "colab": {
          "base_uri": "https://localhost:8080/"
        },
        "outputId": "c5829025-0457-4c9d-a265-4f49a26ac17b"
      },
      "execution_count": 17,
      "outputs": [
        {
          "output_type": "execute_result",
          "data": {
            "text/plain": [
              "[[1, '미국', 46, 37, 38, 121],\n",
              " [2, '영국', 27, 23, 17, 67],\n",
              " [3, '중국', 26, 18, 26, 70],\n",
              " [4, '러시아', 19, 18, 19, 56],\n",
              " [5, '독일', 17, 10, 15, 42],\n",
              " [6, '일본', 12, 8, 21, 41],\n",
              " [7, '프랑스', 10, 18, 14, 42],\n",
              " [8, '대한민국', 9, 3, 9, 21]]"
            ]
          },
          "metadata": {},
          "execution_count": 17
        }
      ]
    },
    {
      "cell_type": "code",
      "source": [
        "medals[0]"
      ],
      "metadata": {
        "id": "iZV_L0DZ8VMw",
        "colab": {
          "base_uri": "https://localhost:8080/"
        },
        "outputId": "5df10a78-8a1d-49f1-b85c-2396961020b2"
      },
      "execution_count": 7,
      "outputs": [
        {
          "output_type": "execute_result",
          "data": {
            "text/plain": [
              "['미국', 46, 37, 38, 121]"
            ]
          },
          "metadata": {},
          "execution_count": 7
        }
      ]
    },
    {
      "cell_type": "code",
      "source": [
        "medals[0][1]"
      ],
      "metadata": {
        "id": "NZNJ8_PV8Wwa",
        "colab": {
          "base_uri": "https://localhost:8080/"
        },
        "outputId": "3561b1b0-9af7-459b-fee4-979f27b5f0a4"
      },
      "execution_count": 8,
      "outputs": [
        {
          "output_type": "execute_result",
          "data": {
            "text/plain": [
              "46"
            ]
          },
          "metadata": {},
          "execution_count": 8
        }
      ]
    },
    {
      "cell_type": "markdown",
      "source": [
        "5. 나라이름만 뽑아서 리스트 \"nation\"을 만들어보자."
      ],
      "metadata": {
        "id": "WK-I15xDukhV"
      }
    },
    {
      "cell_type": "code",
      "source": [
        "nation = []\n",
        "for row in medals:\n",
        "  nation.append(row[1])\n",
        "print(f'국가: {nation}')"
      ],
      "metadata": {
        "id": "0BTfk-B7BdvD",
        "colab": {
          "base_uri": "https://localhost:8080/"
        },
        "outputId": "0a602cd5-dabe-40ff-bbbc-e5469fa9303f"
      },
      "execution_count": 18,
      "outputs": [
        {
          "output_type": "stream",
          "name": "stdout",
          "text": [
            "국가: ['미국', '영국', '중국', '러시아', '독일', '일본', '프랑스', '대한민국']\n"
          ]
        }
      ]
    },
    {
      "cell_type": "markdown",
      "source": [
        "6. 나라별 금메달, 은메달, 동메달 개수를 뽑아서 리스트 \"gold\", \"silver\", \"bronze\"를 만들어보자."
      ],
      "metadata": {
        "id": "7xtSJFyDvGLm"
      }
    },
    {
      "cell_type": "code",
      "source": [
        "gold, silver, bronze = [], [], []\n",
        "for row in medals:\n",
        "  gold.append(row[2])\n",
        "  silver.append(row[3])\n",
        "  bronze.append(row[4])\n",
        "print(f'금메달 개수: {gold}')\n",
        "print(f'은메달 개수: {silver}')\n",
        "print(f'동메달 개수: {bronze}')"
      ],
      "metadata": {
        "id": "gsfr6W6ju5yY",
        "colab": {
          "base_uri": "https://localhost:8080/"
        },
        "outputId": "081baaea-0897-4221-c209-7c6bdc0568c5"
      },
      "execution_count": 19,
      "outputs": [
        {
          "output_type": "stream",
          "name": "stdout",
          "text": [
            "금메달 개수: [46, 27, 26, 19, 17, 12, 10, 9]\n",
            "은메달 개수: [37, 23, 18, 18, 10, 8, 18, 3]\n",
            "동메달 개수: [38, 17, 26, 19, 15, 21, 14, 9]\n"
          ]
        }
      ]
    },
    {
      "cell_type": "markdown",
      "source": [
        "###**▶ 파이썬 데이터 시각화 맛보기**\n",
        "> [맷플롯립(Matplotlib)](https://matplotlib.org/)은 파이썬에서 가장 많이 사용되는 데이터 시각화 패키지이다. <br>\n",
        "맷플롯립을 이용해 앞에서 생성한 올림픽 메달 데이터를 그래프로 그려보자."
      ],
      "metadata": {
        "id": "5FZlnZjhwR5T"
      }
    },
    {
      "cell_type": "markdown",
      "source": [
        "<u>＃준비작업 1. 맷플롯립(Matplotlib) 임포트 하기</u><br>\n",
        "외부 모듈에 정의된 함수, 클래스, 변수 등에 접근하려면 해당 모듈을 먼저 임포트 해야한다.<br>\n",
        "맷플롯립의 서브 패키지인 [파이플롯(pyplot)](https://matplotlib.org/stable/api/pyplot_summary.html)을 plt 라는 이름으로 임포트 해보자."
      ],
      "metadata": {
        "id": "Mc-PuJhkKwIy"
      }
    },
    {
      "cell_type": "code",
      "source": [
        "# Matplotlib 임포트\n",
        "import matplotlib.pyplot as plt"
      ],
      "metadata": {
        "id": "tfaDnfcEx2xP"
      },
      "execution_count": 11,
      "outputs": []
    },
    {
      "cell_type": "markdown",
      "source": [
        "<u>＃준비작업 2. 한글 사용 설정하기</u><br>\n",
        "맷플롯립은 기본적으로는 한글을 지원하지 않기 때문에 시스템에 설치된 한글 폰트를 사용하도록 별도로 지정해주는 작업이 필요하다.\n",
        "- 시스템에 폰트 설치하기\n",
        "- 맷플롯립에서 사용할 커스텀 폰트 설정하기\n",
        "\n",
        "폰트 첫 번째 셀에서 이미 설치했기 때문에 여기서는 맷플롯립 설정부터 시작한다.\n"
      ],
      "metadata": {
        "id": "MVEr8a4oMhWr"
      }
    },
    {
      "cell_type": "code",
      "source": [
        "# Matplotlib에서 사용할 폰트를 설치한 나눔글꼴로 설정\n",
        "plt.rc('font', family='NanumBarunGothic')"
      ],
      "metadata": {
        "id": "tJkvJz3VamUK"
      },
      "execution_count": 12,
      "outputs": []
    },
    {
      "cell_type": "markdown",
      "source": [
        "나라별 획득한 금메달의 개수를 꺾은선 그래프로 그려보자.\n",
        "- title() : 도표(axes)의 제목을 설정하는 함수\n",
        "- plot() : 데이터(x, y)를 도표(axes)에 선 또는 점으로 추가하는 함수\n",
        "- legend() : 도표(axes)에 범례를 추가하는 함수\n",
        "- show() : 그림(figure)을 화면에 보여주는 함수"
      ],
      "metadata": {
        "id": "pLUd7p0FiTUS"
      }
    },
    {
      "cell_type": "code",
      "source": [
        "# 도표(axes)의 제목 설정하기 (나라별 금메달 개수)\n",
        "plt.title(\"나라별 금메달 개수\")\n",
        "# 꺾은선 그래프 그리기\n",
        "plt.plot(nation,gold,color='gold',marker='o',label='금메달')\n",
        "# 범례 추가하기\n",
        "plt.legend()\n",
        "# 그래프 보여주기\n",
        "plt.show()"
      ],
      "metadata": {
        "id": "CUx_JjKuJlQG",
        "colab": {
          "base_uri": "https://localhost:8080/",
          "height": 451
        },
        "outputId": "70b2eba6-681c-4dc5-c6e8-916350effc05"
      },
      "execution_count": 26,
      "outputs": [
        {
          "output_type": "display_data",
          "data": {
            "text/plain": [
              "<Figure size 640x480 with 1 Axes>"
            ],
            "image/png": "[encoded data removed]"
          },
          "metadata": {}
        }
      ]
    },
    {
      "cell_type": "markdown",
      "source": [
        "나라별 획득한 은메달의 개수를 꺾은선 그래프로 그려보자."
      ],
      "metadata": {
        "id": "JQSaaPAWy81K"
      }
    },
    {
      "cell_type": "code",
      "source": [
        "# 도표(axes)의 제목 설정하기 (나라별 은메달 개수)\n",
        "plt.title(\"나라별 은메달 개수\")\n",
        "# 꺾은선 그래프 그리기\n",
        "plt.plot(nation,silver,color='gray',label='은메달')\n",
        "# 범례 추가하기\n",
        "plt.legend()\n",
        "# 그래프 보여주기\n",
        "plt.show()"
      ],
      "metadata": {
        "id": "p4E-rBrHwmxB",
        "colab": {
          "base_uri": "https://localhost:8080/",
          "height": 451
        },
        "outputId": "7a8fd01b-3dc9-40dd-85de-36d7e1109504"
      },
      "execution_count": 31,
      "outputs": [
        {
          "output_type": "display_data",
          "data": {
            "text/plain": [
              "<Figure size 640x480 with 1 Axes>"
            ],
            "image/png": "[encoded data removed]"
          },
          "metadata": {}
        }
      ]
    },
    {
      "cell_type": "markdown",
      "source": [
        "나라별 획득한 동메달의 개수를 꺾은선 그래프로 그려보자."
      ],
      "metadata": {
        "id": "oJWuAEllzBEo"
      }
    },
    {
      "cell_type": "code",
      "source": [
        "# 도표(axes)의 제목 설정하기 (나라별 동메달 개수)\n",
        "plt.title(\"나라별 동메달 개수\")\n",
        "# 꺾은선 그래프 그리기\n",
        "plt.plot(nation,bronze,color='orange',label='동메달')\n",
        "# 범례 추가하기\n",
        "plt.legend()\n",
        "# 그래프 보여주기\n",
        "plt.show()"
      ],
      "metadata": {
        "id": "tSGKlZXYKSzP",
        "colab": {
          "base_uri": "https://localhost:8080/",
          "height": 451
        },
        "outputId": "e0502fa3-00d5-4f80-cbc6-b2c88eaeadc1"
      },
      "execution_count": 33,
      "outputs": [
        {
          "output_type": "display_data",
          "data": {
            "text/plain": [
              "<Figure size 640x480 with 1 Axes>"
            ],
            "image/png": "[encoded data removed]"
          },
          "metadata": {}
        }
      ]
    },
    {
      "cell_type": "markdown",
      "source": [
        "나라별 획득한 세 종류 메달의 개수를 나타낸 꺾은선 그래프를 한 도표에 그려보자."
      ],
      "metadata": {
        "id": "ysBjW0ESzBfe"
      }
    },
    {
      "cell_type": "code",
      "source": [
        "# 도표(axes)의 제목 설정하기 (나라별 메달 개수)\n",
        "plt.title(\"나라별 메달 개수\")\n",
        "# 꺾은선 그래프 그리기\n",
        "plt.plot(nation,gold,color='gold',label='금메달')\n",
        "plt.plot(nation,silver,color='gray',label='은메달')\n",
        "plt.plot(nation,bronze,color='orange',label='동메달')\n",
        "# 범례 추가하기\n",
        "plt.legend()\n",
        "# 그래프 보여주기\n",
        "plt.show()"
      ],
      "metadata": {
        "id": "Uvtb2EWTNeye",
        "colab": {
          "base_uri": "https://localhost:8080/",
          "height": 451
        },
        "outputId": "4f97dac5-bd2a-4c86-9b28-c02795bc3dd5"
      },
      "execution_count": 35,
      "outputs": [
        {
          "output_type": "display_data",
          "data": {
            "text/plain": [
              "<Figure size 640x480 with 1 Axes>"
            ],
            "image/png": "[encoded data removed]"
          },
          "metadata": {}
        }
      ]
    }
  ]
}