{
  "nbformat": 4,
  "nbformat_minor": 0,
  "metadata": {
    "colab": {
      "provenance": [],
      "authorship_tag": "ABX9TyPNmI3Au0DhlAEx++U5g/UA",
      "include_colab_link": true
    },
    "kernelspec": {
      "name": "python3",
      "display_name": "Python 3"
    },
    "language_info": {
      "name": "python"
    }
  },
  "cells": [
    {
      "cell_type": "markdown",
      "metadata": {
        "id": "view-in-github",
        "colab_type": "text"
      },
      "source": [
        "<a href=\"https://colab.research.google.com/github/JoHanGyun/python.if/blob/main/Untitled2.ipynb\" target=\"_parent\"><img src=\"https://colab.research.google.com/assets/colab-badge.svg\" alt=\"Open In Colab\"/></a>"
      ]
    },
    {
      "cell_type": "markdown",
      "source": [
        "# page25\n"
      ],
      "metadata": {
        "id": "D1E7pjHHJ_Kb"
      }
    },
    {
      "cell_type": "code",
      "source": [
        "#27\n",
        "scores=[]\n",
        "\n",
        "while True:\n",
        "  score=int(input(\"성적을 입력하세요(종료:-1):\"))\n",
        "  if(score!=-1):\n",
        "    scores.append(score)\n",
        "  else:\n",
        "    break;\n",
        "print(scores)   "
      ],
      "metadata": {
        "colab": {
          "base_uri": "https://localhost:8080/"
        },
        "id": "-hEM3gaSJ-6E",
        "outputId": "8a266048-fcba-4899-e9ad-c6dfd546fc93"
      },
      "execution_count": 6,
      "outputs": [
        {
          "output_type": "stream",
          "name": "stdout",
          "text": [
            "성적을 입력하세요(종료:-1):99\n",
            "성적을 입력하세요(종료:-1):88\n",
            "성적을 입력하세요(종료:-1):-12\n",
            "성적을 입력하세요(종료:-1):-1\n",
            "[99, 88, -12]\n"
          ]
        }
      ]
    },
    {
      "cell_type": "code",
      "execution_count": 9,
      "metadata": {
        "colab": {
          "base_uri": "https://localhost:8080/"
        },
        "id": "95JG1xvpIc74",
        "outputId": "6d93ebab-cddc-44cd-f4cf-fbcc174be634"
      },
      "outputs": [
        {
          "output_type": "stream",
          "name": "stdout",
          "text": [
            "숫자를 입력하시오:5\n",
            "숫자를 입력하시오:4\n",
            "숫자를 입력하시오:2\n",
            "숫자를 입력하시오:6\n",
            "숫자를 입력하시오:7\n",
            "소트전 num= [5, 4, 2, 6, 7]\n",
            "소트후 num= [2, 4, 5, 6, 7]\n"
          ]
        }
      ],
      "source": [
        "#28\n",
        "num=[]\n",
        "for i in range(5):\n",
        "  num.append(int(input('숫자를 입력하시오:')))\n",
        "print('소트전 num=',num)\n",
        "num.sort()\n",
        "print('소트후 num=',num)  "
      ]
    },
    {
      "cell_type": "code",
      "source": [
        "#29\n",
        "emails=[[\"kim\", \"naver.com\"], [\"hwang\", \"hanmail.net\"], [\"lee\", \"korea.com\"], [\"choi\",  \"gmail.com\"]]\n",
        "email_new=[]\n",
        "for email in emails:\n",
        "  email_new.append(email[0]+'@'+email[1])\n",
        "print(email_new)"
      ],
      "metadata": {
        "colab": {
          "base_uri": "https://localhost:8080/"
        },
        "id": "ILawr05sQvwM",
        "outputId": "e5d0a0de-188d-441f-d571-db240a755d16"
      },
      "execution_count": 13,
      "outputs": [
        {
          "output_type": "stream",
          "name": "stdout",
          "text": [
            "['kim@naver.com', 'hwang@hanmail.net', 'lee@korea.com', 'choi@gmail.com']\n"
          ]
        }
      ]
    },
    {
      "cell_type": "code",
      "source": [
        "#30\n",
        "fruits=['apple','orange','banana']\n",
        "for i in range(3):\n",
        "  print(fruits[i])"
      ],
      "metadata": {
        "colab": {
          "base_uri": "https://localhost:8080/"
        },
        "id": "7Hs8-W-kQvzD",
        "outputId": "d017090a-fd33-4c18-ae92-d2aff647b99d"
      },
      "execution_count": 15,
      "outputs": [
        {
          "output_type": "stream",
          "name": "stdout",
          "text": [
            "apple\n",
            "orange\n",
            "banana\n"
          ]
        }
      ]
    },
    {
      "cell_type": "code",
      "source": [
        "#31\n",
        "s=\"Hello\"\n",
        "for i in s:\n",
        "  print(i)"
      ],
      "metadata": {
        "colab": {
          "base_uri": "https://localhost:8080/"
        },
        "id": "7j0ykreBXU2A",
        "outputId": "7d81b3ef-921c-4891-d012-871d9f4f2ddd"
      },
      "execution_count": 16,
      "outputs": [
        {
          "output_type": "stream",
          "name": "stdout",
          "text": [
            "H\n",
            "e\n",
            "l\n",
            "l\n",
            "o\n"
          ]
        }
      ]
    },
    {
      "cell_type": "code",
      "source": [
        "#32\n",
        "colors=[\"빨간색\",\"파란색\",\"노란색\",\"초록색\"]\n",
        "for color in colors:\n",
        "  print(\"나는 %s을 좋아한다\"%color)"
      ],
      "metadata": {
        "colab": {
          "base_uri": "https://localhost:8080/"
        },
        "id": "QbJfFWUSQv16",
        "outputId": "c5506599-5b13-413a-8003-56e399dba8df"
      },
      "execution_count": 17,
      "outputs": [
        {
          "output_type": "stream",
          "name": "stdout",
          "text": [
            "나는 빨간색을 좋아한다\n",
            "나는 파란색을 좋아한다\n",
            "나는 노란색을 좋아한다\n",
            "나는 초록색을 좋아한다\n"
          ]
        }
      ]
    },
    {
      "cell_type": "code",
      "source": [
        "#33\n",
        "numbers=[7,9,15,18,30,-3,7,12,-16,-12]\n",
        "sum=0\n",
        "for i in numbers:\n",
        "  sum=sum+i\n",
        "print(\"합계:%s\"%sum)"
      ],
      "metadata": {
        "colab": {
          "base_uri": "https://localhost:8080/"
        },
        "id": "42FpcAafQv46",
        "outputId": "5bacf9c8-f9c2-42eb-bc81-03e876f2b9fb"
      },
      "execution_count": 22,
      "outputs": [
        {
          "output_type": "stream",
          "name": "stdout",
          "text": [
            "합계:67\n"
          ]
        }
      ]
    },
    {
      "cell_type": "code",
      "source": [
        "#34\n",
        "score=[1,3,5,7,9,11,13]\n",
        "cnt=0\n",
        "for i in range(len(score)):\n",
        "  if score[i]<10:\n",
        "    print(score[i],end=' ')\n",
        "    cnt+=1\n",
        "print()\n",
        "print(\"10보다 작은 수의 개수:%s\"%cnt)"
      ],
      "metadata": {
        "colab": {
          "base_uri": "https://localhost:8080/"
        },
        "id": "Gu0X0EwAZpEP",
        "outputId": "ed2f3dd7-1283-497c-a48a-3f7a96af7d4f"
      },
      "execution_count": 32,
      "outputs": [
        {
          "output_type": "stream",
          "name": "stdout",
          "text": [
            "1 3 5 7 9 \n",
            "10보다 작은 수의 개수:5\n"
          ]
        }
      ]
    },
    {
      "cell_type": "code",
      "source": [
        "#35\n",
        "questions=['tr_in','b_s','_axi','air_lane']\n",
        "answers=['a','u','t','p']\n",
        "count=0\n",
        "\n",
        "for i in range(len(questions)):\n",
        "  q='%s에서 밑줄(_)안에 들어갈 알파벳은?'%questions[i]\n",
        "  s=input(q)\n",
        "  if s==answers[i]:\n",
        "    print('정답입니다.')\n",
        "    count+=1\n",
        "  else:\n",
        "    print('틀렸습니다.')  \n",
        "print('당신의 점수는 %d/4 입니다.'%count)"
      ],
      "metadata": {
        "colab": {
          "base_uri": "https://localhost:8080/"
        },
        "id": "mv-8JGnFcx4u",
        "outputId": "ea2909de-7659-47a3-843e-19bfc036ea9e"
      },
      "execution_count": 33,
      "outputs": [
        {
          "output_type": "stream",
          "name": "stdout",
          "text": [
            "tr_in에서 밑줄(_)안에 들어갈 알파벳은?a\n",
            "정답입니다.\n",
            "b_s에서 밑줄(_)안에 들어갈 알파벳은?u\n",
            "정답입니다.\n",
            "_axi에서 밑줄(_)안에 들어갈 알파벳은?t\n",
            "정답입니다.\n",
            "air_lane에서 밑줄(_)안에 들어갈 알파벳은?p\n",
            "정답입니다.\n",
            "당신의 점수는 4/4 입니다.\n"
          ]
        }
      ]
    },
    {
      "cell_type": "code",
      "source": [
        "#36\n",
        "score=[]\n",
        "sum=0\n",
        "for i in range(5):\n",
        "  "
      ],
      "metadata": {
        "id": "MezY9kGZglm3"
      },
      "execution_count": null,
      "outputs": []
    }
  ]
}