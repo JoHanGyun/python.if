{
  "nbformat": 4,
  "nbformat_minor": 0,
  "metadata": {
    "colab": {
      "provenance": [],
      "authorship_tag": "ABX9TyPWzw1eNdtEr6K9NoWb+4xW",
      "include_colab_link": true
    },
    "kernelspec": {
      "name": "python3",
      "display_name": "Python 3"
    },
    "language_info": {
      "name": "python"
    }
  },
  "cells": [
    {
      "cell_type": "markdown",
      "metadata": {
        "id": "view-in-github",
        "colab_type": "text"
      },
      "source": [
        "<a href=\"https://colab.research.google.com/github/JoHanGyun/python.if/blob/main/Untitled3.ipynb\" target=\"_parent\"><img src=\"https://colab.research.google.com/assets/colab-badge.svg\" alt=\"Open In Colab\"/></a>"
      ]
    },
    {
      "cell_type": "code",
      "execution_count": 2,
      "metadata": {
        "colab": {
          "base_uri": "https://localhost:8080/"
        },
        "id": "trYUtld3U8py",
        "outputId": "c904d796-3434-45d5-9a68-c3c5921baa43"
      },
      "outputs": [
        {
          "output_type": "stream",
          "name": "stdout",
          "text": [
            "토끼\n",
            "거북이\n",
            "사자\n",
            "호랑이\n"
          ]
        }
      ],
      "source": [
        "animals=['토끼','거북이','사자','호랑이']\n",
        "for i in range(len(animals)):\n",
        "  print(animals[i])"
      ]
    },
    {
      "cell_type": "code",
      "source": [
        "for i in animals:\n",
        "  print(i)"
      ],
      "metadata": {
        "colab": {
          "base_uri": "https://localhost:8080/"
        },
        "id": "eF_5-llGXL7a",
        "outputId": "d5663bfb-1710-4e2b-a27e-23ce2cbe1cb1"
      },
      "execution_count": 4,
      "outputs": [
        {
          "output_type": "stream",
          "name": "stdout",
          "text": [
            "토끼\n",
            "거북이\n",
            "사자\n",
            "호랑이\n"
          ]
        }
      ]
    },
    {
      "cell_type": "code",
      "source": [
        "nums=[1,2,3,4]\n",
        "nums.append(5)\n",
        "print(nums)\n",
        "\n",
        "nums.insert(2,99)\n",
        "print(nums)"
      ],
      "metadata": {
        "colab": {
          "base_uri": "https://localhost:8080/"
        },
        "id": "hhRh8CYHXL-B",
        "outputId": "1355b91c-bab3-4d71-b685-150f2aedcf5f"
      },
      "execution_count": 5,
      "outputs": [
        {
          "output_type": "stream",
          "name": "stdout",
          "text": [
            "[1, 2, 3, 4, 5]\n",
            "[1, 2, 99, 3, 4, 5]\n"
          ]
        }
      ]
    },
    {
      "cell_type": "code",
      "source": [
        "list1=[1,2,3,4,5]\n",
        "list2=[10,11]\n",
        "list1.extend(list2)\n",
        "print(list1)"
      ],
      "metadata": {
        "colab": {
          "base_uri": "https://localhost:8080/"
        },
        "id": "emyTJ_v0XMDA",
        "outputId": "47f004b7-4860-48ef-b42d-3a4eab4a8310"
      },
      "execution_count": 7,
      "outputs": [
        {
          "output_type": "stream",
          "name": "stdout",
          "text": [
            "[1, 2, 3, 4, 5, 10, 11]\n"
          ]
        }
      ]
    },
    {
      "cell_type": "code",
      "source": [
        "score=[88,95,70,100,99]\n",
        "print(\"100의 위치: \",score.index(100)+1)\n",
        "\n",
        "print(score.pop())\n",
        "print(score.pop())\n",
        "print(score.pop(1))\n",
        "print(score)"
      ],
      "metadata": {
        "colab": {
          "base_uri": "https://localhost:8080/"
        },
        "id": "aQE8WoP2XMFQ",
        "outputId": "a621edb6-3fe8-4ab2-bc18-f7df113b93c5"
      },
      "execution_count": 10,
      "outputs": [
        {
          "output_type": "stream",
          "name": "stdout",
          "text": [
            "100의 위치:  4\n",
            "99\n",
            "100\n",
            "95\n",
            "[88, 70]\n"
          ]
        }
      ]
    },
    {
      "cell_type": "code",
      "source": [
        "list1=['a','bb','c','d','aaa','c','ddd','aaa','b','cc','d','aaa']\n",
        "length=list1.count('aaa')\n",
        "print(length)"
      ],
      "metadata": {
        "colab": {
          "base_uri": "https://localhost:8080/"
        },
        "id": "Nx1SoHgHbu2-",
        "outputId": "c591a236-43c0-4285-ff19-3014862dfb0c"
      },
      "execution_count": 11,
      "outputs": [
        {
          "output_type": "stream",
          "name": "stdout",
          "text": [
            "3\n"
          ]
        }
      ]
    },
    {
      "cell_type": "code",
      "source": [
        "mylist=['사과','바나나','파인애플']\n",
        "mylist.append('키위')\n",
        "mylist.append('배')\n",
        "for a in mylist:\n",
        "  print(a)"
      ],
      "metadata": {
        "colab": {
          "base_uri": "https://localhost:8080/"
        },
        "id": "pAXF6mNhbu5m",
        "outputId": "1eaddeb9-c399-4535-a528-b3927be7512f"
      },
      "execution_count": 14,
      "outputs": [
        {
          "output_type": "stream",
          "name": "stdout",
          "text": [
            "사과\n",
            "바나나\n",
            "파인애플\n",
            "키위\n",
            "배\n"
          ]
        }
      ]
    },
    {
      "cell_type": "code",
      "source": [
        "emails=[[\"kim\",\"naver.com\"],[\"hwang\",\"hanmail.net\"],[\"lee\",\"korea.com\"],[\"choi\",\"gmail.com\"]]\n",
        "email_now=[]\n",
        "for email in emails:\n",
        "  email_now.append(email[0]+\"@\"+email[1])\n",
        "print(email_now)"
      ],
      "metadata": {
        "colab": {
          "base_uri": "https://localhost:8080/"
        },
        "id": "sJPFj6fcbu-l",
        "outputId": "1bc06fcd-0ee9-4ac3-fe41-e45b603d1126"
      },
      "execution_count": 17,
      "outputs": [
        {
          "output_type": "stream",
          "name": "stdout",
          "text": [
            "['kim@naver.com', 'hwang@hanmail.net', 'lee@korea.com', 'choi@gmail.com']\n"
          ]
        }
      ]
    },
    {
      "cell_type": "code",
      "source": [
        "score=[1,3,5,7,9,11,13]\n",
        "cnt=0\n",
        "for num in range(len(score)):\n",
        "  if score[num]<10:\n",
        "    cnt+=1\n",
        "    print(score[num],end=' ')\n",
        "print(\"\\n10보다 작은 수의 개수:\",cnt)"
      ],
      "metadata": {
        "colab": {
          "base_uri": "https://localhost:8080/"
        },
        "id": "ni4J8mZXXMHp",
        "outputId": "e19ee131-f214-4243-ac52-10b023ee644b"
      },
      "execution_count": 22,
      "outputs": [
        {
          "output_type": "stream",
          "name": "stdout",
          "text": [
            "1 3 5 7 9 \n",
            "10보다 작은 수의 개수: 5\n"
          ]
        }
      ]
    },
    {
      "cell_type": "code",
      "source": [
        "score=[]\n",
        "for i in range(5):\n",
        "  score.append(int(input(\"성적입력:\")))\n",
        "print(score)\n",
        "sum=0\n",
        "for s in score:\n",
        "  sum+=s\n",
        "print(f\"총점은{sum}이고 평균은{sum/len(score)}입니다.\")"
      ],
      "metadata": {
        "colab": {
          "base_uri": "https://localhost:8080/"
        },
        "id": "yKyrVNJSjGVl",
        "outputId": "ad485058-81cc-40ba-c445-88a179f40f9b"
      },
      "execution_count": 25,
      "outputs": [
        {
          "output_type": "stream",
          "name": "stdout",
          "text": [
            "성적입력:59\n",
            "성적입력:66\n",
            "성적입력:76\n",
            "성적입력:82\n",
            "성적입력:79\n",
            "[59, 66, 76, 82, 79]\n",
            "총점은362이고 평균은72.4입니다.\n"
          ]
        }
      ]
    },
    {
      "cell_type": "code",
      "source": [
        "data=[[10,20,30],[40,50],[60,70,80,90]]\n",
        "print(data)\n",
        "for i in range(3):\n",
        "  print(data[i][0])"
      ],
      "metadata": {
        "colab": {
          "base_uri": "https://localhost:8080/"
        },
        "id": "TgiLsAnNjGYc",
        "outputId": "3058594f-8b9e-4291-d34e-84a88a5d5b06"
      },
      "execution_count": 26,
      "outputs": [
        {
          "output_type": "stream",
          "name": "stdout",
          "text": [
            "[[10, 20, 30], [40, 50], [60, 70, 80, 90]]\n",
            "10\n",
            "40\n",
            "60\n"
          ]
        }
      ]
    },
    {
      "cell_type": "code",
      "source": [
        "score = [\n",
        "[88,76,92,98],\n",
        "[65,70,58,82],\n",
        "[82,80,78,88],\n",
        "]\n",
        "total = 0 #모든 학생 점수 합\n",
        "totalsub = 0 #모든 학생 과목 수\n",
        "for student in score:\n",
        "  sum = 0\n",
        "  for subject in student:\n",
        "    sum += subject\n",
        "  subjects = len(student) #한 학생의 과목 수\n",
        "  print(\"총점\" ,sum, \"평균 \" ,sum/subjects )\n",
        "  total +=sum\n",
        "  totalsub += subjects\n",
        "print(\"전체평균 \", total/totalsub)"
      ],
      "metadata": {
        "colab": {
          "base_uri": "https://localhost:8080/"
        },
        "id": "CnKfgMfUjGat",
        "outputId": "e8f436d1-a233-4683-883d-dd0539f9d531"
      },
      "execution_count": 30,
      "outputs": [
        {
          "output_type": "stream",
          "name": "stdout",
          "text": [
            "총점 354 평균  88.5\n",
            "총점 275 평균  68.75\n",
            "총점 328 평균  82.0\n",
            "전체평균  79.75\n"
          ]
        }
      ]
    },
    {
      "cell_type": "code",
      "source": [
        "questions = ['tr_in', 'b_s', '_axi', 'air_lane']\n",
        "answers = ['a', 'u', 't','p']\n",
        "count = 0\n",
        "for i in range(len(questions)) :\n",
        "  q = '%s 에서 밑줄(_) 안에 들어갈 알파벳은? ' %questions[i]\n",
        "  ans = input(ㅑq)\n",
        "  if ans == answers[i] :\n",
        "    print('정답입니다!')\n",
        "    count +=1\n",
        "  else :\n",
        "    print('틀렸습니다!')\n",
        "print(\"당신의 점수는 %d/4 입니다.\" %count)"
      ],
      "metadata": {
        "colab": {
          "base_uri": "https://localhost:8080/"
        },
        "id": "FY6YkPgZjGdV",
        "outputId": "20370bbe-7851-4895-8d87-dde1c97b3aad"
      },
      "execution_count": 31,
      "outputs": [
        {
          "output_type": "stream",
          "name": "stdout",
          "text": [
            "tr_in 에서 밑줄(_) 안에 들어갈 알파벳은? ㅁ\n",
            "틀렸습니다!\n",
            "b_s 에서 밑줄(_) 안에 들어갈 알파벳은? ㅑ\n",
            "틀렸습니다!\n",
            "_axi 에서 밑줄(_) 안에 들어갈 알파벳은? ㅅ\n",
            "틀렸습니다!\n",
            "air_lane 에서 밑줄(_) 안에 들어갈 알파벳은? ㅔ\n",
            "틀렸습니다!\n",
            "당신의 점수는 0/4 입니다.\n"
          ]
        }
      ]
    },
    {
      "cell_type": "code",
      "source": [],
      "metadata": {
        "id": "g0GA34NQjGfk"
      },
      "execution_count": null,
      "outputs": []
    },
    {
      "cell_type": "code",
      "source": [],
      "metadata": {
        "id": "kPjxtLnmjGo0"
      },
      "execution_count": null,
      "outputs": []
    },
    {
      "cell_type": "code",
      "source": [],
      "metadata": {
        "id": "leMen879jGr0"
      },
      "execution_count": null,
      "outputs": []
    }
  ]
}